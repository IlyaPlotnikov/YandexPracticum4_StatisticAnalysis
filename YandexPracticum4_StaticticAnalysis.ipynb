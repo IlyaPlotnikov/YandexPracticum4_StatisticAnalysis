{
 "cells": [
  {
   "cell_type": "markdown",
   "metadata": {},
   "source": [
    "<h1>Содержание<span class=\"tocSkip\"></span></h1>\n",
    "<div class=\"toc\"><ul class=\"toc-item\"><li><span><a href=\"#1.-Изучение-данных-из-файлов\" data-toc-modified-id=\"1.-Изучение-данных-из-файлов\"><span class=\"toc-item-num\">1&nbsp;&nbsp;</span>Изучение данных из файлов</a></span><ul class=\"toc-item\"><li><span><a href=\"#1.1-Вывод\" data-toc-modified-id=\"1.1-Вывод\"><span class=\"toc-item-num\">1.1&nbsp;&nbsp;</span>Вывод</a></span></li></ul></li><li><span><a href=\"#2.-Подготовка-данных\" data-toc-modified-id=\"2.-Подготовка-данных\"><span class=\"toc-item-num\">2&nbsp;&nbsp;</span>Подготовка данных</a></span></li><li><span><a href=\"#3.-Анализ-данных\" data-toc-modified-id=\"3.-Анализ-данных\"><span class=\"toc-item-num\">3&nbsp;&nbsp;</span>Анализ данных</a></span></li><li><span><a href=\"#4.-Проверка-гипотезы:\" data-toc-modified-id=\"4.-Проверка-гипотезы:\"><span class=\"toc-item-num\">4&nbsp;&nbsp;</span>Проверка гипотезы:</a></span></li><li><span><a href=\"#5.-Общий-вывод\" data-toc-modified-id=\"5.-Общий-вывод\"><span class=\"toc-item-num\">5&nbsp;&nbsp;</span>Общий вывод</a></span></li><li><span><a "
   ]
  },
  {
   "cell_type": "markdown",
   "metadata": {},
   "source": [
    "# Анализ тарифов компании «Мегалайн»\n",
    "\n",
    "Вы аналитик компании «Мегалайн» — федерального оператора сотовой связи. Клиентам предлагают два тарифных плана: «Смарт» и «Ультра». Чтобы скорректировать рекламный бюджет, коммерческий департамент хочет понять, какой тариф приносит больше денег.\n",
    "Вам предстоит сделать предварительный анализ тарифов на небольшой выборке клиентов. <p>\n",
    "    В вашем распоряжении данные 500 пользователей «Мегалайна»: кто они, откуда, каким тарифом пользуются, сколько звонков и сообщений каждый отправил за 2018 год. Нужно проанализировать поведение клиентов и сделать вывод — какой тариф лучше."
   ]
  },
  {
   "cell_type": "markdown",
   "metadata": {},
   "source": [
    "## 1. Изучение данных из файлов"
   ]
  },
  {
   "cell_type": "code",
   "execution_count": 1,
   "metadata": {},
   "outputs": [],
   "source": [
    "import pandas as pd\n",
    "import matplotlib.pyplot as plt\n",
    "from scipy import stats as st\n",
    "import math\n",
    "import numpy as np\n",
    "import seaborn as sns"
   ]
  },
  {
   "cell_type": "markdown",
   "metadata": {},
   "source": [
    "<div class=\"alert alert-info\">\n",
    " <font color='Blue'>\n",
    "     <b>Открываем файлы с данными и изучаем общую информацию (всего 5 файлов)"
   ]
  },
  {
   "cell_type": "code",
   "execution_count": 2,
   "metadata": {},
   "outputs": [
    {
     "name": "stdout",
     "output_type": "stream",
     "text": [
      "<class 'pandas.core.frame.DataFrame'>\n",
      "RangeIndex: 202607 entries, 0 to 202606\n",
      "Data columns (total 4 columns):\n",
      " #   Column     Non-Null Count   Dtype  \n",
      "---  ------     --------------   -----  \n",
      " 0   id         202607 non-null  object \n",
      " 1   call_date  202607 non-null  object \n",
      " 2   duration   202607 non-null  float64\n",
      " 3   user_id    202607 non-null  int64  \n",
      "dtypes: float64(1), int64(1), object(2)\n",
      "memory usage: 6.2+ MB\n"
     ]
    },
    {
     "data": {
      "text/html": [
       "<div>\n",
       "<style scoped>\n",
       "    .dataframe tbody tr th:only-of-type {\n",
       "        vertical-align: middle;\n",
       "    }\n",
       "\n",
       "    .dataframe tbody tr th {\n",
       "        vertical-align: top;\n",
       "    }\n",
       "\n",
       "    .dataframe thead th {\n",
       "        text-align: right;\n",
       "    }\n",
       "</style>\n",
       "<table border=\"1\" class=\"dataframe\">\n",
       "  <thead>\n",
       "    <tr style=\"text-align: right;\">\n",
       "      <th></th>\n",
       "      <th>id</th>\n",
       "      <th>call_date</th>\n",
       "      <th>duration</th>\n",
       "      <th>user_id</th>\n",
       "    </tr>\n",
       "  </thead>\n",
       "  <tbody>\n",
       "    <tr>\n",
       "      <th>0</th>\n",
       "      <td>1000_0</td>\n",
       "      <td>2018-07-25</td>\n",
       "      <td>0.00</td>\n",
       "      <td>1000</td>\n",
       "    </tr>\n",
       "    <tr>\n",
       "      <th>1</th>\n",
       "      <td>1000_1</td>\n",
       "      <td>2018-08-17</td>\n",
       "      <td>0.00</td>\n",
       "      <td>1000</td>\n",
       "    </tr>\n",
       "    <tr>\n",
       "      <th>2</th>\n",
       "      <td>1000_2</td>\n",
       "      <td>2018-06-11</td>\n",
       "      <td>2.85</td>\n",
       "      <td>1000</td>\n",
       "    </tr>\n",
       "    <tr>\n",
       "      <th>3</th>\n",
       "      <td>1000_3</td>\n",
       "      <td>2018-09-21</td>\n",
       "      <td>13.80</td>\n",
       "      <td>1000</td>\n",
       "    </tr>\n",
       "    <tr>\n",
       "      <th>4</th>\n",
       "      <td>1000_4</td>\n",
       "      <td>2018-12-15</td>\n",
       "      <td>5.18</td>\n",
       "      <td>1000</td>\n",
       "    </tr>\n",
       "  </tbody>\n",
       "</table>\n",
       "</div>"
      ],
      "text/plain": [
       "       id   call_date  duration  user_id\n",
       "0  1000_0  2018-07-25      0.00     1000\n",
       "1  1000_1  2018-08-17      0.00     1000\n",
       "2  1000_2  2018-06-11      2.85     1000\n",
       "3  1000_3  2018-09-21     13.80     1000\n",
       "4  1000_4  2018-12-15      5.18     1000"
      ]
     },
     "execution_count": 2,
     "metadata": {},
     "output_type": "execute_result"
    }
   ],
   "source": [
    "df_calls=pd.read_csv('/datasets/calls.csv') # открываем файл calls.csv\n",
    "df_calls.info()\n",
    "df_calls.head()"
   ]
  },
  {
   "cell_type": "code",
   "execution_count": 3,
   "metadata": {},
   "outputs": [
    {
     "name": "stdout",
     "output_type": "stream",
     "text": [
      "<class 'pandas.core.frame.DataFrame'>\n",
      "RangeIndex: 149396 entries, 0 to 149395\n",
      "Data columns (total 5 columns):\n",
      " #   Column        Non-Null Count   Dtype  \n",
      "---  ------        --------------   -----  \n",
      " 0   Unnamed: 0    149396 non-null  int64  \n",
      " 1   id            149396 non-null  object \n",
      " 2   mb_used       149396 non-null  float64\n",
      " 3   session_date  149396 non-null  object \n",
      " 4   user_id       149396 non-null  int64  \n",
      "dtypes: float64(1), int64(2), object(2)\n",
      "memory usage: 5.7+ MB\n"
     ]
    },
    {
     "data": {
      "text/html": [
       "<div>\n",
       "<style scoped>\n",
       "    .dataframe tbody tr th:only-of-type {\n",
       "        vertical-align: middle;\n",
       "    }\n",
       "\n",
       "    .dataframe tbody tr th {\n",
       "        vertical-align: top;\n",
       "    }\n",
       "\n",
       "    .dataframe thead th {\n",
       "        text-align: right;\n",
       "    }\n",
       "</style>\n",
       "<table border=\"1\" class=\"dataframe\">\n",
       "  <thead>\n",
       "    <tr style=\"text-align: right;\">\n",
       "      <th></th>\n",
       "      <th>Unnamed: 0</th>\n",
       "      <th>id</th>\n",
       "      <th>mb_used</th>\n",
       "      <th>session_date</th>\n",
       "      <th>user_id</th>\n",
       "    </tr>\n",
       "  </thead>\n",
       "  <tbody>\n",
       "    <tr>\n",
       "      <th>0</th>\n",
       "      <td>0</td>\n",
       "      <td>1000_0</td>\n",
       "      <td>112.95</td>\n",
       "      <td>2018-11-25</td>\n",
       "      <td>1000</td>\n",
       "    </tr>\n",
       "    <tr>\n",
       "      <th>1</th>\n",
       "      <td>1</td>\n",
       "      <td>1000_1</td>\n",
       "      <td>1052.81</td>\n",
       "      <td>2018-09-07</td>\n",
       "      <td>1000</td>\n",
       "    </tr>\n",
       "    <tr>\n",
       "      <th>2</th>\n",
       "      <td>2</td>\n",
       "      <td>1000_2</td>\n",
       "      <td>1197.26</td>\n",
       "      <td>2018-06-25</td>\n",
       "      <td>1000</td>\n",
       "    </tr>\n",
       "    <tr>\n",
       "      <th>3</th>\n",
       "      <td>3</td>\n",
       "      <td>1000_3</td>\n",
       "      <td>550.27</td>\n",
       "      <td>2018-08-22</td>\n",
       "      <td>1000</td>\n",
       "    </tr>\n",
       "    <tr>\n",
       "      <th>4</th>\n",
       "      <td>4</td>\n",
       "      <td>1000_4</td>\n",
       "      <td>302.56</td>\n",
       "      <td>2018-09-24</td>\n",
       "      <td>1000</td>\n",
       "    </tr>\n",
       "  </tbody>\n",
       "</table>\n",
       "</div>"
      ],
      "text/plain": [
       "   Unnamed: 0      id  mb_used session_date  user_id\n",
       "0           0  1000_0   112.95   2018-11-25     1000\n",
       "1           1  1000_1  1052.81   2018-09-07     1000\n",
       "2           2  1000_2  1197.26   2018-06-25     1000\n",
       "3           3  1000_3   550.27   2018-08-22     1000\n",
       "4           4  1000_4   302.56   2018-09-24     1000"
      ]
     },
     "execution_count": 3,
     "metadata": {},
     "output_type": "execute_result"
    }
   ],
   "source": [
    "df_internet=pd.read_csv('/datasets/internet.csv') # открываем файл internet.csv\n",
    "df_internet.info()\n",
    "df_internet.head()"
   ]
  },
  {
   "cell_type": "code",
   "execution_count": 4,
   "metadata": {},
   "outputs": [
    {
     "name": "stdout",
     "output_type": "stream",
     "text": [
      "<class 'pandas.core.frame.DataFrame'>\n",
      "RangeIndex: 123036 entries, 0 to 123035\n",
      "Data columns (total 3 columns):\n",
      " #   Column        Non-Null Count   Dtype \n",
      "---  ------        --------------   ----- \n",
      " 0   id            123036 non-null  object\n",
      " 1   message_date  123036 non-null  object\n",
      " 2   user_id       123036 non-null  int64 \n",
      "dtypes: int64(1), object(2)\n",
      "memory usage: 2.8+ MB\n"
     ]
    },
    {
     "data": {
      "text/html": [
       "<div>\n",
       "<style scoped>\n",
       "    .dataframe tbody tr th:only-of-type {\n",
       "        vertical-align: middle;\n",
       "    }\n",
       "\n",
       "    .dataframe tbody tr th {\n",
       "        vertical-align: top;\n",
       "    }\n",
       "\n",
       "    .dataframe thead th {\n",
       "        text-align: right;\n",
       "    }\n",
       "</style>\n",
       "<table border=\"1\" class=\"dataframe\">\n",
       "  <thead>\n",
       "    <tr style=\"text-align: right;\">\n",
       "      <th></th>\n",
       "      <th>id</th>\n",
       "      <th>message_date</th>\n",
       "      <th>user_id</th>\n",
       "    </tr>\n",
       "  </thead>\n",
       "  <tbody>\n",
       "    <tr>\n",
       "      <th>0</th>\n",
       "      <td>1000_0</td>\n",
       "      <td>2018-06-27</td>\n",
       "      <td>1000</td>\n",
       "    </tr>\n",
       "    <tr>\n",
       "      <th>1</th>\n",
       "      <td>1000_1</td>\n",
       "      <td>2018-10-08</td>\n",
       "      <td>1000</td>\n",
       "    </tr>\n",
       "    <tr>\n",
       "      <th>2</th>\n",
       "      <td>1000_2</td>\n",
       "      <td>2018-08-04</td>\n",
       "      <td>1000</td>\n",
       "    </tr>\n",
       "    <tr>\n",
       "      <th>3</th>\n",
       "      <td>1000_3</td>\n",
       "      <td>2018-06-16</td>\n",
       "      <td>1000</td>\n",
       "    </tr>\n",
       "    <tr>\n",
       "      <th>4</th>\n",
       "      <td>1000_4</td>\n",
       "      <td>2018-12-05</td>\n",
       "      <td>1000</td>\n",
       "    </tr>\n",
       "  </tbody>\n",
       "</table>\n",
       "</div>"
      ],
      "text/plain": [
       "       id message_date  user_id\n",
       "0  1000_0   2018-06-27     1000\n",
       "1  1000_1   2018-10-08     1000\n",
       "2  1000_2   2018-08-04     1000\n",
       "3  1000_3   2018-06-16     1000\n",
       "4  1000_4   2018-12-05     1000"
      ]
     },
     "execution_count": 4,
     "metadata": {},
     "output_type": "execute_result"
    }
   ],
   "source": [
    "df_messages=pd.read_csv('/datasets/messages.csv') # открываем файл messages.csv\n",
    "df_messages.info()\n",
    "df_messages.head()"
   ]
  },
  {
   "cell_type": "code",
   "execution_count": 5,
   "metadata": {},
   "outputs": [
    {
     "name": "stdout",
     "output_type": "stream",
     "text": [
      "<class 'pandas.core.frame.DataFrame'>\n",
      "RangeIndex: 2 entries, 0 to 1\n",
      "Data columns (total 8 columns):\n",
      " #   Column                 Non-Null Count  Dtype \n",
      "---  ------                 --------------  ----- \n",
      " 0   messages_included      2 non-null      int64 \n",
      " 1   mb_per_month_included  2 non-null      int64 \n",
      " 2   minutes_included       2 non-null      int64 \n",
      " 3   rub_monthly_fee        2 non-null      int64 \n",
      " 4   rub_per_gb             2 non-null      int64 \n",
      " 5   rub_per_message        2 non-null      int64 \n",
      " 6   rub_per_minute         2 non-null      int64 \n",
      " 7   tariff_name            2 non-null      object\n",
      "dtypes: int64(7), object(1)\n",
      "memory usage: 256.0+ bytes\n"
     ]
    },
    {
     "data": {
      "text/html": [
       "<div>\n",
       "<style scoped>\n",
       "    .dataframe tbody tr th:only-of-type {\n",
       "        vertical-align: middle;\n",
       "    }\n",
       "\n",
       "    .dataframe tbody tr th {\n",
       "        vertical-align: top;\n",
       "    }\n",
       "\n",
       "    .dataframe thead th {\n",
       "        text-align: right;\n",
       "    }\n",
       "</style>\n",
       "<table border=\"1\" class=\"dataframe\">\n",
       "  <thead>\n",
       "    <tr style=\"text-align: right;\">\n",
       "      <th></th>\n",
       "      <th>messages_included</th>\n",
       "      <th>mb_per_month_included</th>\n",
       "      <th>minutes_included</th>\n",
       "      <th>rub_monthly_fee</th>\n",
       "      <th>rub_per_gb</th>\n",
       "      <th>rub_per_message</th>\n",
       "      <th>rub_per_minute</th>\n",
       "      <th>tariff_name</th>\n",
       "    </tr>\n",
       "  </thead>\n",
       "  <tbody>\n",
       "    <tr>\n",
       "      <th>0</th>\n",
       "      <td>50</td>\n",
       "      <td>15360</td>\n",
       "      <td>500</td>\n",
       "      <td>550</td>\n",
       "      <td>200</td>\n",
       "      <td>3</td>\n",
       "      <td>3</td>\n",
       "      <td>smart</td>\n",
       "    </tr>\n",
       "    <tr>\n",
       "      <th>1</th>\n",
       "      <td>1000</td>\n",
       "      <td>30720</td>\n",
       "      <td>3000</td>\n",
       "      <td>1950</td>\n",
       "      <td>150</td>\n",
       "      <td>1</td>\n",
       "      <td>1</td>\n",
       "      <td>ultra</td>\n",
       "    </tr>\n",
       "  </tbody>\n",
       "</table>\n",
       "</div>"
      ],
      "text/plain": [
       "   messages_included  mb_per_month_included  minutes_included  \\\n",
       "0                 50                  15360               500   \n",
       "1               1000                  30720              3000   \n",
       "\n",
       "   rub_monthly_fee  rub_per_gb  rub_per_message  rub_per_minute tariff_name  \n",
       "0              550         200                3               3       smart  \n",
       "1             1950         150                1               1       ultra  "
      ]
     },
     "execution_count": 5,
     "metadata": {},
     "output_type": "execute_result"
    }
   ],
   "source": [
    "df_tariffs=pd.read_csv('/datasets/tariffs.csv') # открываем файл tariffs.csv\n",
    "df_tariffs.info()\n",
    "df_tariffs.head()"
   ]
  },
  {
   "cell_type": "code",
   "execution_count": 6,
   "metadata": {},
   "outputs": [
    {
     "name": "stdout",
     "output_type": "stream",
     "text": [
      "<class 'pandas.core.frame.DataFrame'>\n",
      "RangeIndex: 500 entries, 0 to 499\n",
      "Data columns (total 8 columns):\n",
      " #   Column      Non-Null Count  Dtype \n",
      "---  ------      --------------  ----- \n",
      " 0   user_id     500 non-null    int64 \n",
      " 1   age         500 non-null    int64 \n",
      " 2   churn_date  38 non-null     object\n",
      " 3   city        500 non-null    object\n",
      " 4   first_name  500 non-null    object\n",
      " 5   last_name   500 non-null    object\n",
      " 6   reg_date    500 non-null    object\n",
      " 7   tariff      500 non-null    object\n",
      "dtypes: int64(2), object(6)\n",
      "memory usage: 31.4+ KB\n"
     ]
    },
    {
     "data": {
      "text/html": [
       "<div>\n",
       "<style scoped>\n",
       "    .dataframe tbody tr th:only-of-type {\n",
       "        vertical-align: middle;\n",
       "    }\n",
       "\n",
       "    .dataframe tbody tr th {\n",
       "        vertical-align: top;\n",
       "    }\n",
       "\n",
       "    .dataframe thead th {\n",
       "        text-align: right;\n",
       "    }\n",
       "</style>\n",
       "<table border=\"1\" class=\"dataframe\">\n",
       "  <thead>\n",
       "    <tr style=\"text-align: right;\">\n",
       "      <th></th>\n",
       "      <th>user_id</th>\n",
       "      <th>age</th>\n",
       "      <th>churn_date</th>\n",
       "      <th>city</th>\n",
       "      <th>first_name</th>\n",
       "      <th>last_name</th>\n",
       "      <th>reg_date</th>\n",
       "      <th>tariff</th>\n",
       "    </tr>\n",
       "  </thead>\n",
       "  <tbody>\n",
       "    <tr>\n",
       "      <th>0</th>\n",
       "      <td>1000</td>\n",
       "      <td>52</td>\n",
       "      <td>NaN</td>\n",
       "      <td>Краснодар</td>\n",
       "      <td>Рафаил</td>\n",
       "      <td>Верещагин</td>\n",
       "      <td>2018-05-25</td>\n",
       "      <td>ultra</td>\n",
       "    </tr>\n",
       "    <tr>\n",
       "      <th>1</th>\n",
       "      <td>1001</td>\n",
       "      <td>41</td>\n",
       "      <td>NaN</td>\n",
       "      <td>Москва</td>\n",
       "      <td>Иван</td>\n",
       "      <td>Ежов</td>\n",
       "      <td>2018-11-01</td>\n",
       "      <td>smart</td>\n",
       "    </tr>\n",
       "    <tr>\n",
       "      <th>2</th>\n",
       "      <td>1002</td>\n",
       "      <td>59</td>\n",
       "      <td>NaN</td>\n",
       "      <td>Стерлитамак</td>\n",
       "      <td>Евгений</td>\n",
       "      <td>Абрамович</td>\n",
       "      <td>2018-06-17</td>\n",
       "      <td>smart</td>\n",
       "    </tr>\n",
       "    <tr>\n",
       "      <th>3</th>\n",
       "      <td>1003</td>\n",
       "      <td>23</td>\n",
       "      <td>NaN</td>\n",
       "      <td>Москва</td>\n",
       "      <td>Белла</td>\n",
       "      <td>Белякова</td>\n",
       "      <td>2018-08-17</td>\n",
       "      <td>ultra</td>\n",
       "    </tr>\n",
       "    <tr>\n",
       "      <th>4</th>\n",
       "      <td>1004</td>\n",
       "      <td>68</td>\n",
       "      <td>NaN</td>\n",
       "      <td>Новокузнецк</td>\n",
       "      <td>Татьяна</td>\n",
       "      <td>Авдеенко</td>\n",
       "      <td>2018-05-14</td>\n",
       "      <td>ultra</td>\n",
       "    </tr>\n",
       "  </tbody>\n",
       "</table>\n",
       "</div>"
      ],
      "text/plain": [
       "   user_id  age churn_date         city first_name  last_name    reg_date  \\\n",
       "0     1000   52        NaN    Краснодар     Рафаил  Верещагин  2018-05-25   \n",
       "1     1001   41        NaN       Москва       Иван       Ежов  2018-11-01   \n",
       "2     1002   59        NaN  Стерлитамак    Евгений  Абрамович  2018-06-17   \n",
       "3     1003   23        NaN       Москва      Белла   Белякова  2018-08-17   \n",
       "4     1004   68        NaN  Новокузнецк    Татьяна   Авдеенко  2018-05-14   \n",
       "\n",
       "  tariff  \n",
       "0  ultra  \n",
       "1  smart  \n",
       "2  smart  \n",
       "3  ultra  \n",
       "4  ultra  "
      ]
     },
     "execution_count": 6,
     "metadata": {},
     "output_type": "execute_result"
    }
   ],
   "source": [
    "df_users=pd.read_csv('/datasets/users.csv') # открываем файл users.csv\n",
    "df_users.info()\n",
    "df_users.head()"
   ]
  },
  {
   "cell_type": "markdown",
   "metadata": {},
   "source": [
    "## 2. Подготовка данных\n",
    "<p>\n",
    " - Приведём данные к нужным типам;\n",
    "    <p>\n",
    " - Поиск и исправление ошибок в данных, если они есть.  "
   ]
  },
  {
   "cell_type": "markdown",
   "metadata": {},
   "source": [
    "<div class=\"alert alert-info\">\n",
    " <font color='Blue'>\n",
    "     <b>В датафрейме internet удаляю аномальный столбец \"unnamed\", так как в нём нет никакой информации."
   ]
  },
  {
   "cell_type": "code",
   "execution_count": 7,
   "metadata": {},
   "outputs": [
    {
     "data": {
      "text/plain": [
       "0              0\n",
       "1              1\n",
       "2              2\n",
       "3              3\n",
       "4              4\n",
       "           ...  \n",
       "149391    149391\n",
       "149392    149392\n",
       "149393    149393\n",
       "149394    149394\n",
       "149395    149395\n",
       "Name: Unnamed: 0, Length: 149396, dtype: int64"
      ]
     },
     "execution_count": 7,
     "metadata": {},
     "output_type": "execute_result"
    }
   ],
   "source": [
    "df_internet.pop('Unnamed: 0')"
   ]
  },
  {
   "cell_type": "markdown",
   "metadata": {},
   "source": [
    "<div class=\"alert alert-info\">\n",
    " <font color='Blue'>\n",
    "     <b>В колнке \"duration\" (calls) округляю длительность звонков до целых минут в большую сторону, так как в «Мегалайн» всегда округляет секунды до минут, а мегабайты — до гигабайт. Каждый звонок округляется отдельно: даже если он длился всего 1 секунду, будет засчитан как 1 минута.</b>   "
   ]
  },
  {
   "cell_type": "code",
   "execution_count": 8,
   "metadata": {},
   "outputs": [
    {
     "data": {
      "text/html": [
       "<div>\n",
       "<style scoped>\n",
       "    .dataframe tbody tr th:only-of-type {\n",
       "        vertical-align: middle;\n",
       "    }\n",
       "\n",
       "    .dataframe tbody tr th {\n",
       "        vertical-align: top;\n",
       "    }\n",
       "\n",
       "    .dataframe thead th {\n",
       "        text-align: right;\n",
       "    }\n",
       "</style>\n",
       "<table border=\"1\" class=\"dataframe\">\n",
       "  <thead>\n",
       "    <tr style=\"text-align: right;\">\n",
       "      <th></th>\n",
       "      <th>id</th>\n",
       "      <th>call_date</th>\n",
       "      <th>duration</th>\n",
       "      <th>user_id</th>\n",
       "    </tr>\n",
       "  </thead>\n",
       "  <tbody>\n",
       "    <tr>\n",
       "      <th>0</th>\n",
       "      <td>1000_0</td>\n",
       "      <td>2018-07-25</td>\n",
       "      <td>0.0</td>\n",
       "      <td>1000</td>\n",
       "    </tr>\n",
       "    <tr>\n",
       "      <th>1</th>\n",
       "      <td>1000_1</td>\n",
       "      <td>2018-08-17</td>\n",
       "      <td>0.0</td>\n",
       "      <td>1000</td>\n",
       "    </tr>\n",
       "    <tr>\n",
       "      <th>2</th>\n",
       "      <td>1000_2</td>\n",
       "      <td>2018-06-11</td>\n",
       "      <td>3.0</td>\n",
       "      <td>1000</td>\n",
       "    </tr>\n",
       "    <tr>\n",
       "      <th>3</th>\n",
       "      <td>1000_3</td>\n",
       "      <td>2018-09-21</td>\n",
       "      <td>14.0</td>\n",
       "      <td>1000</td>\n",
       "    </tr>\n",
       "    <tr>\n",
       "      <th>4</th>\n",
       "      <td>1000_4</td>\n",
       "      <td>2018-12-15</td>\n",
       "      <td>6.0</td>\n",
       "      <td>1000</td>\n",
       "    </tr>\n",
       "  </tbody>\n",
       "</table>\n",
       "</div>"
      ],
      "text/plain": [
       "       id   call_date  duration  user_id\n",
       "0  1000_0  2018-07-25       0.0     1000\n",
       "1  1000_1  2018-08-17       0.0     1000\n",
       "2  1000_2  2018-06-11       3.0     1000\n",
       "3  1000_3  2018-09-21      14.0     1000\n",
       "4  1000_4  2018-12-15       6.0     1000"
      ]
     },
     "execution_count": 8,
     "metadata": {},
     "output_type": "execute_result"
    }
   ],
   "source": [
    "df_calls['duration']=df_calls['duration'].apply(np.ceil)\n",
    "df_calls.head()"
   ]
  },
  {
   "cell_type": "markdown",
   "metadata": {},
   "source": [
    "<div class=\"alert alert-info\">\n",
    " <font color='Blue'>\n",
    "         <b>В колнке \"mb_used\" (internet) округляю использование веб-трафика до гигабайт так как,  для веб-трафика отдельные сессии не считаются. Вместо этого общая сумма за месяц округляется в бо́льшую сторону. Если абонент использует 1025 мегабайт в этом месяце, с него возьмут плату за 2 гигабайта."
   ]
  },
  {
   "cell_type": "markdown",
   "metadata": {},
   "source": [
    "<div class=\"alert alert-info\">\n",
    " <font color='Blue'>\n",
    "         <b> Убрал ячейку с округлением и переводом в ГБ."
   ]
  },
  {
   "cell_type": "markdown",
   "metadata": {},
   "source": [
    "<div class=\"alert alert-info\">\n",
    " <font color='Blue'>Проверю данные на возможные ошибки"
   ]
  },
  {
   "cell_type": "markdown",
   "metadata": {},
   "source": [
    "<div class=\"alert alert-info\">\n",
    " <font color='Blue'>\n",
    "         <b> Проверим длительность звонков. "
   ]
  },
  {
   "cell_type": "code",
   "execution_count": 9,
   "metadata": {},
   "outputs": [
    {
     "data": {
      "text/plain": [
       "38.0"
      ]
     },
     "execution_count": 9,
     "metadata": {},
     "output_type": "execute_result"
    }
   ],
   "source": [
    "df_calls['duration'].max()\n"
   ]
  },
  {
   "cell_type": "code",
   "execution_count": 10,
   "metadata": {},
   "outputs": [
    {
     "data": {
      "text/plain": [
       "<AxesSubplot:>"
      ]
     },
     "execution_count": 10,
     "metadata": {},
     "output_type": "execute_result"
    },
    {
     "data": {
      "image/png": "[encoded data removed]",
      "text/plain": [
       "<Figure size 432x288 with 1 Axes>"
      ]
     },
     "metadata": {
      "needs_background": "light"
     },
     "output_type": "display_data"
    }
   ],
   "source": [
    "df_calls['duration'].hist(bins=50)\n"
   ]
  },
  {
   "cell_type": "markdown",
   "metadata": {},
   "source": [
    "<div class=\"alert alert-info\">\n",
    " <font color='Blue'>\n",
    "         <b> Самый длинный разговор - 38 минут, что не является аномальным значением."
   ]
  },
  {
   "cell_type": "code",
   "execution_count": 11,
   "metadata": {},
   "outputs": [
    {
     "data": {
      "text/plain": [
       "<AxesSubplot:>"
      ]
     },
     "execution_count": 11,
     "metadata": {},
     "output_type": "execute_result"
    },
    {
     "data": {
      "image/png": "[encoded data removed]",
      "text/plain": [
       "<Figure size 432x288 with 1 Axes>"
      ]
     },
     "metadata": {
      "needs_background": "light"
     },
     "output_type": "display_data"
    }
   ],
   "source": [
    "df_internet['mb_used'].hist(bins=50)\n"
   ]
  },
  {
   "cell_type": "markdown",
   "metadata": {},
   "source": [
    "<div class=\"alert alert-info\">\n",
    " <font color='Blue'>\n",
    "         <b> По графику не видно аномальных значений, но обнаружено большое количество нулей."
   ]
  },
  {
   "cell_type": "code",
   "execution_count": 12,
   "metadata": {},
   "outputs": [
    {
     "data": {
      "text/plain": [
       "1724.83"
      ]
     },
     "execution_count": 12,
     "metadata": {},
     "output_type": "execute_result"
    }
   ],
   "source": [
    "df_internet['mb_used'].max()\n"
   ]
  },
  {
   "cell_type": "code",
   "execution_count": 13,
   "metadata": {},
   "outputs": [
    {
     "data": {
      "text/plain": [
       "0.00      19598\n",
       "335.91        9\n",
       "447.30        9\n",
       "197.56        9\n",
       "199.11        8\n",
       "          ...  \n",
       "182.69        1\n",
       "726.03        1\n",
       "315.12        1\n",
       "898.99        1\n",
       "677.66        1\n",
       "Name: mb_used, Length: 70003, dtype: int64"
      ]
     },
     "execution_count": 13,
     "metadata": {},
     "output_type": "execute_result"
    }
   ],
   "source": [
    "df_internet['mb_used'].value_counts()"
   ]
  },
  {
   "cell_type": "markdown",
   "metadata": {},
   "source": [
    "<div class=\"alert alert-info\">\n",
    " <font color='Blue'>\n",
    "         <b> Предположение: много значений было записано как 0.00, возможно, из-за ошибок округления. Вероятнее всего, данные строки имели очень малое значение, заменим их на 0.01"
   ]
  },
  {
   "cell_type": "code",
   "execution_count": 14,
   "metadata": {},
   "outputs": [],
   "source": [
    "df_internet.loc[df_internet['mb_used'] == 0 , 'mb_used'] = 0.01\n"
   ]
  },
  {
   "cell_type": "code",
   "execution_count": 15,
   "metadata": {},
   "outputs": [
    {
     "data": {
      "text/plain": [
       "0.01       19598\n",
       "197.56         9\n",
       "447.30         9\n",
       "335.91         9\n",
       "411.53         8\n",
       "           ...  \n",
       "1392.42        1\n",
       "646.25         1\n",
       "954.90         1\n",
       "714.40         1\n",
       "677.66         1\n",
       "Name: mb_used, Length: 70003, dtype: int64"
      ]
     },
     "execution_count": 15,
     "metadata": {},
     "output_type": "execute_result"
    }
   ],
   "source": [
    "df_internet['mb_used'].value_counts()"
   ]
  },
  {
   "cell_type": "markdown",
   "metadata": {},
   "source": [
    "<div class=\"alert alert-info\">\n",
    " <font color='Blue'>\n",
    "         <b> Устранили вероятное аномальное значение в internet"
   ]
  },
  {
   "cell_type": "markdown",
   "metadata": {},
   "source": [
    "<div class=\"alert alert-info\">\n",
    " <font color='Blue'>\n",
    "         <b> Посчитаем для каждого пользователя количество сделанных звонков и израсходованных минут разговора по месяцам:"
   ]
  },
  {
   "cell_type": "code",
   "execution_count": 16,
   "metadata": {},
   "outputs": [
    {
     "data": {
      "text/html": [
       "<div>\n",
       "<style scoped>\n",
       "    .dataframe tbody tr th:only-of-type {\n",
       "        vertical-align: middle;\n",
       "    }\n",
       "\n",
       "    .dataframe tbody tr th {\n",
       "        vertical-align: top;\n",
       "    }\n",
       "\n",
       "    .dataframe thead th {\n",
       "        text-align: right;\n",
       "    }\n",
       "</style>\n",
       "<table border=\"1\" class=\"dataframe\">\n",
       "  <thead>\n",
       "    <tr style=\"text-align: right;\">\n",
       "      <th></th>\n",
       "      <th>id</th>\n",
       "      <th>call_date</th>\n",
       "      <th>duration</th>\n",
       "      <th>user_id</th>\n",
       "      <th>month</th>\n",
       "    </tr>\n",
       "  </thead>\n",
       "  <tbody>\n",
       "    <tr>\n",
       "      <th>0</th>\n",
       "      <td>1000_0</td>\n",
       "      <td>2018-07-25</td>\n",
       "      <td>0.0</td>\n",
       "      <td>1000</td>\n",
       "      <td>7</td>\n",
       "    </tr>\n",
       "    <tr>\n",
       "      <th>1</th>\n",
       "      <td>1000_1</td>\n",
       "      <td>2018-08-17</td>\n",
       "      <td>0.0</td>\n",
       "      <td>1000</td>\n",
       "      <td>8</td>\n",
       "    </tr>\n",
       "    <tr>\n",
       "      <th>2</th>\n",
       "      <td>1000_2</td>\n",
       "      <td>2018-06-11</td>\n",
       "      <td>3.0</td>\n",
       "      <td>1000</td>\n",
       "      <td>6</td>\n",
       "    </tr>\n",
       "    <tr>\n",
       "      <th>3</th>\n",
       "      <td>1000_3</td>\n",
       "      <td>2018-09-21</td>\n",
       "      <td>14.0</td>\n",
       "      <td>1000</td>\n",
       "      <td>9</td>\n",
       "    </tr>\n",
       "    <tr>\n",
       "      <th>4</th>\n",
       "      <td>1000_4</td>\n",
       "      <td>2018-12-15</td>\n",
       "      <td>6.0</td>\n",
       "      <td>1000</td>\n",
       "      <td>12</td>\n",
       "    </tr>\n",
       "  </tbody>\n",
       "</table>\n",
       "</div>"
      ],
      "text/plain": [
       "       id  call_date  duration  user_id  month\n",
       "0  1000_0 2018-07-25       0.0     1000      7\n",
       "1  1000_1 2018-08-17       0.0     1000      8\n",
       "2  1000_2 2018-06-11       3.0     1000      6\n",
       "3  1000_3 2018-09-21      14.0     1000      9\n",
       "4  1000_4 2018-12-15       6.0     1000     12"
      ]
     },
     "execution_count": 16,
     "metadata": {},
     "output_type": "execute_result"
    }
   ],
   "source": [
    "df_calls['call_date'] = pd.to_datetime(df_calls['call_date'], format=\"%Y/%m/%d\")\n",
    "df_calls['month'] = df_calls['call_date'].dt.month # добавляю колонку с месяцем\n",
    "df_calls.head()"
   ]
  },
  {
   "cell_type": "code",
   "execution_count": 17,
   "metadata": {},
   "outputs": [
    {
     "data": {
      "text/html": [
       "<div>\n",
       "<style scoped>\n",
       "    .dataframe tbody tr th:only-of-type {\n",
       "        vertical-align: middle;\n",
       "    }\n",
       "\n",
       "    .dataframe tbody tr th {\n",
       "        vertical-align: top;\n",
       "    }\n",
       "\n",
       "    .dataframe thead th {\n",
       "        text-align: right;\n",
       "    }\n",
       "</style>\n",
       "<table border=\"1\" class=\"dataframe\">\n",
       "  <thead>\n",
       "    <tr style=\"text-align: right;\">\n",
       "      <th></th>\n",
       "      <th>user</th>\n",
       "      <th>month</th>\n",
       "      <th>total duration of calls</th>\n",
       "      <th>number of calls</th>\n",
       "    </tr>\n",
       "  </thead>\n",
       "  <tbody>\n",
       "    <tr>\n",
       "      <th>0</th>\n",
       "      <td>1000</td>\n",
       "      <td>5</td>\n",
       "      <td>159.0</td>\n",
       "      <td>22</td>\n",
       "    </tr>\n",
       "    <tr>\n",
       "      <th>1</th>\n",
       "      <td>1000</td>\n",
       "      <td>6</td>\n",
       "      <td>172.0</td>\n",
       "      <td>43</td>\n",
       "    </tr>\n",
       "    <tr>\n",
       "      <th>2</th>\n",
       "      <td>1000</td>\n",
       "      <td>7</td>\n",
       "      <td>340.0</td>\n",
       "      <td>47</td>\n",
       "    </tr>\n",
       "    <tr>\n",
       "      <th>3</th>\n",
       "      <td>1000</td>\n",
       "      <td>8</td>\n",
       "      <td>408.0</td>\n",
       "      <td>52</td>\n",
       "    </tr>\n",
       "    <tr>\n",
       "      <th>4</th>\n",
       "      <td>1000</td>\n",
       "      <td>9</td>\n",
       "      <td>466.0</td>\n",
       "      <td>58</td>\n",
       "    </tr>\n",
       "  </tbody>\n",
       "</table>\n",
       "</div>"
      ],
      "text/plain": [
       "   user  month  total duration of calls  number of calls\n",
       "0  1000      5                    159.0               22\n",
       "1  1000      6                    172.0               43\n",
       "2  1000      7                    340.0               47\n",
       "3  1000      8                    408.0               52\n",
       "4  1000      9                    466.0               58"
      ]
     },
     "execution_count": 17,
     "metadata": {},
     "output_type": "execute_result"
    }
   ],
   "source": [
    "df_calls_grouped=df_calls.pivot_table(index=['user_id','month'],values='duration',aggfunc=['sum','count'])#сводная таблица для удобного просмотра\n",
    "df_calls_grouped.reset_index(inplace=True) #многомерная индексация не позволяла объединять таблицы\n",
    "df_calls_grouped.columns = ['user','month','total duration of calls','number of calls'] #переименовывам столбцы в более удобные\n",
    "df_calls_grouped.head()"
   ]
  },
  {
   "cell_type": "markdown",
   "metadata": {},
   "source": [
    "<div class=\"alert alert-info\">\n",
    " <font color='Blue'>\n",
    "         <b> Посчитаем для каждого пользователя количество отправленных сообщений по месяцам:"
   ]
  },
  {
   "cell_type": "code",
   "execution_count": 18,
   "metadata": {},
   "outputs": [
    {
     "data": {
      "text/html": [
       "<div>\n",
       "<style scoped>\n",
       "    .dataframe tbody tr th:only-of-type {\n",
       "        vertical-align: middle;\n",
       "    }\n",
       "\n",
       "    .dataframe tbody tr th {\n",
       "        vertical-align: top;\n",
       "    }\n",
       "\n",
       "    .dataframe thead th {\n",
       "        text-align: right;\n",
       "    }\n",
       "</style>\n",
       "<table border=\"1\" class=\"dataframe\">\n",
       "  <thead>\n",
       "    <tr style=\"text-align: right;\">\n",
       "      <th></th>\n",
       "      <th>id</th>\n",
       "      <th>message_date</th>\n",
       "      <th>user_id</th>\n",
       "      <th>month</th>\n",
       "    </tr>\n",
       "  </thead>\n",
       "  <tbody>\n",
       "    <tr>\n",
       "      <th>0</th>\n",
       "      <td>1000_0</td>\n",
       "      <td>2018-06-27</td>\n",
       "      <td>1000</td>\n",
       "      <td>6</td>\n",
       "    </tr>\n",
       "    <tr>\n",
       "      <th>1</th>\n",
       "      <td>1000_1</td>\n",
       "      <td>2018-10-08</td>\n",
       "      <td>1000</td>\n",
       "      <td>10</td>\n",
       "    </tr>\n",
       "    <tr>\n",
       "      <th>2</th>\n",
       "      <td>1000_2</td>\n",
       "      <td>2018-08-04</td>\n",
       "      <td>1000</td>\n",
       "      <td>8</td>\n",
       "    </tr>\n",
       "    <tr>\n",
       "      <th>3</th>\n",
       "      <td>1000_3</td>\n",
       "      <td>2018-06-16</td>\n",
       "      <td>1000</td>\n",
       "      <td>6</td>\n",
       "    </tr>\n",
       "    <tr>\n",
       "      <th>4</th>\n",
       "      <td>1000_4</td>\n",
       "      <td>2018-12-05</td>\n",
       "      <td>1000</td>\n",
       "      <td>12</td>\n",
       "    </tr>\n",
       "  </tbody>\n",
       "</table>\n",
       "</div>"
      ],
      "text/plain": [
       "       id message_date  user_id  month\n",
       "0  1000_0   2018-06-27     1000      6\n",
       "1  1000_1   2018-10-08     1000     10\n",
       "2  1000_2   2018-08-04     1000      8\n",
       "3  1000_3   2018-06-16     1000      6\n",
       "4  1000_4   2018-12-05     1000     12"
      ]
     },
     "execution_count": 18,
     "metadata": {},
     "output_type": "execute_result"
    }
   ],
   "source": [
    "df_messages['message_date'] = pd.to_datetime(df_messages['message_date'], format=\"%Y/%m/%d\")\n",
    "df_messages['month'] = df_messages['message_date'].dt.month # добавляю колонку с месяцем\n",
    "df_messages.head()"
   ]
  },
  {
   "cell_type": "code",
   "execution_count": 19,
   "metadata": {},
   "outputs": [
    {
     "data": {
      "text/html": [
       "<div>\n",
       "<style scoped>\n",
       "    .dataframe tbody tr th:only-of-type {\n",
       "        vertical-align: middle;\n",
       "    }\n",
       "\n",
       "    .dataframe tbody tr th {\n",
       "        vertical-align: top;\n",
       "    }\n",
       "\n",
       "    .dataframe thead th {\n",
       "        text-align: right;\n",
       "    }\n",
       "</style>\n",
       "<table border=\"1\" class=\"dataframe\">\n",
       "  <thead>\n",
       "    <tr style=\"text-align: right;\">\n",
       "      <th></th>\n",
       "      <th>user</th>\n",
       "      <th>month</th>\n",
       "      <th>number of messages</th>\n",
       "    </tr>\n",
       "  </thead>\n",
       "  <tbody>\n",
       "    <tr>\n",
       "      <th>0</th>\n",
       "      <td>1000</td>\n",
       "      <td>5</td>\n",
       "      <td>22</td>\n",
       "    </tr>\n",
       "    <tr>\n",
       "      <th>1</th>\n",
       "      <td>1000</td>\n",
       "      <td>6</td>\n",
       "      <td>60</td>\n",
       "    </tr>\n",
       "    <tr>\n",
       "      <th>2</th>\n",
       "      <td>1000</td>\n",
       "      <td>7</td>\n",
       "      <td>75</td>\n",
       "    </tr>\n",
       "    <tr>\n",
       "      <th>3</th>\n",
       "      <td>1000</td>\n",
       "      <td>8</td>\n",
       "      <td>81</td>\n",
       "    </tr>\n",
       "    <tr>\n",
       "      <th>4</th>\n",
       "      <td>1000</td>\n",
       "      <td>9</td>\n",
       "      <td>57</td>\n",
       "    </tr>\n",
       "  </tbody>\n",
       "</table>\n",
       "</div>"
      ],
      "text/plain": [
       "   user  month  number of messages\n",
       "0  1000      5                  22\n",
       "1  1000      6                  60\n",
       "2  1000      7                  75\n",
       "3  1000      8                  81\n",
       "4  1000      9                  57"
      ]
     },
     "execution_count": 19,
     "metadata": {},
     "output_type": "execute_result"
    }
   ],
   "source": [
    "df_messages_grouped=df_messages.pivot_table(index=['user_id','month'],values='id',aggfunc=['count'])\n",
    "df_messages_grouped.reset_index(inplace=True)\n",
    "df_messages_grouped.columns=['user','month','number of messages']\n",
    "\n",
    "df_messages_grouped.head()"
   ]
  },
  {
   "cell_type": "markdown",
   "metadata": {},
   "source": [
    "<div class=\"alert alert-info\">\n",
    " <font color='Blue'>\n",
    "         <b> Посчитаем для каждого пользователя объем израсходованного интернет-трафика по месяцам:"
   ]
  },
  {
   "cell_type": "code",
   "execution_count": 20,
   "metadata": {},
   "outputs": [
    {
     "data": {
      "text/html": [
       "<div>\n",
       "<style scoped>\n",
       "    .dataframe tbody tr th:only-of-type {\n",
       "        vertical-align: middle;\n",
       "    }\n",
       "\n",
       "    .dataframe tbody tr th {\n",
       "        vertical-align: top;\n",
       "    }\n",
       "\n",
       "    .dataframe thead th {\n",
       "        text-align: right;\n",
       "    }\n",
       "</style>\n",
       "<table border=\"1\" class=\"dataframe\">\n",
       "  <thead>\n",
       "    <tr style=\"text-align: right;\">\n",
       "      <th></th>\n",
       "      <th>id</th>\n",
       "      <th>mb_used</th>\n",
       "      <th>session_date</th>\n",
       "      <th>user_id</th>\n",
       "      <th>month</th>\n",
       "    </tr>\n",
       "  </thead>\n",
       "  <tbody>\n",
       "    <tr>\n",
       "      <th>0</th>\n",
       "      <td>1000_0</td>\n",
       "      <td>112.95</td>\n",
       "      <td>2018-11-25</td>\n",
       "      <td>1000</td>\n",
       "      <td>11</td>\n",
       "    </tr>\n",
       "    <tr>\n",
       "      <th>1</th>\n",
       "      <td>1000_1</td>\n",
       "      <td>1052.81</td>\n",
       "      <td>2018-09-07</td>\n",
       "      <td>1000</td>\n",
       "      <td>9</td>\n",
       "    </tr>\n",
       "    <tr>\n",
       "      <th>2</th>\n",
       "      <td>1000_2</td>\n",
       "      <td>1197.26</td>\n",
       "      <td>2018-06-25</td>\n",
       "      <td>1000</td>\n",
       "      <td>6</td>\n",
       "    </tr>\n",
       "    <tr>\n",
       "      <th>3</th>\n",
       "      <td>1000_3</td>\n",
       "      <td>550.27</td>\n",
       "      <td>2018-08-22</td>\n",
       "      <td>1000</td>\n",
       "      <td>8</td>\n",
       "    </tr>\n",
       "    <tr>\n",
       "      <th>4</th>\n",
       "      <td>1000_4</td>\n",
       "      <td>302.56</td>\n",
       "      <td>2018-09-24</td>\n",
       "      <td>1000</td>\n",
       "      <td>9</td>\n",
       "    </tr>\n",
       "  </tbody>\n",
       "</table>\n",
       "</div>"
      ],
      "text/plain": [
       "       id  mb_used session_date  user_id  month\n",
       "0  1000_0   112.95   2018-11-25     1000     11\n",
       "1  1000_1  1052.81   2018-09-07     1000      9\n",
       "2  1000_2  1197.26   2018-06-25     1000      6\n",
       "3  1000_3   550.27   2018-08-22     1000      8\n",
       "4  1000_4   302.56   2018-09-24     1000      9"
      ]
     },
     "execution_count": 20,
     "metadata": {},
     "output_type": "execute_result"
    }
   ],
   "source": [
    "df_internet['session_date'] = pd.to_datetime(df_internet['session_date'], format=\"%Y/%m/%d\")\n",
    "df_internet['month'] = df_internet['session_date'].dt.month # добавляю колонку с месяцем\n",
    "df_internet.head()\n"
   ]
  },
  {
   "cell_type": "code",
   "execution_count": 21,
   "metadata": {},
   "outputs": [
    {
     "data": {
      "text/html": [
       "<div>\n",
       "<style scoped>\n",
       "    .dataframe tbody tr th:only-of-type {\n",
       "        vertical-align: middle;\n",
       "    }\n",
       "\n",
       "    .dataframe tbody tr th {\n",
       "        vertical-align: top;\n",
       "    }\n",
       "\n",
       "    .dataframe thead th {\n",
       "        text-align: right;\n",
       "    }\n",
       "</style>\n",
       "<table border=\"1\" class=\"dataframe\">\n",
       "  <thead>\n",
       "    <tr style=\"text-align: right;\">\n",
       "      <th></th>\n",
       "      <th>user</th>\n",
       "      <th>month</th>\n",
       "      <th>total internet traffic</th>\n",
       "    </tr>\n",
       "  </thead>\n",
       "  <tbody>\n",
       "    <tr>\n",
       "      <th>0</th>\n",
       "      <td>1000</td>\n",
       "      <td>5</td>\n",
       "      <td>2253.50</td>\n",
       "    </tr>\n",
       "    <tr>\n",
       "      <th>1</th>\n",
       "      <td>1000</td>\n",
       "      <td>6</td>\n",
       "      <td>23233.82</td>\n",
       "    </tr>\n",
       "    <tr>\n",
       "      <th>2</th>\n",
       "      <td>1000</td>\n",
       "      <td>7</td>\n",
       "      <td>14003.65</td>\n",
       "    </tr>\n",
       "    <tr>\n",
       "      <th>3</th>\n",
       "      <td>1000</td>\n",
       "      <td>8</td>\n",
       "      <td>14055.95</td>\n",
       "    </tr>\n",
       "    <tr>\n",
       "      <th>4</th>\n",
       "      <td>1000</td>\n",
       "      <td>9</td>\n",
       "      <td>14568.93</td>\n",
       "    </tr>\n",
       "  </tbody>\n",
       "</table>\n",
       "</div>"
      ],
      "text/plain": [
       "   user  month  total internet traffic\n",
       "0  1000      5                 2253.50\n",
       "1  1000      6                23233.82\n",
       "2  1000      7                14003.65\n",
       "3  1000      8                14055.95\n",
       "4  1000      9                14568.93"
      ]
     },
     "execution_count": 21,
     "metadata": {},
     "output_type": "execute_result"
    }
   ],
   "source": [
    "df_internet_grouped=df_internet.pivot_table(index=['user_id','month'],values='mb_used',aggfunc=['sum'])\n",
    "df_internet_grouped.reset_index(inplace=True)\n",
    "df_internet_grouped.columns = ['user','month','total internet traffic']\n",
    "df_internet_grouped.head()"
   ]
  },
  {
   "cell_type": "markdown",
   "metadata": {},
   "source": [
    "<div class=\"alert alert-info\">\n",
    " <font color='Blue'>\n",
    "          Исправил на sum. Не заметил ошибку."
   ]
  },
  {
   "cell_type": "markdown",
   "metadata": {},
   "source": [
    "<div class=\"alert alert-info\">\n",
    " <font color='Blue'>\n",
    "         <b> Посчитаем для каждого пользователя помесячную выручку с каждого пользователя <p>\n",
    "             </b> (вычтите бесплатный лимит из суммарного количества звонков, сообщений и интернет-трафика; остаток умножьте на значение из тарифного плана; прибавьте абонентскую плату, соответствующую тарифному плану). <p>\n",
    "     <b> Для этого объединим все таблицы в одну общую:"
   ]
  },
  {
   "cell_type": "code",
   "execution_count": 22,
   "metadata": {},
   "outputs": [
    {
     "data": {
      "text/html": [
       "<div>\n",
       "<style scoped>\n",
       "    .dataframe tbody tr th:only-of-type {\n",
       "        vertical-align: middle;\n",
       "    }\n",
       "\n",
       "    .dataframe tbody tr th {\n",
       "        vertical-align: top;\n",
       "    }\n",
       "\n",
       "    .dataframe thead th {\n",
       "        text-align: right;\n",
       "    }\n",
       "</style>\n",
       "<table border=\"1\" class=\"dataframe\">\n",
       "  <thead>\n",
       "    <tr style=\"text-align: right;\">\n",
       "      <th></th>\n",
       "      <th>user</th>\n",
       "      <th>month</th>\n",
       "      <th>total duration of calls</th>\n",
       "      <th>number of calls</th>\n",
       "      <th>number of messages</th>\n",
       "      <th>total internet traffic</th>\n",
       "    </tr>\n",
       "  </thead>\n",
       "  <tbody>\n",
       "    <tr>\n",
       "      <th>0</th>\n",
       "      <td>1000</td>\n",
       "      <td>5</td>\n",
       "      <td>159.0</td>\n",
       "      <td>22.0</td>\n",
       "      <td>22.0</td>\n",
       "      <td>2253.50</td>\n",
       "    </tr>\n",
       "    <tr>\n",
       "      <th>1</th>\n",
       "      <td>1000</td>\n",
       "      <td>6</td>\n",
       "      <td>172.0</td>\n",
       "      <td>43.0</td>\n",
       "      <td>60.0</td>\n",
       "      <td>23233.82</td>\n",
       "    </tr>\n",
       "    <tr>\n",
       "      <th>2</th>\n",
       "      <td>1000</td>\n",
       "      <td>7</td>\n",
       "      <td>340.0</td>\n",
       "      <td>47.0</td>\n",
       "      <td>75.0</td>\n",
       "      <td>14003.65</td>\n",
       "    </tr>\n",
       "    <tr>\n",
       "      <th>3</th>\n",
       "      <td>1000</td>\n",
       "      <td>8</td>\n",
       "      <td>408.0</td>\n",
       "      <td>52.0</td>\n",
       "      <td>81.0</td>\n",
       "      <td>14055.95</td>\n",
       "    </tr>\n",
       "    <tr>\n",
       "      <th>4</th>\n",
       "      <td>1000</td>\n",
       "      <td>9</td>\n",
       "      <td>466.0</td>\n",
       "      <td>58.0</td>\n",
       "      <td>57.0</td>\n",
       "      <td>14568.93</td>\n",
       "    </tr>\n",
       "    <tr>\n",
       "      <th>...</th>\n",
       "      <td>...</td>\n",
       "      <td>...</td>\n",
       "      <td>...</td>\n",
       "      <td>...</td>\n",
       "      <td>...</td>\n",
       "      <td>...</td>\n",
       "    </tr>\n",
       "    <tr>\n",
       "      <th>3169</th>\n",
       "      <td>1498</td>\n",
       "      <td>10</td>\n",
       "      <td>247.0</td>\n",
       "      <td>41.0</td>\n",
       "      <td>42.0</td>\n",
       "      <td>20579.46</td>\n",
       "    </tr>\n",
       "    <tr>\n",
       "      <th>3173</th>\n",
       "      <td>1499</td>\n",
       "      <td>12</td>\n",
       "      <td>492.0</td>\n",
       "      <td>69.0</td>\n",
       "      <td>66.0</td>\n",
       "      <td>13055.63</td>\n",
       "    </tr>\n",
       "    <tr>\n",
       "      <th>3170</th>\n",
       "      <td>1499</td>\n",
       "      <td>9</td>\n",
       "      <td>70.0</td>\n",
       "      <td>9.0</td>\n",
       "      <td>11.0</td>\n",
       "      <td>1845.76</td>\n",
       "    </tr>\n",
       "    <tr>\n",
       "      <th>3171</th>\n",
       "      <td>1499</td>\n",
       "      <td>10</td>\n",
       "      <td>449.0</td>\n",
       "      <td>68.0</td>\n",
       "      <td>48.0</td>\n",
       "      <td>17788.66</td>\n",
       "    </tr>\n",
       "    <tr>\n",
       "      <th>3172</th>\n",
       "      <td>1499</td>\n",
       "      <td>11</td>\n",
       "      <td>612.0</td>\n",
       "      <td>74.0</td>\n",
       "      <td>59.0</td>\n",
       "      <td>17963.41</td>\n",
       "    </tr>\n",
       "  </tbody>\n",
       "</table>\n",
       "<p>3214 rows × 6 columns</p>\n",
       "</div>"
      ],
      "text/plain": [
       "      user  month  total duration of calls  number of calls  \\\n",
       "0     1000      5                    159.0             22.0   \n",
       "1     1000      6                    172.0             43.0   \n",
       "2     1000      7                    340.0             47.0   \n",
       "3     1000      8                    408.0             52.0   \n",
       "4     1000      9                    466.0             58.0   \n",
       "...    ...    ...                      ...              ...   \n",
       "3169  1498     10                    247.0             41.0   \n",
       "3173  1499     12                    492.0             69.0   \n",
       "3170  1499      9                     70.0              9.0   \n",
       "3171  1499     10                    449.0             68.0   \n",
       "3172  1499     11                    612.0             74.0   \n",
       "\n",
       "      number of messages  total internet traffic  \n",
       "0                   22.0                 2253.50  \n",
       "1                   60.0                23233.82  \n",
       "2                   75.0                14003.65  \n",
       "3                   81.0                14055.95  \n",
       "4                   57.0                14568.93  \n",
       "...                  ...                     ...  \n",
       "3169                42.0                20579.46  \n",
       "3173                66.0                13055.63  \n",
       "3170                11.0                 1845.76  \n",
       "3171                48.0                17788.66  \n",
       "3172                59.0                17963.41  \n",
       "\n",
       "[3214 rows x 6 columns]"
      ]
     },
     "execution_count": 22,
     "metadata": {},
     "output_type": "execute_result"
    }
   ],
   "source": [
    "group_data=pd.merge(pd.merge(df_calls_grouped,df_messages_grouped, how='outer', \n",
    "                             left_on=['user', 'month'], right_on=['user', 'month']),\n",
    "                    df_internet_grouped,how='outer', left_on=['user', 'month'], right_on=['user', 'month'])\n",
    "group_data=group_data.sort_values(by='user')\n",
    "group_data = group_data.query('month!=0')\n",
    "group_data"
   ]
  },
  {
   "cell_type": "code",
   "execution_count": 23,
   "metadata": {},
   "outputs": [
    {
     "data": {
      "text/plain": [
       "user                         0\n",
       "month                        0\n",
       "total duration of calls     40\n",
       "number of calls             40\n",
       "number of messages         497\n",
       "total internet traffic      11\n",
       "dtype: int64"
      ]
     },
     "execution_count": 23,
     "metadata": {},
     "output_type": "execute_result"
    }
   ],
   "source": [
    "group_data.isna().sum()#смотрим пропуски"
   ]
  },
  {
   "cell_type": "code",
   "execution_count": 24,
   "metadata": {},
   "outputs": [],
   "source": [
    "group_data.fillna(0, inplace=True)#заполнил NaN нулями"
   ]
  },
  {
   "cell_type": "code",
   "execution_count": 25,
   "metadata": {},
   "outputs": [
    {
     "data": {
      "text/plain": [
       "user                       0\n",
       "month                      0\n",
       "total duration of calls    0\n",
       "number of calls            0\n",
       "number of messages         0\n",
       "total internet traffic     0\n",
       "dtype: int64"
      ]
     },
     "execution_count": 25,
     "metadata": {},
     "output_type": "execute_result"
    }
   ],
   "source": [
    "group_data.isna().sum()"
   ]
  },
  {
   "cell_type": "code",
   "execution_count": 26,
   "metadata": {},
   "outputs": [
    {
     "data": {
      "text/html": [
       "<div>\n",
       "<style scoped>\n",
       "    .dataframe tbody tr th:only-of-type {\n",
       "        vertical-align: middle;\n",
       "    }\n",
       "\n",
       "    .dataframe tbody tr th {\n",
       "        vertical-align: top;\n",
       "    }\n",
       "\n",
       "    .dataframe thead th {\n",
       "        text-align: right;\n",
       "    }\n",
       "</style>\n",
       "<table border=\"1\" class=\"dataframe\">\n",
       "  <thead>\n",
       "    <tr style=\"text-align: right;\">\n",
       "      <th></th>\n",
       "      <th>user</th>\n",
       "      <th>month</th>\n",
       "      <th>total duration of calls</th>\n",
       "      <th>number of calls</th>\n",
       "      <th>number of messages</th>\n",
       "      <th>total internet traffic</th>\n",
       "    </tr>\n",
       "  </thead>\n",
       "  <tbody>\n",
       "    <tr>\n",
       "      <th>0</th>\n",
       "      <td>1000</td>\n",
       "      <td>5</td>\n",
       "      <td>159.0</td>\n",
       "      <td>22.0</td>\n",
       "      <td>22.0</td>\n",
       "      <td>2253.50</td>\n",
       "    </tr>\n",
       "    <tr>\n",
       "      <th>1</th>\n",
       "      <td>1000</td>\n",
       "      <td>6</td>\n",
       "      <td>172.0</td>\n",
       "      <td>43.0</td>\n",
       "      <td>60.0</td>\n",
       "      <td>23233.82</td>\n",
       "    </tr>\n",
       "    <tr>\n",
       "      <th>2</th>\n",
       "      <td>1000</td>\n",
       "      <td>7</td>\n",
       "      <td>340.0</td>\n",
       "      <td>47.0</td>\n",
       "      <td>75.0</td>\n",
       "      <td>14003.65</td>\n",
       "    </tr>\n",
       "    <tr>\n",
       "      <th>3</th>\n",
       "      <td>1000</td>\n",
       "      <td>8</td>\n",
       "      <td>408.0</td>\n",
       "      <td>52.0</td>\n",
       "      <td>81.0</td>\n",
       "      <td>14055.95</td>\n",
       "    </tr>\n",
       "    <tr>\n",
       "      <th>4</th>\n",
       "      <td>1000</td>\n",
       "      <td>9</td>\n",
       "      <td>466.0</td>\n",
       "      <td>58.0</td>\n",
       "      <td>57.0</td>\n",
       "      <td>14568.93</td>\n",
       "    </tr>\n",
       "    <tr>\n",
       "      <th>...</th>\n",
       "      <td>...</td>\n",
       "      <td>...</td>\n",
       "      <td>...</td>\n",
       "      <td>...</td>\n",
       "      <td>...</td>\n",
       "      <td>...</td>\n",
       "    </tr>\n",
       "    <tr>\n",
       "      <th>3169</th>\n",
       "      <td>1498</td>\n",
       "      <td>10</td>\n",
       "      <td>247.0</td>\n",
       "      <td>41.0</td>\n",
       "      <td>42.0</td>\n",
       "      <td>20579.46</td>\n",
       "    </tr>\n",
       "    <tr>\n",
       "      <th>3173</th>\n",
       "      <td>1499</td>\n",
       "      <td>12</td>\n",
       "      <td>492.0</td>\n",
       "      <td>69.0</td>\n",
       "      <td>66.0</td>\n",
       "      <td>13055.63</td>\n",
       "    </tr>\n",
       "    <tr>\n",
       "      <th>3170</th>\n",
       "      <td>1499</td>\n",
       "      <td>9</td>\n",
       "      <td>70.0</td>\n",
       "      <td>9.0</td>\n",
       "      <td>11.0</td>\n",
       "      <td>1845.76</td>\n",
       "    </tr>\n",
       "    <tr>\n",
       "      <th>3171</th>\n",
       "      <td>1499</td>\n",
       "      <td>10</td>\n",
       "      <td>449.0</td>\n",
       "      <td>68.0</td>\n",
       "      <td>48.0</td>\n",
       "      <td>17788.66</td>\n",
       "    </tr>\n",
       "    <tr>\n",
       "      <th>3172</th>\n",
       "      <td>1499</td>\n",
       "      <td>11</td>\n",
       "      <td>612.0</td>\n",
       "      <td>74.0</td>\n",
       "      <td>59.0</td>\n",
       "      <td>17963.41</td>\n",
       "    </tr>\n",
       "  </tbody>\n",
       "</table>\n",
       "<p>3214 rows × 6 columns</p>\n",
       "</div>"
      ],
      "text/plain": [
       "      user  month  total duration of calls  number of calls  \\\n",
       "0     1000      5                    159.0             22.0   \n",
       "1     1000      6                    172.0             43.0   \n",
       "2     1000      7                    340.0             47.0   \n",
       "3     1000      8                    408.0             52.0   \n",
       "4     1000      9                    466.0             58.0   \n",
       "...    ...    ...                      ...              ...   \n",
       "3169  1498     10                    247.0             41.0   \n",
       "3173  1499     12                    492.0             69.0   \n",
       "3170  1499      9                     70.0              9.0   \n",
       "3171  1499     10                    449.0             68.0   \n",
       "3172  1499     11                    612.0             74.0   \n",
       "\n",
       "      number of messages  total internet traffic  \n",
       "0                   22.0                 2253.50  \n",
       "1                   60.0                23233.82  \n",
       "2                   75.0                14003.65  \n",
       "3                   81.0                14055.95  \n",
       "4                   57.0                14568.93  \n",
       "...                  ...                     ...  \n",
       "3169                42.0                20579.46  \n",
       "3173                66.0                13055.63  \n",
       "3170                11.0                 1845.76  \n",
       "3171                48.0                17788.66  \n",
       "3172                59.0                17963.41  \n",
       "\n",
       "[3214 rows x 6 columns]"
      ]
     },
     "execution_count": 26,
     "metadata": {},
     "output_type": "execute_result"
    }
   ],
   "source": [
    "group_data"
   ]
  },
  {
   "cell_type": "code",
   "execution_count": 27,
   "metadata": {},
   "outputs": [
    {
     "data": {
      "text/html": [
       "<div>\n",
       "<style scoped>\n",
       "    .dataframe tbody tr th:only-of-type {\n",
       "        vertical-align: middle;\n",
       "    }\n",
       "\n",
       "    .dataframe tbody tr th {\n",
       "        vertical-align: top;\n",
       "    }\n",
       "\n",
       "    .dataframe thead th {\n",
       "        text-align: right;\n",
       "    }\n",
       "</style>\n",
       "<table border=\"1\" class=\"dataframe\">\n",
       "  <thead>\n",
       "    <tr style=\"text-align: right;\">\n",
       "      <th></th>\n",
       "      <th>user</th>\n",
       "      <th>month</th>\n",
       "      <th>total duration of calls</th>\n",
       "      <th>number of calls</th>\n",
       "      <th>number of messages</th>\n",
       "      <th>total internet traffic</th>\n",
       "      <th>user_id</th>\n",
       "      <th>age</th>\n",
       "      <th>churn_date</th>\n",
       "      <th>city</th>\n",
       "      <th>...</th>\n",
       "      <th>reg_date</th>\n",
       "      <th>tariff</th>\n",
       "      <th>messages_included</th>\n",
       "      <th>mb_per_month_included</th>\n",
       "      <th>minutes_included</th>\n",
       "      <th>rub_monthly_fee</th>\n",
       "      <th>rub_per_gb</th>\n",
       "      <th>rub_per_message</th>\n",
       "      <th>rub_per_minute</th>\n",
       "      <th>tariff_name</th>\n",
       "    </tr>\n",
       "  </thead>\n",
       "  <tbody>\n",
       "    <tr>\n",
       "      <th>0</th>\n",
       "      <td>1000</td>\n",
       "      <td>5</td>\n",
       "      <td>159.0</td>\n",
       "      <td>22.0</td>\n",
       "      <td>22.0</td>\n",
       "      <td>2253.50</td>\n",
       "      <td>1000</td>\n",
       "      <td>52</td>\n",
       "      <td>NaN</td>\n",
       "      <td>Краснодар</td>\n",
       "      <td>...</td>\n",
       "      <td>2018-05-25</td>\n",
       "      <td>ultra</td>\n",
       "      <td>1000</td>\n",
       "      <td>30720</td>\n",
       "      <td>3000</td>\n",
       "      <td>1950</td>\n",
       "      <td>150</td>\n",
       "      <td>1</td>\n",
       "      <td>1</td>\n",
       "      <td>ultra</td>\n",
       "    </tr>\n",
       "    <tr>\n",
       "      <th>1</th>\n",
       "      <td>1000</td>\n",
       "      <td>6</td>\n",
       "      <td>172.0</td>\n",
       "      <td>43.0</td>\n",
       "      <td>60.0</td>\n",
       "      <td>23233.82</td>\n",
       "      <td>1000</td>\n",
       "      <td>52</td>\n",
       "      <td>NaN</td>\n",
       "      <td>Краснодар</td>\n",
       "      <td>...</td>\n",
       "      <td>2018-05-25</td>\n",
       "      <td>ultra</td>\n",
       "      <td>1000</td>\n",
       "      <td>30720</td>\n",
       "      <td>3000</td>\n",
       "      <td>1950</td>\n",
       "      <td>150</td>\n",
       "      <td>1</td>\n",
       "      <td>1</td>\n",
       "      <td>ultra</td>\n",
       "    </tr>\n",
       "    <tr>\n",
       "      <th>2</th>\n",
       "      <td>1000</td>\n",
       "      <td>7</td>\n",
       "      <td>340.0</td>\n",
       "      <td>47.0</td>\n",
       "      <td>75.0</td>\n",
       "      <td>14003.65</td>\n",
       "      <td>1000</td>\n",
       "      <td>52</td>\n",
       "      <td>NaN</td>\n",
       "      <td>Краснодар</td>\n",
       "      <td>...</td>\n",
       "      <td>2018-05-25</td>\n",
       "      <td>ultra</td>\n",
       "      <td>1000</td>\n",
       "      <td>30720</td>\n",
       "      <td>3000</td>\n",
       "      <td>1950</td>\n",
       "      <td>150</td>\n",
       "      <td>1</td>\n",
       "      <td>1</td>\n",
       "      <td>ultra</td>\n",
       "    </tr>\n",
       "    <tr>\n",
       "      <th>3</th>\n",
       "      <td>1000</td>\n",
       "      <td>8</td>\n",
       "      <td>408.0</td>\n",
       "      <td>52.0</td>\n",
       "      <td>81.0</td>\n",
       "      <td>14055.95</td>\n",
       "      <td>1000</td>\n",
       "      <td>52</td>\n",
       "      <td>NaN</td>\n",
       "      <td>Краснодар</td>\n",
       "      <td>...</td>\n",
       "      <td>2018-05-25</td>\n",
       "      <td>ultra</td>\n",
       "      <td>1000</td>\n",
       "      <td>30720</td>\n",
       "      <td>3000</td>\n",
       "      <td>1950</td>\n",
       "      <td>150</td>\n",
       "      <td>1</td>\n",
       "      <td>1</td>\n",
       "      <td>ultra</td>\n",
       "    </tr>\n",
       "    <tr>\n",
       "      <th>4</th>\n",
       "      <td>1000</td>\n",
       "      <td>9</td>\n",
       "      <td>466.0</td>\n",
       "      <td>58.0</td>\n",
       "      <td>57.0</td>\n",
       "      <td>14568.93</td>\n",
       "      <td>1000</td>\n",
       "      <td>52</td>\n",
       "      <td>NaN</td>\n",
       "      <td>Краснодар</td>\n",
       "      <td>...</td>\n",
       "      <td>2018-05-25</td>\n",
       "      <td>ultra</td>\n",
       "      <td>1000</td>\n",
       "      <td>30720</td>\n",
       "      <td>3000</td>\n",
       "      <td>1950</td>\n",
       "      <td>150</td>\n",
       "      <td>1</td>\n",
       "      <td>1</td>\n",
       "      <td>ultra</td>\n",
       "    </tr>\n",
       "    <tr>\n",
       "      <th>...</th>\n",
       "      <td>...</td>\n",
       "      <td>...</td>\n",
       "      <td>...</td>\n",
       "      <td>...</td>\n",
       "      <td>...</td>\n",
       "      <td>...</td>\n",
       "      <td>...</td>\n",
       "      <td>...</td>\n",
       "      <td>...</td>\n",
       "      <td>...</td>\n",
       "      <td>...</td>\n",
       "      <td>...</td>\n",
       "      <td>...</td>\n",
       "      <td>...</td>\n",
       "      <td>...</td>\n",
       "      <td>...</td>\n",
       "      <td>...</td>\n",
       "      <td>...</td>\n",
       "      <td>...</td>\n",
       "      <td>...</td>\n",
       "      <td>...</td>\n",
       "    </tr>\n",
       "    <tr>\n",
       "      <th>3209</th>\n",
       "      <td>1498</td>\n",
       "      <td>10</td>\n",
       "      <td>247.0</td>\n",
       "      <td>41.0</td>\n",
       "      <td>42.0</td>\n",
       "      <td>20579.46</td>\n",
       "      <td>1498</td>\n",
       "      <td>68</td>\n",
       "      <td>2018-10-25</td>\n",
       "      <td>Владикавказ</td>\n",
       "      <td>...</td>\n",
       "      <td>2018-07-19</td>\n",
       "      <td>smart</td>\n",
       "      <td>50</td>\n",
       "      <td>15360</td>\n",
       "      <td>500</td>\n",
       "      <td>550</td>\n",
       "      <td>200</td>\n",
       "      <td>3</td>\n",
       "      <td>3</td>\n",
       "      <td>smart</td>\n",
       "    </tr>\n",
       "    <tr>\n",
       "      <th>3210</th>\n",
       "      <td>1499</td>\n",
       "      <td>12</td>\n",
       "      <td>492.0</td>\n",
       "      <td>69.0</td>\n",
       "      <td>66.0</td>\n",
       "      <td>13055.63</td>\n",
       "      <td>1499</td>\n",
       "      <td>35</td>\n",
       "      <td>NaN</td>\n",
       "      <td>Пермь</td>\n",
       "      <td>...</td>\n",
       "      <td>2018-09-27</td>\n",
       "      <td>smart</td>\n",
       "      <td>50</td>\n",
       "      <td>15360</td>\n",
       "      <td>500</td>\n",
       "      <td>550</td>\n",
       "      <td>200</td>\n",
       "      <td>3</td>\n",
       "      <td>3</td>\n",
       "      <td>smart</td>\n",
       "    </tr>\n",
       "    <tr>\n",
       "      <th>3211</th>\n",
       "      <td>1499</td>\n",
       "      <td>9</td>\n",
       "      <td>70.0</td>\n",
       "      <td>9.0</td>\n",
       "      <td>11.0</td>\n",
       "      <td>1845.76</td>\n",
       "      <td>1499</td>\n",
       "      <td>35</td>\n",
       "      <td>NaN</td>\n",
       "      <td>Пермь</td>\n",
       "      <td>...</td>\n",
       "      <td>2018-09-27</td>\n",
       "      <td>smart</td>\n",
       "      <td>50</td>\n",
       "      <td>15360</td>\n",
       "      <td>500</td>\n",
       "      <td>550</td>\n",
       "      <td>200</td>\n",
       "      <td>3</td>\n",
       "      <td>3</td>\n",
       "      <td>smart</td>\n",
       "    </tr>\n",
       "    <tr>\n",
       "      <th>3212</th>\n",
       "      <td>1499</td>\n",
       "      <td>10</td>\n",
       "      <td>449.0</td>\n",
       "      <td>68.0</td>\n",
       "      <td>48.0</td>\n",
       "      <td>17788.66</td>\n",
       "      <td>1499</td>\n",
       "      <td>35</td>\n",
       "      <td>NaN</td>\n",
       "      <td>Пермь</td>\n",
       "      <td>...</td>\n",
       "      <td>2018-09-27</td>\n",
       "      <td>smart</td>\n",
       "      <td>50</td>\n",
       "      <td>15360</td>\n",
       "      <td>500</td>\n",
       "      <td>550</td>\n",
       "      <td>200</td>\n",
       "      <td>3</td>\n",
       "      <td>3</td>\n",
       "      <td>smart</td>\n",
       "    </tr>\n",
       "    <tr>\n",
       "      <th>3213</th>\n",
       "      <td>1499</td>\n",
       "      <td>11</td>\n",
       "      <td>612.0</td>\n",
       "      <td>74.0</td>\n",
       "      <td>59.0</td>\n",
       "      <td>17963.41</td>\n",
       "      <td>1499</td>\n",
       "      <td>35</td>\n",
       "      <td>NaN</td>\n",
       "      <td>Пермь</td>\n",
       "      <td>...</td>\n",
       "      <td>2018-09-27</td>\n",
       "      <td>smart</td>\n",
       "      <td>50</td>\n",
       "      <td>15360</td>\n",
       "      <td>500</td>\n",
       "      <td>550</td>\n",
       "      <td>200</td>\n",
       "      <td>3</td>\n",
       "      <td>3</td>\n",
       "      <td>smart</td>\n",
       "    </tr>\n",
       "  </tbody>\n",
       "</table>\n",
       "<p>3214 rows × 22 columns</p>\n",
       "</div>"
      ],
      "text/plain": [
       "      user  month  total duration of calls  number of calls  \\\n",
       "0     1000      5                    159.0             22.0   \n",
       "1     1000      6                    172.0             43.0   \n",
       "2     1000      7                    340.0             47.0   \n",
       "3     1000      8                    408.0             52.0   \n",
       "4     1000      9                    466.0             58.0   \n",
       "...    ...    ...                      ...              ...   \n",
       "3209  1498     10                    247.0             41.0   \n",
       "3210  1499     12                    492.0             69.0   \n",
       "3211  1499      9                     70.0              9.0   \n",
       "3212  1499     10                    449.0             68.0   \n",
       "3213  1499     11                    612.0             74.0   \n",
       "\n",
       "      number of messages  total internet traffic  user_id  age  churn_date  \\\n",
       "0                   22.0                 2253.50     1000   52         NaN   \n",
       "1                   60.0                23233.82     1000   52         NaN   \n",
       "2                   75.0                14003.65     1000   52         NaN   \n",
       "3                   81.0                14055.95     1000   52         NaN   \n",
       "4                   57.0                14568.93     1000   52         NaN   \n",
       "...                  ...                     ...      ...  ...         ...   \n",
       "3209                42.0                20579.46     1498   68  2018-10-25   \n",
       "3210                66.0                13055.63     1499   35         NaN   \n",
       "3211                11.0                 1845.76     1499   35         NaN   \n",
       "3212                48.0                17788.66     1499   35         NaN   \n",
       "3213                59.0                17963.41     1499   35         NaN   \n",
       "\n",
       "             city  ...    reg_date tariff messages_included  \\\n",
       "0       Краснодар  ...  2018-05-25  ultra              1000   \n",
       "1       Краснодар  ...  2018-05-25  ultra              1000   \n",
       "2       Краснодар  ...  2018-05-25  ultra              1000   \n",
       "3       Краснодар  ...  2018-05-25  ultra              1000   \n",
       "4       Краснодар  ...  2018-05-25  ultra              1000   \n",
       "...           ...  ...         ...    ...               ...   \n",
       "3209  Владикавказ  ...  2018-07-19  smart                50   \n",
       "3210        Пермь  ...  2018-09-27  smart                50   \n",
       "3211        Пермь  ...  2018-09-27  smart                50   \n",
       "3212        Пермь  ...  2018-09-27  smart                50   \n",
       "3213        Пермь  ...  2018-09-27  smart                50   \n",
       "\n",
       "     mb_per_month_included  minutes_included  rub_monthly_fee  rub_per_gb  \\\n",
       "0                    30720              3000             1950         150   \n",
       "1                    30720              3000             1950         150   \n",
       "2                    30720              3000             1950         150   \n",
       "3                    30720              3000             1950         150   \n",
       "4                    30720              3000             1950         150   \n",
       "...                    ...               ...              ...         ...   \n",
       "3209                 15360               500              550         200   \n",
       "3210                 15360               500              550         200   \n",
       "3211                 15360               500              550         200   \n",
       "3212                 15360               500              550         200   \n",
       "3213                 15360               500              550         200   \n",
       "\n",
       "      rub_per_message  rub_per_minute  tariff_name  \n",
       "0                   1               1        ultra  \n",
       "1                   1               1        ultra  \n",
       "2                   1               1        ultra  \n",
       "3                   1               1        ultra  \n",
       "4                   1               1        ultra  \n",
       "...               ...             ...          ...  \n",
       "3209                3               3        smart  \n",
       "3210                3               3        smart  \n",
       "3211                3               3        smart  \n",
       "3212                3               3        smart  \n",
       "3213                3               3        smart  \n",
       "\n",
       "[3214 rows x 22 columns]"
      ]
     },
     "execution_count": 27,
     "metadata": {},
     "output_type": "execute_result"
    }
   ],
   "source": [
    "grouped_data_with_tariff = pd.merge(pd.merge(group_data, df_users, left_on='user', how='left', right_on='user_id'),\n",
    "                                    df_tariffs, how='left', left_on='tariff', right_on = 'tariff_name')\n",
    "grouped_data_with_tariff #добавляю тариф к каждому пользователю"
   ]
  },
  {
   "cell_type": "code",
   "execution_count": 28,
   "metadata": {},
   "outputs": [],
   "source": [
    "grouped_data_with_tariff=grouped_data_with_tariff.drop(['user_id'],axis=1) #удалю повторы\n",
    "grouped_data_with_tariff=grouped_data_with_tariff.drop(['tariff_name'],axis=1)"
   ]
  },
  {
   "cell_type": "code",
   "execution_count": 29,
   "metadata": {},
   "outputs": [
    {
     "data": {
      "text/html": [
       "<div>\n",
       "<style scoped>\n",
       "    .dataframe tbody tr th:only-of-type {\n",
       "        vertical-align: middle;\n",
       "    }\n",
       "\n",
       "    .dataframe tbody tr th {\n",
       "        vertical-align: top;\n",
       "    }\n",
       "\n",
       "    .dataframe thead th {\n",
       "        text-align: right;\n",
       "    }\n",
       "</style>\n",
       "<table border=\"1\" class=\"dataframe\">\n",
       "  <thead>\n",
       "    <tr style=\"text-align: right;\">\n",
       "      <th></th>\n",
       "      <th>user</th>\n",
       "      <th>month</th>\n",
       "      <th>total duration of calls</th>\n",
       "      <th>number of calls</th>\n",
       "      <th>number of messages</th>\n",
       "      <th>total internet traffic</th>\n",
       "      <th>age</th>\n",
       "      <th>churn_date</th>\n",
       "      <th>city</th>\n",
       "      <th>first_name</th>\n",
       "      <th>last_name</th>\n",
       "      <th>reg_date</th>\n",
       "      <th>tariff</th>\n",
       "      <th>messages_included</th>\n",
       "      <th>mb_per_month_included</th>\n",
       "      <th>minutes_included</th>\n",
       "      <th>rub_monthly_fee</th>\n",
       "      <th>rub_per_gb</th>\n",
       "      <th>rub_per_message</th>\n",
       "      <th>rub_per_minute</th>\n",
       "    </tr>\n",
       "  </thead>\n",
       "  <tbody>\n",
       "    <tr>\n",
       "      <th>0</th>\n",
       "      <td>1000</td>\n",
       "      <td>5</td>\n",
       "      <td>159.0</td>\n",
       "      <td>22.0</td>\n",
       "      <td>22.0</td>\n",
       "      <td>2253.50</td>\n",
       "      <td>52</td>\n",
       "      <td>NaN</td>\n",
       "      <td>Краснодар</td>\n",
       "      <td>Рафаил</td>\n",
       "      <td>Верещагин</td>\n",
       "      <td>2018-05-25</td>\n",
       "      <td>ultra</td>\n",
       "      <td>1000</td>\n",
       "      <td>30720</td>\n",
       "      <td>3000</td>\n",
       "      <td>1950</td>\n",
       "      <td>150</td>\n",
       "      <td>1</td>\n",
       "      <td>1</td>\n",
       "    </tr>\n",
       "    <tr>\n",
       "      <th>1</th>\n",
       "      <td>1000</td>\n",
       "      <td>6</td>\n",
       "      <td>172.0</td>\n",
       "      <td>43.0</td>\n",
       "      <td>60.0</td>\n",
       "      <td>23233.82</td>\n",
       "      <td>52</td>\n",
       "      <td>NaN</td>\n",
       "      <td>Краснодар</td>\n",
       "      <td>Рафаил</td>\n",
       "      <td>Верещагин</td>\n",
       "      <td>2018-05-25</td>\n",
       "      <td>ultra</td>\n",
       "      <td>1000</td>\n",
       "      <td>30720</td>\n",
       "      <td>3000</td>\n",
       "      <td>1950</td>\n",
       "      <td>150</td>\n",
       "      <td>1</td>\n",
       "      <td>1</td>\n",
       "    </tr>\n",
       "    <tr>\n",
       "      <th>2</th>\n",
       "      <td>1000</td>\n",
       "      <td>7</td>\n",
       "      <td>340.0</td>\n",
       "      <td>47.0</td>\n",
       "      <td>75.0</td>\n",
       "      <td>14003.65</td>\n",
       "      <td>52</td>\n",
       "      <td>NaN</td>\n",
       "      <td>Краснодар</td>\n",
       "      <td>Рафаил</td>\n",
       "      <td>Верещагин</td>\n",
       "      <td>2018-05-25</td>\n",
       "      <td>ultra</td>\n",
       "      <td>1000</td>\n",
       "      <td>30720</td>\n",
       "      <td>3000</td>\n",
       "      <td>1950</td>\n",
       "      <td>150</td>\n",
       "      <td>1</td>\n",
       "      <td>1</td>\n",
       "    </tr>\n",
       "    <tr>\n",
       "      <th>3</th>\n",
       "      <td>1000</td>\n",
       "      <td>8</td>\n",
       "      <td>408.0</td>\n",
       "      <td>52.0</td>\n",
       "      <td>81.0</td>\n",
       "      <td>14055.95</td>\n",
       "      <td>52</td>\n",
       "      <td>NaN</td>\n",
       "      <td>Краснодар</td>\n",
       "      <td>Рафаил</td>\n",
       "      <td>Верещагин</td>\n",
       "      <td>2018-05-25</td>\n",
       "      <td>ultra</td>\n",
       "      <td>1000</td>\n",
       "      <td>30720</td>\n",
       "      <td>3000</td>\n",
       "      <td>1950</td>\n",
       "      <td>150</td>\n",
       "      <td>1</td>\n",
       "      <td>1</td>\n",
       "    </tr>\n",
       "    <tr>\n",
       "      <th>4</th>\n",
       "      <td>1000</td>\n",
       "      <td>9</td>\n",
       "      <td>466.0</td>\n",
       "      <td>58.0</td>\n",
       "      <td>57.0</td>\n",
       "      <td>14568.93</td>\n",
       "      <td>52</td>\n",
       "      <td>NaN</td>\n",
       "      <td>Краснодар</td>\n",
       "      <td>Рафаил</td>\n",
       "      <td>Верещагин</td>\n",
       "      <td>2018-05-25</td>\n",
       "      <td>ultra</td>\n",
       "      <td>1000</td>\n",
       "      <td>30720</td>\n",
       "      <td>3000</td>\n",
       "      <td>1950</td>\n",
       "      <td>150</td>\n",
       "      <td>1</td>\n",
       "      <td>1</td>\n",
       "    </tr>\n",
       "    <tr>\n",
       "      <th>...</th>\n",
       "      <td>...</td>\n",
       "      <td>...</td>\n",
       "      <td>...</td>\n",
       "      <td>...</td>\n",
       "      <td>...</td>\n",
       "      <td>...</td>\n",
       "      <td>...</td>\n",
       "      <td>...</td>\n",
       "      <td>...</td>\n",
       "      <td>...</td>\n",
       "      <td>...</td>\n",
       "      <td>...</td>\n",
       "      <td>...</td>\n",
       "      <td>...</td>\n",
       "      <td>...</td>\n",
       "      <td>...</td>\n",
       "      <td>...</td>\n",
       "      <td>...</td>\n",
       "      <td>...</td>\n",
       "      <td>...</td>\n",
       "    </tr>\n",
       "    <tr>\n",
       "      <th>3209</th>\n",
       "      <td>1498</td>\n",
       "      <td>10</td>\n",
       "      <td>247.0</td>\n",
       "      <td>41.0</td>\n",
       "      <td>42.0</td>\n",
       "      <td>20579.46</td>\n",
       "      <td>68</td>\n",
       "      <td>2018-10-25</td>\n",
       "      <td>Владикавказ</td>\n",
       "      <td>Всеволод</td>\n",
       "      <td>Акимчин</td>\n",
       "      <td>2018-07-19</td>\n",
       "      <td>smart</td>\n",
       "      <td>50</td>\n",
       "      <td>15360</td>\n",
       "      <td>500</td>\n",
       "      <td>550</td>\n",
       "      <td>200</td>\n",
       "      <td>3</td>\n",
       "      <td>3</td>\n",
       "    </tr>\n",
       "    <tr>\n",
       "      <th>3210</th>\n",
       "      <td>1499</td>\n",
       "      <td>12</td>\n",
       "      <td>492.0</td>\n",
       "      <td>69.0</td>\n",
       "      <td>66.0</td>\n",
       "      <td>13055.63</td>\n",
       "      <td>35</td>\n",
       "      <td>NaN</td>\n",
       "      <td>Пермь</td>\n",
       "      <td>Гектор</td>\n",
       "      <td>Корнилов</td>\n",
       "      <td>2018-09-27</td>\n",
       "      <td>smart</td>\n",
       "      <td>50</td>\n",
       "      <td>15360</td>\n",
       "      <td>500</td>\n",
       "      <td>550</td>\n",
       "      <td>200</td>\n",
       "      <td>3</td>\n",
       "      <td>3</td>\n",
       "    </tr>\n",
       "    <tr>\n",
       "      <th>3211</th>\n",
       "      <td>1499</td>\n",
       "      <td>9</td>\n",
       "      <td>70.0</td>\n",
       "      <td>9.0</td>\n",
       "      <td>11.0</td>\n",
       "      <td>1845.76</td>\n",
       "      <td>35</td>\n",
       "      <td>NaN</td>\n",
       "      <td>Пермь</td>\n",
       "      <td>Гектор</td>\n",
       "      <td>Корнилов</td>\n",
       "      <td>2018-09-27</td>\n",
       "      <td>smart</td>\n",
       "      <td>50</td>\n",
       "      <td>15360</td>\n",
       "      <td>500</td>\n",
       "      <td>550</td>\n",
       "      <td>200</td>\n",
       "      <td>3</td>\n",
       "      <td>3</td>\n",
       "    </tr>\n",
       "    <tr>\n",
       "      <th>3212</th>\n",
       "      <td>1499</td>\n",
       "      <td>10</td>\n",
       "      <td>449.0</td>\n",
       "      <td>68.0</td>\n",
       "      <td>48.0</td>\n",
       "      <td>17788.66</td>\n",
       "      <td>35</td>\n",
       "      <td>NaN</td>\n",
       "      <td>Пермь</td>\n",
       "      <td>Гектор</td>\n",
       "      <td>Корнилов</td>\n",
       "      <td>2018-09-27</td>\n",
       "      <td>smart</td>\n",
       "      <td>50</td>\n",
       "      <td>15360</td>\n",
       "      <td>500</td>\n",
       "      <td>550</td>\n",
       "      <td>200</td>\n",
       "      <td>3</td>\n",
       "      <td>3</td>\n",
       "    </tr>\n",
       "    <tr>\n",
       "      <th>3213</th>\n",
       "      <td>1499</td>\n",
       "      <td>11</td>\n",
       "      <td>612.0</td>\n",
       "      <td>74.0</td>\n",
       "      <td>59.0</td>\n",
       "      <td>17963.41</td>\n",
       "      <td>35</td>\n",
       "      <td>NaN</td>\n",
       "      <td>Пермь</td>\n",
       "      <td>Гектор</td>\n",
       "      <td>Корнилов</td>\n",
       "      <td>2018-09-27</td>\n",
       "      <td>smart</td>\n",
       "      <td>50</td>\n",
       "      <td>15360</td>\n",
       "      <td>500</td>\n",
       "      <td>550</td>\n",
       "      <td>200</td>\n",
       "      <td>3</td>\n",
       "      <td>3</td>\n",
       "    </tr>\n",
       "  </tbody>\n",
       "</table>\n",
       "<p>3214 rows × 20 columns</p>\n",
       "</div>"
      ],
      "text/plain": [
       "      user  month  total duration of calls  number of calls  \\\n",
       "0     1000      5                    159.0             22.0   \n",
       "1     1000      6                    172.0             43.0   \n",
       "2     1000      7                    340.0             47.0   \n",
       "3     1000      8                    408.0             52.0   \n",
       "4     1000      9                    466.0             58.0   \n",
       "...    ...    ...                      ...              ...   \n",
       "3209  1498     10                    247.0             41.0   \n",
       "3210  1499     12                    492.0             69.0   \n",
       "3211  1499      9                     70.0              9.0   \n",
       "3212  1499     10                    449.0             68.0   \n",
       "3213  1499     11                    612.0             74.0   \n",
       "\n",
       "      number of messages  total internet traffic  age  churn_date  \\\n",
       "0                   22.0                 2253.50   52         NaN   \n",
       "1                   60.0                23233.82   52         NaN   \n",
       "2                   75.0                14003.65   52         NaN   \n",
       "3                   81.0                14055.95   52         NaN   \n",
       "4                   57.0                14568.93   52         NaN   \n",
       "...                  ...                     ...  ...         ...   \n",
       "3209                42.0                20579.46   68  2018-10-25   \n",
       "3210                66.0                13055.63   35         NaN   \n",
       "3211                11.0                 1845.76   35         NaN   \n",
       "3212                48.0                17788.66   35         NaN   \n",
       "3213                59.0                17963.41   35         NaN   \n",
       "\n",
       "             city first_name  last_name    reg_date tariff  messages_included  \\\n",
       "0       Краснодар     Рафаил  Верещагин  2018-05-25  ultra               1000   \n",
       "1       Краснодар     Рафаил  Верещагин  2018-05-25  ultra               1000   \n",
       "2       Краснодар     Рафаил  Верещагин  2018-05-25  ultra               1000   \n",
       "3       Краснодар     Рафаил  Верещагин  2018-05-25  ultra               1000   \n",
       "4       Краснодар     Рафаил  Верещагин  2018-05-25  ultra               1000   \n",
       "...           ...        ...        ...         ...    ...                ...   \n",
       "3209  Владикавказ   Всеволод    Акимчин  2018-07-19  smart                 50   \n",
       "3210        Пермь     Гектор   Корнилов  2018-09-27  smart                 50   \n",
       "3211        Пермь     Гектор   Корнилов  2018-09-27  smart                 50   \n",
       "3212        Пермь     Гектор   Корнилов  2018-09-27  smart                 50   \n",
       "3213        Пермь     Гектор   Корнилов  2018-09-27  smart                 50   \n",
       "\n",
       "      mb_per_month_included  minutes_included  rub_monthly_fee  rub_per_gb  \\\n",
       "0                     30720              3000             1950         150   \n",
       "1                     30720              3000             1950         150   \n",
       "2                     30720              3000             1950         150   \n",
       "3                     30720              3000             1950         150   \n",
       "4                     30720              3000             1950         150   \n",
       "...                     ...               ...              ...         ...   \n",
       "3209                  15360               500              550         200   \n",
       "3210                  15360               500              550         200   \n",
       "3211                  15360               500              550         200   \n",
       "3212                  15360               500              550         200   \n",
       "3213                  15360               500              550         200   \n",
       "\n",
       "      rub_per_message  rub_per_minute  \n",
       "0                   1               1  \n",
       "1                   1               1  \n",
       "2                   1               1  \n",
       "3                   1               1  \n",
       "4                   1               1  \n",
       "...               ...             ...  \n",
       "3209                3               3  \n",
       "3210                3               3  \n",
       "3211                3               3  \n",
       "3212                3               3  \n",
       "3213                3               3  \n",
       "\n",
       "[3214 rows x 20 columns]"
      ]
     },
     "execution_count": 29,
     "metadata": {},
     "output_type": "execute_result"
    }
   ],
   "source": [
    "grouped_data_with_tariff"
   ]
  },
  {
   "cell_type": "markdown",
   "metadata": {},
   "source": [
    "<div class=\"alert alert-info\">\n",
    " <font color='Blue'>\n",
    "Посчитаем помесячную выручку с каждого пользователя (вычтим бесплатный лимит из суммарного количества звонков, сообщений и интернет-трафика; остаток умножим на значение из тарифного плана; прибавим абонентскую плату, соответствующую тарифному плану)."
   ]
  },
  {
   "cell_type": "code",
   "execution_count": 30,
   "metadata": {},
   "outputs": [],
   "source": [
    "def one_client_cash(row):\n",
    "    #Абонентская плата\n",
    "    cash = row['rub_monthly_fee']\n",
    "    \n",
    "    #Превышение тарифа по инету\n",
    "    internet = row['total internet traffic'] - row['mb_per_month_included']\n",
    "    if internet > 0:\n",
    "        cash += math.ceil(internet/1024) * row['rub_per_gb']\n",
    "    \n",
    "    #Превышение тарифа по сообщениям\n",
    "    messages = row['number of messages'] - row['messages_included']\n",
    "    if messages > 0:\n",
    "        cash += messages * row['rub_per_message']\n",
    "    \n",
    "    #Превышение тарифа по звонкам\n",
    "    calls = row['total duration of calls'] - row['minutes_included']\n",
    "    if calls > 0:\n",
    "        cash += calls*row['rub_per_minute']\n",
    "    return cash"
   ]
  },
  {
   "cell_type": "code",
   "execution_count": 31,
   "metadata": {},
   "outputs": [
    {
     "data": {
      "text/html": [
       "<div>\n",
       "<style scoped>\n",
       "    .dataframe tbody tr th:only-of-type {\n",
       "        vertical-align: middle;\n",
       "    }\n",
       "\n",
       "    .dataframe tbody tr th {\n",
       "        vertical-align: top;\n",
       "    }\n",
       "\n",
       "    .dataframe thead th {\n",
       "        text-align: right;\n",
       "    }\n",
       "</style>\n",
       "<table border=\"1\" class=\"dataframe\">\n",
       "  <thead>\n",
       "    <tr style=\"text-align: right;\">\n",
       "      <th></th>\n",
       "      <th>user</th>\n",
       "      <th>month</th>\n",
       "      <th>total duration of calls</th>\n",
       "      <th>number of calls</th>\n",
       "      <th>number of messages</th>\n",
       "      <th>total internet traffic</th>\n",
       "      <th>age</th>\n",
       "      <th>churn_date</th>\n",
       "      <th>city</th>\n",
       "      <th>first_name</th>\n",
       "      <th>...</th>\n",
       "      <th>reg_date</th>\n",
       "      <th>tariff</th>\n",
       "      <th>messages_included</th>\n",
       "      <th>mb_per_month_included</th>\n",
       "      <th>minutes_included</th>\n",
       "      <th>rub_monthly_fee</th>\n",
       "      <th>rub_per_gb</th>\n",
       "      <th>rub_per_message</th>\n",
       "      <th>rub_per_minute</th>\n",
       "      <th>cash</th>\n",
       "    </tr>\n",
       "  </thead>\n",
       "  <tbody>\n",
       "    <tr>\n",
       "      <th>0</th>\n",
       "      <td>1000</td>\n",
       "      <td>5</td>\n",
       "      <td>159.0</td>\n",
       "      <td>22.0</td>\n",
       "      <td>22.0</td>\n",
       "      <td>2253.50</td>\n",
       "      <td>52</td>\n",
       "      <td>NaN</td>\n",
       "      <td>Краснодар</td>\n",
       "      <td>Рафаил</td>\n",
       "      <td>...</td>\n",
       "      <td>2018-05-25</td>\n",
       "      <td>ultra</td>\n",
       "      <td>1000</td>\n",
       "      <td>30720</td>\n",
       "      <td>3000</td>\n",
       "      <td>1950</td>\n",
       "      <td>150</td>\n",
       "      <td>1</td>\n",
       "      <td>1</td>\n",
       "      <td>1950.0</td>\n",
       "    </tr>\n",
       "    <tr>\n",
       "      <th>1</th>\n",
       "      <td>1000</td>\n",
       "      <td>6</td>\n",
       "      <td>172.0</td>\n",
       "      <td>43.0</td>\n",
       "      <td>60.0</td>\n",
       "      <td>23233.82</td>\n",
       "      <td>52</td>\n",
       "      <td>NaN</td>\n",
       "      <td>Краснодар</td>\n",
       "      <td>Рафаил</td>\n",
       "      <td>...</td>\n",
       "      <td>2018-05-25</td>\n",
       "      <td>ultra</td>\n",
       "      <td>1000</td>\n",
       "      <td>30720</td>\n",
       "      <td>3000</td>\n",
       "      <td>1950</td>\n",
       "      <td>150</td>\n",
       "      <td>1</td>\n",
       "      <td>1</td>\n",
       "      <td>1950.0</td>\n",
       "    </tr>\n",
       "    <tr>\n",
       "      <th>2</th>\n",
       "      <td>1000</td>\n",
       "      <td>7</td>\n",
       "      <td>340.0</td>\n",
       "      <td>47.0</td>\n",
       "      <td>75.0</td>\n",
       "      <td>14003.65</td>\n",
       "      <td>52</td>\n",
       "      <td>NaN</td>\n",
       "      <td>Краснодар</td>\n",
       "      <td>Рафаил</td>\n",
       "      <td>...</td>\n",
       "      <td>2018-05-25</td>\n",
       "      <td>ultra</td>\n",
       "      <td>1000</td>\n",
       "      <td>30720</td>\n",
       "      <td>3000</td>\n",
       "      <td>1950</td>\n",
       "      <td>150</td>\n",
       "      <td>1</td>\n",
       "      <td>1</td>\n",
       "      <td>1950.0</td>\n",
       "    </tr>\n",
       "    <tr>\n",
       "      <th>3</th>\n",
       "      <td>1000</td>\n",
       "      <td>8</td>\n",
       "      <td>408.0</td>\n",
       "      <td>52.0</td>\n",
       "      <td>81.0</td>\n",
       "      <td>14055.95</td>\n",
       "      <td>52</td>\n",
       "      <td>NaN</td>\n",
       "      <td>Краснодар</td>\n",
       "      <td>Рафаил</td>\n",
       "      <td>...</td>\n",
       "      <td>2018-05-25</td>\n",
       "      <td>ultra</td>\n",
       "      <td>1000</td>\n",
       "      <td>30720</td>\n",
       "      <td>3000</td>\n",
       "      <td>1950</td>\n",
       "      <td>150</td>\n",
       "      <td>1</td>\n",
       "      <td>1</td>\n",
       "      <td>1950.0</td>\n",
       "    </tr>\n",
       "    <tr>\n",
       "      <th>4</th>\n",
       "      <td>1000</td>\n",
       "      <td>9</td>\n",
       "      <td>466.0</td>\n",
       "      <td>58.0</td>\n",
       "      <td>57.0</td>\n",
       "      <td>14568.93</td>\n",
       "      <td>52</td>\n",
       "      <td>NaN</td>\n",
       "      <td>Краснодар</td>\n",
       "      <td>Рафаил</td>\n",
       "      <td>...</td>\n",
       "      <td>2018-05-25</td>\n",
       "      <td>ultra</td>\n",
       "      <td>1000</td>\n",
       "      <td>30720</td>\n",
       "      <td>3000</td>\n",
       "      <td>1950</td>\n",
       "      <td>150</td>\n",
       "      <td>1</td>\n",
       "      <td>1</td>\n",
       "      <td>1950.0</td>\n",
       "    </tr>\n",
       "    <tr>\n",
       "      <th>...</th>\n",
       "      <td>...</td>\n",
       "      <td>...</td>\n",
       "      <td>...</td>\n",
       "      <td>...</td>\n",
       "      <td>...</td>\n",
       "      <td>...</td>\n",
       "      <td>...</td>\n",
       "      <td>...</td>\n",
       "      <td>...</td>\n",
       "      <td>...</td>\n",
       "      <td>...</td>\n",
       "      <td>...</td>\n",
       "      <td>...</td>\n",
       "      <td>...</td>\n",
       "      <td>...</td>\n",
       "      <td>...</td>\n",
       "      <td>...</td>\n",
       "      <td>...</td>\n",
       "      <td>...</td>\n",
       "      <td>...</td>\n",
       "      <td>...</td>\n",
       "    </tr>\n",
       "    <tr>\n",
       "      <th>3209</th>\n",
       "      <td>1498</td>\n",
       "      <td>10</td>\n",
       "      <td>247.0</td>\n",
       "      <td>41.0</td>\n",
       "      <td>42.0</td>\n",
       "      <td>20579.46</td>\n",
       "      <td>68</td>\n",
       "      <td>2018-10-25</td>\n",
       "      <td>Владикавказ</td>\n",
       "      <td>Всеволод</td>\n",
       "      <td>...</td>\n",
       "      <td>2018-07-19</td>\n",
       "      <td>smart</td>\n",
       "      <td>50</td>\n",
       "      <td>15360</td>\n",
       "      <td>500</td>\n",
       "      <td>550</td>\n",
       "      <td>200</td>\n",
       "      <td>3</td>\n",
       "      <td>3</td>\n",
       "      <td>1750.0</td>\n",
       "    </tr>\n",
       "    <tr>\n",
       "      <th>3210</th>\n",
       "      <td>1499</td>\n",
       "      <td>12</td>\n",
       "      <td>492.0</td>\n",
       "      <td>69.0</td>\n",
       "      <td>66.0</td>\n",
       "      <td>13055.63</td>\n",
       "      <td>35</td>\n",
       "      <td>NaN</td>\n",
       "      <td>Пермь</td>\n",
       "      <td>Гектор</td>\n",
       "      <td>...</td>\n",
       "      <td>2018-09-27</td>\n",
       "      <td>smart</td>\n",
       "      <td>50</td>\n",
       "      <td>15360</td>\n",
       "      <td>500</td>\n",
       "      <td>550</td>\n",
       "      <td>200</td>\n",
       "      <td>3</td>\n",
       "      <td>3</td>\n",
       "      <td>598.0</td>\n",
       "    </tr>\n",
       "    <tr>\n",
       "      <th>3211</th>\n",
       "      <td>1499</td>\n",
       "      <td>9</td>\n",
       "      <td>70.0</td>\n",
       "      <td>9.0</td>\n",
       "      <td>11.0</td>\n",
       "      <td>1845.76</td>\n",
       "      <td>35</td>\n",
       "      <td>NaN</td>\n",
       "      <td>Пермь</td>\n",
       "      <td>Гектор</td>\n",
       "      <td>...</td>\n",
       "      <td>2018-09-27</td>\n",
       "      <td>smart</td>\n",
       "      <td>50</td>\n",
       "      <td>15360</td>\n",
       "      <td>500</td>\n",
       "      <td>550</td>\n",
       "      <td>200</td>\n",
       "      <td>3</td>\n",
       "      <td>3</td>\n",
       "      <td>550.0</td>\n",
       "    </tr>\n",
       "    <tr>\n",
       "      <th>3212</th>\n",
       "      <td>1499</td>\n",
       "      <td>10</td>\n",
       "      <td>449.0</td>\n",
       "      <td>68.0</td>\n",
       "      <td>48.0</td>\n",
       "      <td>17788.66</td>\n",
       "      <td>35</td>\n",
       "      <td>NaN</td>\n",
       "      <td>Пермь</td>\n",
       "      <td>Гектор</td>\n",
       "      <td>...</td>\n",
       "      <td>2018-09-27</td>\n",
       "      <td>smart</td>\n",
       "      <td>50</td>\n",
       "      <td>15360</td>\n",
       "      <td>500</td>\n",
       "      <td>550</td>\n",
       "      <td>200</td>\n",
       "      <td>3</td>\n",
       "      <td>3</td>\n",
       "      <td>1150.0</td>\n",
       "    </tr>\n",
       "    <tr>\n",
       "      <th>3213</th>\n",
       "      <td>1499</td>\n",
       "      <td>11</td>\n",
       "      <td>612.0</td>\n",
       "      <td>74.0</td>\n",
       "      <td>59.0</td>\n",
       "      <td>17963.41</td>\n",
       "      <td>35</td>\n",
       "      <td>NaN</td>\n",
       "      <td>Пермь</td>\n",
       "      <td>Гектор</td>\n",
       "      <td>...</td>\n",
       "      <td>2018-09-27</td>\n",
       "      <td>smart</td>\n",
       "      <td>50</td>\n",
       "      <td>15360</td>\n",
       "      <td>500</td>\n",
       "      <td>550</td>\n",
       "      <td>200</td>\n",
       "      <td>3</td>\n",
       "      <td>3</td>\n",
       "      <td>1513.0</td>\n",
       "    </tr>\n",
       "  </tbody>\n",
       "</table>\n",
       "<p>3214 rows × 21 columns</p>\n",
       "</div>"
      ],
      "text/plain": [
       "      user  month  total duration of calls  number of calls  \\\n",
       "0     1000      5                    159.0             22.0   \n",
       "1     1000      6                    172.0             43.0   \n",
       "2     1000      7                    340.0             47.0   \n",
       "3     1000      8                    408.0             52.0   \n",
       "4     1000      9                    466.0             58.0   \n",
       "...    ...    ...                      ...              ...   \n",
       "3209  1498     10                    247.0             41.0   \n",
       "3210  1499     12                    492.0             69.0   \n",
       "3211  1499      9                     70.0              9.0   \n",
       "3212  1499     10                    449.0             68.0   \n",
       "3213  1499     11                    612.0             74.0   \n",
       "\n",
       "      number of messages  total internet traffic  age  churn_date  \\\n",
       "0                   22.0                 2253.50   52         NaN   \n",
       "1                   60.0                23233.82   52         NaN   \n",
       "2                   75.0                14003.65   52         NaN   \n",
       "3                   81.0                14055.95   52         NaN   \n",
       "4                   57.0                14568.93   52         NaN   \n",
       "...                  ...                     ...  ...         ...   \n",
       "3209                42.0                20579.46   68  2018-10-25   \n",
       "3210                66.0                13055.63   35         NaN   \n",
       "3211                11.0                 1845.76   35         NaN   \n",
       "3212                48.0                17788.66   35         NaN   \n",
       "3213                59.0                17963.41   35         NaN   \n",
       "\n",
       "             city first_name  ...    reg_date tariff messages_included  \\\n",
       "0       Краснодар     Рафаил  ...  2018-05-25  ultra              1000   \n",
       "1       Краснодар     Рафаил  ...  2018-05-25  ultra              1000   \n",
       "2       Краснодар     Рафаил  ...  2018-05-25  ultra              1000   \n",
       "3       Краснодар     Рафаил  ...  2018-05-25  ultra              1000   \n",
       "4       Краснодар     Рафаил  ...  2018-05-25  ultra              1000   \n",
       "...           ...        ...  ...         ...    ...               ...   \n",
       "3209  Владикавказ   Всеволод  ...  2018-07-19  smart                50   \n",
       "3210        Пермь     Гектор  ...  2018-09-27  smart                50   \n",
       "3211        Пермь     Гектор  ...  2018-09-27  smart                50   \n",
       "3212        Пермь     Гектор  ...  2018-09-27  smart                50   \n",
       "3213        Пермь     Гектор  ...  2018-09-27  smart                50   \n",
       "\n",
       "      mb_per_month_included  minutes_included  rub_monthly_fee  rub_per_gb  \\\n",
       "0                     30720              3000             1950         150   \n",
       "1                     30720              3000             1950         150   \n",
       "2                     30720              3000             1950         150   \n",
       "3                     30720              3000             1950         150   \n",
       "4                     30720              3000             1950         150   \n",
       "...                     ...               ...              ...         ...   \n",
       "3209                  15360               500              550         200   \n",
       "3210                  15360               500              550         200   \n",
       "3211                  15360               500              550         200   \n",
       "3212                  15360               500              550         200   \n",
       "3213                  15360               500              550         200   \n",
       "\n",
       "      rub_per_message  rub_per_minute    cash  \n",
       "0                   1               1  1950.0  \n",
       "1                   1               1  1950.0  \n",
       "2                   1               1  1950.0  \n",
       "3                   1               1  1950.0  \n",
       "4                   1               1  1950.0  \n",
       "...               ...             ...     ...  \n",
       "3209                3               3  1750.0  \n",
       "3210                3               3   598.0  \n",
       "3211                3               3   550.0  \n",
       "3212                3               3  1150.0  \n",
       "3213                3               3  1513.0  \n",
       "\n",
       "[3214 rows x 21 columns]"
      ]
     },
     "execution_count": 31,
     "metadata": {},
     "output_type": "execute_result"
    }
   ],
   "source": [
    "grouped_data_with_tariff['cash']=grouped_data_with_tariff.apply(one_client_cash,axis=1)\n",
    "grouped_data_with_tariff\n"
   ]
  },
  {
   "cell_type": "markdown",
   "metadata": {},
   "source": [
    "<div class=\"alert alert-info\">\n",
    " <font color='Blue'>\n",
    "Добавил math.ceil(internet/1024) к измерению трафика."
   ]
  },
  {
   "cell_type": "code",
   "execution_count": 32,
   "metadata": {},
   "outputs": [
    {
     "data": {
      "text/html": [
       "<div>\n",
       "<style scoped>\n",
       "    .dataframe tbody tr th:only-of-type {\n",
       "        vertical-align: middle;\n",
       "    }\n",
       "\n",
       "    .dataframe tbody tr th {\n",
       "        vertical-align: top;\n",
       "    }\n",
       "\n",
       "    .dataframe thead th {\n",
       "        text-align: right;\n",
       "    }\n",
       "</style>\n",
       "<table border=\"1\" class=\"dataframe\">\n",
       "  <thead>\n",
       "    <tr style=\"text-align: right;\">\n",
       "      <th></th>\n",
       "      <th>user</th>\n",
       "      <th>month</th>\n",
       "      <th>total duration of calls</th>\n",
       "      <th>number of calls</th>\n",
       "      <th>number of messages</th>\n",
       "      <th>total internet traffic</th>\n",
       "      <th>age</th>\n",
       "      <th>churn_date</th>\n",
       "      <th>city</th>\n",
       "      <th>first_name</th>\n",
       "      <th>...</th>\n",
       "      <th>reg_date</th>\n",
       "      <th>tariff</th>\n",
       "      <th>messages_included</th>\n",
       "      <th>mb_per_month_included</th>\n",
       "      <th>minutes_included</th>\n",
       "      <th>rub_monthly_fee</th>\n",
       "      <th>rub_per_gb</th>\n",
       "      <th>rub_per_message</th>\n",
       "      <th>rub_per_minute</th>\n",
       "      <th>cash</th>\n",
       "    </tr>\n",
       "  </thead>\n",
       "  <tbody>\n",
       "    <tr>\n",
       "      <th>0</th>\n",
       "      <td>1000</td>\n",
       "      <td>5</td>\n",
       "      <td>159.0</td>\n",
       "      <td>22.0</td>\n",
       "      <td>22.0</td>\n",
       "      <td>2253.50</td>\n",
       "      <td>52</td>\n",
       "      <td>NaN</td>\n",
       "      <td>Краснодар</td>\n",
       "      <td>Рафаил</td>\n",
       "      <td>...</td>\n",
       "      <td>2018-05-25</td>\n",
       "      <td>ultra</td>\n",
       "      <td>1000</td>\n",
       "      <td>30720</td>\n",
       "      <td>3000</td>\n",
       "      <td>1950</td>\n",
       "      <td>150</td>\n",
       "      <td>1</td>\n",
       "      <td>1</td>\n",
       "      <td>1950.0</td>\n",
       "    </tr>\n",
       "    <tr>\n",
       "      <th>1</th>\n",
       "      <td>1000</td>\n",
       "      <td>6</td>\n",
       "      <td>172.0</td>\n",
       "      <td>43.0</td>\n",
       "      <td>60.0</td>\n",
       "      <td>23233.82</td>\n",
       "      <td>52</td>\n",
       "      <td>NaN</td>\n",
       "      <td>Краснодар</td>\n",
       "      <td>Рафаил</td>\n",
       "      <td>...</td>\n",
       "      <td>2018-05-25</td>\n",
       "      <td>ultra</td>\n",
       "      <td>1000</td>\n",
       "      <td>30720</td>\n",
       "      <td>3000</td>\n",
       "      <td>1950</td>\n",
       "      <td>150</td>\n",
       "      <td>1</td>\n",
       "      <td>1</td>\n",
       "      <td>1950.0</td>\n",
       "    </tr>\n",
       "    <tr>\n",
       "      <th>2</th>\n",
       "      <td>1000</td>\n",
       "      <td>7</td>\n",
       "      <td>340.0</td>\n",
       "      <td>47.0</td>\n",
       "      <td>75.0</td>\n",
       "      <td>14003.65</td>\n",
       "      <td>52</td>\n",
       "      <td>NaN</td>\n",
       "      <td>Краснодар</td>\n",
       "      <td>Рафаил</td>\n",
       "      <td>...</td>\n",
       "      <td>2018-05-25</td>\n",
       "      <td>ultra</td>\n",
       "      <td>1000</td>\n",
       "      <td>30720</td>\n",
       "      <td>3000</td>\n",
       "      <td>1950</td>\n",
       "      <td>150</td>\n",
       "      <td>1</td>\n",
       "      <td>1</td>\n",
       "      <td>1950.0</td>\n",
       "    </tr>\n",
       "    <tr>\n",
       "      <th>3</th>\n",
       "      <td>1000</td>\n",
       "      <td>8</td>\n",
       "      <td>408.0</td>\n",
       "      <td>52.0</td>\n",
       "      <td>81.0</td>\n",
       "      <td>14055.95</td>\n",
       "      <td>52</td>\n",
       "      <td>NaN</td>\n",
       "      <td>Краснодар</td>\n",
       "      <td>Рафаил</td>\n",
       "      <td>...</td>\n",
       "      <td>2018-05-25</td>\n",
       "      <td>ultra</td>\n",
       "      <td>1000</td>\n",
       "      <td>30720</td>\n",
       "      <td>3000</td>\n",
       "      <td>1950</td>\n",
       "      <td>150</td>\n",
       "      <td>1</td>\n",
       "      <td>1</td>\n",
       "      <td>1950.0</td>\n",
       "    </tr>\n",
       "    <tr>\n",
       "      <th>4</th>\n",
       "      <td>1000</td>\n",
       "      <td>9</td>\n",
       "      <td>466.0</td>\n",
       "      <td>58.0</td>\n",
       "      <td>57.0</td>\n",
       "      <td>14568.93</td>\n",
       "      <td>52</td>\n",
       "      <td>NaN</td>\n",
       "      <td>Краснодар</td>\n",
       "      <td>Рафаил</td>\n",
       "      <td>...</td>\n",
       "      <td>2018-05-25</td>\n",
       "      <td>ultra</td>\n",
       "      <td>1000</td>\n",
       "      <td>30720</td>\n",
       "      <td>3000</td>\n",
       "      <td>1950</td>\n",
       "      <td>150</td>\n",
       "      <td>1</td>\n",
       "      <td>1</td>\n",
       "      <td>1950.0</td>\n",
       "    </tr>\n",
       "    <tr>\n",
       "      <th>...</th>\n",
       "      <td>...</td>\n",
       "      <td>...</td>\n",
       "      <td>...</td>\n",
       "      <td>...</td>\n",
       "      <td>...</td>\n",
       "      <td>...</td>\n",
       "      <td>...</td>\n",
       "      <td>...</td>\n",
       "      <td>...</td>\n",
       "      <td>...</td>\n",
       "      <td>...</td>\n",
       "      <td>...</td>\n",
       "      <td>...</td>\n",
       "      <td>...</td>\n",
       "      <td>...</td>\n",
       "      <td>...</td>\n",
       "      <td>...</td>\n",
       "      <td>...</td>\n",
       "      <td>...</td>\n",
       "      <td>...</td>\n",
       "      <td>...</td>\n",
       "    </tr>\n",
       "    <tr>\n",
       "      <th>3209</th>\n",
       "      <td>1498</td>\n",
       "      <td>10</td>\n",
       "      <td>247.0</td>\n",
       "      <td>41.0</td>\n",
       "      <td>42.0</td>\n",
       "      <td>20579.46</td>\n",
       "      <td>68</td>\n",
       "      <td>2018-10-25</td>\n",
       "      <td>Владикавказ</td>\n",
       "      <td>Всеволод</td>\n",
       "      <td>...</td>\n",
       "      <td>2018-07-19</td>\n",
       "      <td>smart</td>\n",
       "      <td>50</td>\n",
       "      <td>15360</td>\n",
       "      <td>500</td>\n",
       "      <td>550</td>\n",
       "      <td>200</td>\n",
       "      <td>3</td>\n",
       "      <td>3</td>\n",
       "      <td>1750.0</td>\n",
       "    </tr>\n",
       "    <tr>\n",
       "      <th>3210</th>\n",
       "      <td>1499</td>\n",
       "      <td>12</td>\n",
       "      <td>492.0</td>\n",
       "      <td>69.0</td>\n",
       "      <td>66.0</td>\n",
       "      <td>13055.63</td>\n",
       "      <td>35</td>\n",
       "      <td>NaN</td>\n",
       "      <td>Пермь</td>\n",
       "      <td>Гектор</td>\n",
       "      <td>...</td>\n",
       "      <td>2018-09-27</td>\n",
       "      <td>smart</td>\n",
       "      <td>50</td>\n",
       "      <td>15360</td>\n",
       "      <td>500</td>\n",
       "      <td>550</td>\n",
       "      <td>200</td>\n",
       "      <td>3</td>\n",
       "      <td>3</td>\n",
       "      <td>598.0</td>\n",
       "    </tr>\n",
       "    <tr>\n",
       "      <th>3211</th>\n",
       "      <td>1499</td>\n",
       "      <td>9</td>\n",
       "      <td>70.0</td>\n",
       "      <td>9.0</td>\n",
       "      <td>11.0</td>\n",
       "      <td>1845.76</td>\n",
       "      <td>35</td>\n",
       "      <td>NaN</td>\n",
       "      <td>Пермь</td>\n",
       "      <td>Гектор</td>\n",
       "      <td>...</td>\n",
       "      <td>2018-09-27</td>\n",
       "      <td>smart</td>\n",
       "      <td>50</td>\n",
       "      <td>15360</td>\n",
       "      <td>500</td>\n",
       "      <td>550</td>\n",
       "      <td>200</td>\n",
       "      <td>3</td>\n",
       "      <td>3</td>\n",
       "      <td>550.0</td>\n",
       "    </tr>\n",
       "    <tr>\n",
       "      <th>3212</th>\n",
       "      <td>1499</td>\n",
       "      <td>10</td>\n",
       "      <td>449.0</td>\n",
       "      <td>68.0</td>\n",
       "      <td>48.0</td>\n",
       "      <td>17788.66</td>\n",
       "      <td>35</td>\n",
       "      <td>NaN</td>\n",
       "      <td>Пермь</td>\n",
       "      <td>Гектор</td>\n",
       "      <td>...</td>\n",
       "      <td>2018-09-27</td>\n",
       "      <td>smart</td>\n",
       "      <td>50</td>\n",
       "      <td>15360</td>\n",
       "      <td>500</td>\n",
       "      <td>550</td>\n",
       "      <td>200</td>\n",
       "      <td>3</td>\n",
       "      <td>3</td>\n",
       "      <td>1150.0</td>\n",
       "    </tr>\n",
       "    <tr>\n",
       "      <th>3213</th>\n",
       "      <td>1499</td>\n",
       "      <td>11</td>\n",
       "      <td>612.0</td>\n",
       "      <td>74.0</td>\n",
       "      <td>59.0</td>\n",
       "      <td>17963.41</td>\n",
       "      <td>35</td>\n",
       "      <td>NaN</td>\n",
       "      <td>Пермь</td>\n",
       "      <td>Гектор</td>\n",
       "      <td>...</td>\n",
       "      <td>2018-09-27</td>\n",
       "      <td>smart</td>\n",
       "      <td>50</td>\n",
       "      <td>15360</td>\n",
       "      <td>500</td>\n",
       "      <td>550</td>\n",
       "      <td>200</td>\n",
       "      <td>3</td>\n",
       "      <td>3</td>\n",
       "      <td>1513.0</td>\n",
       "    </tr>\n",
       "  </tbody>\n",
       "</table>\n",
       "<p>3214 rows × 21 columns</p>\n",
       "</div>"
      ],
      "text/plain": [
       "      user  month  total duration of calls  number of calls  \\\n",
       "0     1000      5                    159.0             22.0   \n",
       "1     1000      6                    172.0             43.0   \n",
       "2     1000      7                    340.0             47.0   \n",
       "3     1000      8                    408.0             52.0   \n",
       "4     1000      9                    466.0             58.0   \n",
       "...    ...    ...                      ...              ...   \n",
       "3209  1498     10                    247.0             41.0   \n",
       "3210  1499     12                    492.0             69.0   \n",
       "3211  1499      9                     70.0              9.0   \n",
       "3212  1499     10                    449.0             68.0   \n",
       "3213  1499     11                    612.0             74.0   \n",
       "\n",
       "      number of messages  total internet traffic  age  churn_date  \\\n",
       "0                   22.0                 2253.50   52         NaN   \n",
       "1                   60.0                23233.82   52         NaN   \n",
       "2                   75.0                14003.65   52         NaN   \n",
       "3                   81.0                14055.95   52         NaN   \n",
       "4                   57.0                14568.93   52         NaN   \n",
       "...                  ...                     ...  ...         ...   \n",
       "3209                42.0                20579.46   68  2018-10-25   \n",
       "3210                66.0                13055.63   35         NaN   \n",
       "3211                11.0                 1845.76   35         NaN   \n",
       "3212                48.0                17788.66   35         NaN   \n",
       "3213                59.0                17963.41   35         NaN   \n",
       "\n",
       "             city first_name  ...    reg_date tariff messages_included  \\\n",
       "0       Краснодар     Рафаил  ...  2018-05-25  ultra              1000   \n",
       "1       Краснодар     Рафаил  ...  2018-05-25  ultra              1000   \n",
       "2       Краснодар     Рафаил  ...  2018-05-25  ultra              1000   \n",
       "3       Краснодар     Рафаил  ...  2018-05-25  ultra              1000   \n",
       "4       Краснодар     Рафаил  ...  2018-05-25  ultra              1000   \n",
       "...           ...        ...  ...         ...    ...               ...   \n",
       "3209  Владикавказ   Всеволод  ...  2018-07-19  smart                50   \n",
       "3210        Пермь     Гектор  ...  2018-09-27  smart                50   \n",
       "3211        Пермь     Гектор  ...  2018-09-27  smart                50   \n",
       "3212        Пермь     Гектор  ...  2018-09-27  smart                50   \n",
       "3213        Пермь     Гектор  ...  2018-09-27  smart                50   \n",
       "\n",
       "      mb_per_month_included  minutes_included  rub_monthly_fee  rub_per_gb  \\\n",
       "0                     30720              3000             1950         150   \n",
       "1                     30720              3000             1950         150   \n",
       "2                     30720              3000             1950         150   \n",
       "3                     30720              3000             1950         150   \n",
       "4                     30720              3000             1950         150   \n",
       "...                     ...               ...              ...         ...   \n",
       "3209                  15360               500              550         200   \n",
       "3210                  15360               500              550         200   \n",
       "3211                  15360               500              550         200   \n",
       "3212                  15360               500              550         200   \n",
       "3213                  15360               500              550         200   \n",
       "\n",
       "      rub_per_message  rub_per_minute    cash  \n",
       "0                   1               1  1950.0  \n",
       "1                   1               1  1950.0  \n",
       "2                   1               1  1950.0  \n",
       "3                   1               1  1950.0  \n",
       "4                   1               1  1950.0  \n",
       "...               ...             ...     ...  \n",
       "3209                3               3  1750.0  \n",
       "3210                3               3   598.0  \n",
       "3211                3               3   550.0  \n",
       "3212                3               3  1150.0  \n",
       "3213                3               3  1513.0  \n",
       "\n",
       "[3214 rows x 21 columns]"
      ]
     },
     "execution_count": 32,
     "metadata": {},
     "output_type": "execute_result"
    }
   ],
   "source": [
    "grouped_data_with_tariff"
   ]
  },
  {
   "cell_type": "markdown",
   "metadata": {},
   "source": [
    "##  3. Анализ данных"
   ]
  },
  {
   "cell_type": "markdown",
   "metadata": {},
   "source": [
    " <div class=\"alert alert-info\">\n",
    " <font color='Blue'>\n",
    "         Опишем поведение клиентов оператора, исходя из выборки. Сколько минут разговора, сколько сообщений и какой объём интернет-трафика требуется пользователям каждого тарифа в месяц?"
   ]
  },
  {
   "cell_type": "markdown",
   "metadata": {},
   "source": [
    " <div class=\"alert alert-info\">\n",
    " <font color='Blue'>\n",
    "         <b> Посчитаем среднее количество, дисперсию и стандартное отклонение. Постройте гистограммы. Опишите распределения."
   ]
  },
  {
   "cell_type": "code",
   "execution_count": 33,
   "metadata": {},
   "outputs": [],
   "source": [
    "data_analys=grouped_data_with_tariff.pivot_table(index=['tariff','month'],values=['number of calls','total duration of calls','number of messages','cash'],aggfunc=['mean'] )"
   ]
  },
  {
   "cell_type": "code",
   "execution_count": 34,
   "metadata": {},
   "outputs": [
    {
     "data": {
      "text/html": [
       "<div>\n",
       "<style scoped>\n",
       "    .dataframe tbody tr th:only-of-type {\n",
       "        vertical-align: middle;\n",
       "    }\n",
       "\n",
       "    .dataframe tbody tr th {\n",
       "        vertical-align: top;\n",
       "    }\n",
       "\n",
       "    .dataframe thead tr th {\n",
       "        text-align: left;\n",
       "    }\n",
       "\n",
       "    .dataframe thead tr:last-of-type th {\n",
       "        text-align: right;\n",
       "    }\n",
       "</style>\n",
       "<table border=\"1\" class=\"dataframe\">\n",
       "  <thead>\n",
       "    <tr>\n",
       "      <th></th>\n",
       "      <th></th>\n",
       "      <th colspan=\"4\" halign=\"left\">mean</th>\n",
       "    </tr>\n",
       "    <tr>\n",
       "      <th></th>\n",
       "      <th></th>\n",
       "      <th>cash</th>\n",
       "      <th>number of calls</th>\n",
       "      <th>number of messages</th>\n",
       "      <th>total duration of calls</th>\n",
       "    </tr>\n",
       "    <tr>\n",
       "      <th>tariff</th>\n",
       "      <th>month</th>\n",
       "      <th></th>\n",
       "      <th></th>\n",
       "      <th></th>\n",
       "      <th></th>\n",
       "    </tr>\n",
       "  </thead>\n",
       "  <tbody>\n",
       "    <tr>\n",
       "      <th rowspan=\"12\" valign=\"top\">smart</th>\n",
       "      <th>1</th>\n",
       "      <td>721.323529</td>\n",
       "      <td>27.676471</td>\n",
       "      <td>18.235294</td>\n",
       "      <td>203.852941</td>\n",
       "    </tr>\n",
       "    <tr>\n",
       "      <th>2</th>\n",
       "      <td>827.603448</td>\n",
       "      <td>40.189655</td>\n",
       "      <td>24.086207</td>\n",
       "      <td>298.689655</td>\n",
       "    </tr>\n",
       "    <tr>\n",
       "      <th>3</th>\n",
       "      <td>1164.623377</td>\n",
       "      <td>54.324675</td>\n",
       "      <td>31.857143</td>\n",
       "      <td>390.051948</td>\n",
       "    </tr>\n",
       "    <tr>\n",
       "      <th>4</th>\n",
       "      <td>963.089286</td>\n",
       "      <td>51.312500</td>\n",
       "      <td>30.741071</td>\n",
       "      <td>367.133929</td>\n",
       "    </tr>\n",
       "    <tr>\n",
       "      <th>5</th>\n",
       "      <td>1197.510638</td>\n",
       "      <td>55.241135</td>\n",
       "      <td>33.773050</td>\n",
       "      <td>387.361702</td>\n",
       "    </tr>\n",
       "    <tr>\n",
       "      <th>6</th>\n",
       "      <td>1204.018293</td>\n",
       "      <td>55.548780</td>\n",
       "      <td>33.402439</td>\n",
       "      <td>395.640244</td>\n",
       "    </tr>\n",
       "    <tr>\n",
       "      <th>7</th>\n",
       "      <td>1223.950249</td>\n",
       "      <td>56.726368</td>\n",
       "      <td>33.751244</td>\n",
       "      <td>408.353234</td>\n",
       "    </tr>\n",
       "    <tr>\n",
       "      <th>8</th>\n",
       "      <td>1320.595745</td>\n",
       "      <td>58.978723</td>\n",
       "      <td>33.638298</td>\n",
       "      <td>421.468085</td>\n",
       "    </tr>\n",
       "    <tr>\n",
       "      <th>9</th>\n",
       "      <td>1249.946154</td>\n",
       "      <td>59.546154</td>\n",
       "      <td>33.638462</td>\n",
       "      <td>428.611538</td>\n",
       "    </tr>\n",
       "    <tr>\n",
       "      <th>10</th>\n",
       "      <td>1364.853741</td>\n",
       "      <td>59.962585</td>\n",
       "      <td>33.765306</td>\n",
       "      <td>426.136054</td>\n",
       "    </tr>\n",
       "    <tr>\n",
       "      <th>11</th>\n",
       "      <td>1343.680380</td>\n",
       "      <td>61.503165</td>\n",
       "      <td>34.075949</td>\n",
       "      <td>435.265823</td>\n",
       "    </tr>\n",
       "    <tr>\n",
       "      <th>12</th>\n",
       "      <td>1578.531157</td>\n",
       "      <td>66.486647</td>\n",
       "      <td>35.994065</td>\n",
       "      <td>478.560831</td>\n",
       "    </tr>\n",
       "    <tr>\n",
       "      <th rowspan=\"12\" valign=\"top\">ultra</th>\n",
       "      <th>1</th>\n",
       "      <td>1950.000000</td>\n",
       "      <td>59.444444</td>\n",
       "      <td>33.777778</td>\n",
       "      <td>428.111111</td>\n",
       "    </tr>\n",
       "    <tr>\n",
       "      <th>2</th>\n",
       "      <td>1975.000000</td>\n",
       "      <td>41.541667</td>\n",
       "      <td>21.958333</td>\n",
       "      <td>297.125000</td>\n",
       "    </tr>\n",
       "    <tr>\n",
       "      <th>3</th>\n",
       "      <td>2014.864865</td>\n",
       "      <td>67.675676</td>\n",
       "      <td>32.297297</td>\n",
       "      <td>489.648649</td>\n",
       "    </tr>\n",
       "    <tr>\n",
       "      <th>4</th>\n",
       "      <td>2001.818182</td>\n",
       "      <td>64.090909</td>\n",
       "      <td>31.563636</td>\n",
       "      <td>458.018182</td>\n",
       "    </tr>\n",
       "    <tr>\n",
       "      <th>5</th>\n",
       "      <td>2059.701493</td>\n",
       "      <td>72.507463</td>\n",
       "      <td>37.850746</td>\n",
       "      <td>510.328358</td>\n",
       "    </tr>\n",
       "    <tr>\n",
       "      <th>6</th>\n",
       "      <td>2039.285714</td>\n",
       "      <td>66.738095</td>\n",
       "      <td>41.726190</td>\n",
       "      <td>479.702381</td>\n",
       "    </tr>\n",
       "    <tr>\n",
       "      <th>7</th>\n",
       "      <td>2118.131868</td>\n",
       "      <td>75.780220</td>\n",
       "      <td>49.846154</td>\n",
       "      <td>545.791209</td>\n",
       "    </tr>\n",
       "    <tr>\n",
       "      <th>8</th>\n",
       "      <td>2083.177570</td>\n",
       "      <td>71.289720</td>\n",
       "      <td>48.439252</td>\n",
       "      <td>510.775701</td>\n",
       "    </tr>\n",
       "    <tr>\n",
       "      <th>9</th>\n",
       "      <td>2024.347826</td>\n",
       "      <td>74.600000</td>\n",
       "      <td>52.286957</td>\n",
       "      <td>539.443478</td>\n",
       "    </tr>\n",
       "    <tr>\n",
       "      <th>10</th>\n",
       "      <td>2065.853659</td>\n",
       "      <td>77.373984</td>\n",
       "      <td>58.430894</td>\n",
       "      <td>558.081301</td>\n",
       "    </tr>\n",
       "    <tr>\n",
       "      <th>11</th>\n",
       "      <td>2092.164179</td>\n",
       "      <td>75.119403</td>\n",
       "      <td>55.791045</td>\n",
       "      <td>541.380597</td>\n",
       "    </tr>\n",
       "    <tr>\n",
       "      <th>12</th>\n",
       "      <td>2138.848921</td>\n",
       "      <td>83.316547</td>\n",
       "      <td>60.611511</td>\n",
       "      <td>592.805755</td>\n",
       "    </tr>\n",
       "  </tbody>\n",
       "</table>\n",
       "</div>"
      ],
      "text/plain": [
       "                     mean                                     \\\n",
       "                     cash number of calls number of messages   \n",
       "tariff month                                                   \n",
       "smart  1       721.323529       27.676471          18.235294   \n",
       "       2       827.603448       40.189655          24.086207   \n",
       "       3      1164.623377       54.324675          31.857143   \n",
       "       4       963.089286       51.312500          30.741071   \n",
       "       5      1197.510638       55.241135          33.773050   \n",
       "       6      1204.018293       55.548780          33.402439   \n",
       "       7      1223.950249       56.726368          33.751244   \n",
       "       8      1320.595745       58.978723          33.638298   \n",
       "       9      1249.946154       59.546154          33.638462   \n",
       "       10     1364.853741       59.962585          33.765306   \n",
       "       11     1343.680380       61.503165          34.075949   \n",
       "       12     1578.531157       66.486647          35.994065   \n",
       "ultra  1      1950.000000       59.444444          33.777778   \n",
       "       2      1975.000000       41.541667          21.958333   \n",
       "       3      2014.864865       67.675676          32.297297   \n",
       "       4      2001.818182       64.090909          31.563636   \n",
       "       5      2059.701493       72.507463          37.850746   \n",
       "       6      2039.285714       66.738095          41.726190   \n",
       "       7      2118.131868       75.780220          49.846154   \n",
       "       8      2083.177570       71.289720          48.439252   \n",
       "       9      2024.347826       74.600000          52.286957   \n",
       "       10     2065.853659       77.373984          58.430894   \n",
       "       11     2092.164179       75.119403          55.791045   \n",
       "       12     2138.848921       83.316547          60.611511   \n",
       "\n",
       "                                      \n",
       "             total duration of calls  \n",
       "tariff month                          \n",
       "smart  1                  203.852941  \n",
       "       2                  298.689655  \n",
       "       3                  390.051948  \n",
       "       4                  367.133929  \n",
       "       5                  387.361702  \n",
       "       6                  395.640244  \n",
       "       7                  408.353234  \n",
       "       8                  421.468085  \n",
       "       9                  428.611538  \n",
       "       10                 426.136054  \n",
       "       11                 435.265823  \n",
       "       12                 478.560831  \n",
       "ultra  1                  428.111111  \n",
       "       2                  297.125000  \n",
       "       3                  489.648649  \n",
       "       4                  458.018182  \n",
       "       5                  510.328358  \n",
       "       6                  479.702381  \n",
       "       7                  545.791209  \n",
       "       8                  510.775701  \n",
       "       9                  539.443478  \n",
       "       10                 558.081301  \n",
       "       11                 541.380597  \n",
       "       12                 592.805755  "
      ]
     },
     "execution_count": 34,
     "metadata": {},
     "output_type": "execute_result"
    }
   ],
   "source": [
    "data_analys"
   ]
  },
  {
   "cell_type": "code",
   "execution_count": 35,
   "metadata": {},
   "outputs": [
    {
     "data": {
      "text/html": [
       "<div>\n",
       "<style scoped>\n",
       "    .dataframe tbody tr th:only-of-type {\n",
       "        vertical-align: middle;\n",
       "    }\n",
       "\n",
       "    .dataframe tbody tr th {\n",
       "        vertical-align: top;\n",
       "    }\n",
       "\n",
       "    .dataframe thead tr th {\n",
       "        text-align: left;\n",
       "    }\n",
       "\n",
       "    .dataframe thead tr:last-of-type th {\n",
       "        text-align: right;\n",
       "    }\n",
       "</style>\n",
       "<table border=\"1\" class=\"dataframe\">\n",
       "  <thead>\n",
       "    <tr>\n",
       "      <th></th>\n",
       "      <th colspan=\"4\" halign=\"left\">mean</th>\n",
       "      <th colspan=\"4\" halign=\"left\">var</th>\n",
       "      <th colspan=\"4\" halign=\"left\">std</th>\n",
       "    </tr>\n",
       "    <tr>\n",
       "      <th></th>\n",
       "      <th>cash</th>\n",
       "      <th>number of messages</th>\n",
       "      <th>total duration of calls</th>\n",
       "      <th>total internet traffic</th>\n",
       "      <th>cash</th>\n",
       "      <th>number of messages</th>\n",
       "      <th>total duration of calls</th>\n",
       "      <th>total internet traffic</th>\n",
       "      <th>cash</th>\n",
       "      <th>number of messages</th>\n",
       "      <th>total duration of calls</th>\n",
       "      <th>total internet traffic</th>\n",
       "    </tr>\n",
       "    <tr>\n",
       "      <th>tariff</th>\n",
       "      <th></th>\n",
       "      <th></th>\n",
       "      <th></th>\n",
       "      <th></th>\n",
       "      <th></th>\n",
       "      <th></th>\n",
       "      <th></th>\n",
       "      <th></th>\n",
       "      <th></th>\n",
       "      <th></th>\n",
       "      <th></th>\n",
       "      <th></th>\n",
       "    </tr>\n",
       "  </thead>\n",
       "  <tbody>\n",
       "    <tr>\n",
       "      <th>smart</th>\n",
       "      <td>1290.063257</td>\n",
       "      <td>33.384029</td>\n",
       "      <td>417.934948</td>\n",
       "      <td>16208.466949</td>\n",
       "      <td>669850.336661</td>\n",
       "      <td>796.812958</td>\n",
       "      <td>36219.315784</td>\n",
       "      <td>3.446276e+07</td>\n",
       "      <td>818.443851</td>\n",
       "      <td>28.227876</td>\n",
       "      <td>190.313730</td>\n",
       "      <td>5870.498853</td>\n",
       "    </tr>\n",
       "    <tr>\n",
       "      <th>ultra</th>\n",
       "      <td>2070.152284</td>\n",
       "      <td>49.363452</td>\n",
       "      <td>526.623350</td>\n",
       "      <td>19468.823228</td>\n",
       "      <td>141516.745079</td>\n",
       "      <td>2285.266143</td>\n",
       "      <td>100873.633397</td>\n",
       "      <td>1.017512e+08</td>\n",
       "      <td>376.187114</td>\n",
       "      <td>47.804457</td>\n",
       "      <td>317.606098</td>\n",
       "      <td>10087.178654</td>\n",
       "    </tr>\n",
       "  </tbody>\n",
       "</table>\n",
       "</div>"
      ],
      "text/plain": [
       "               mean                                             \\\n",
       "               cash number of messages total duration of calls   \n",
       "tariff                                                           \n",
       "smart   1290.063257          33.384029              417.934948   \n",
       "ultra   2070.152284          49.363452              526.623350   \n",
       "\n",
       "                                         var                     \\\n",
       "       total internet traffic           cash number of messages   \n",
       "tariff                                                            \n",
       "smart            16208.466949  669850.336661         796.812958   \n",
       "ultra            19468.823228  141516.745079        2285.266143   \n",
       "\n",
       "                                                              std  \\\n",
       "       total duration of calls total internet traffic        cash   \n",
       "tariff                                                              \n",
       "smart             36219.315784           3.446276e+07  818.443851   \n",
       "ultra            100873.633397           1.017512e+08  376.187114   \n",
       "\n",
       "                                                                          \n",
       "       number of messages total duration of calls total internet traffic  \n",
       "tariff                                                                    \n",
       "smart           28.227876              190.313730            5870.498853  \n",
       "ultra           47.804457              317.606098           10087.178654  "
      ]
     },
     "execution_count": 35,
     "metadata": {},
     "output_type": "execute_result"
    }
   ],
   "source": [
    "statistics = grouped_data_with_tariff.pivot_table(index=['tariff'],\n",
    "                                                  values=['number of messages',\n",
    "                                                          'total duration of calls',\n",
    "                                                          'total internet traffic',\n",
    "                                                          'cash' ],\n",
    "                       aggfunc=['mean', np.var, np.std])\n",
    "statistics"
   ]
  },
  {
   "cell_type": "markdown",
   "metadata": {},
   "source": [
    " <div class=\"alert alert-info\">\n",
    " <font color='Blue'>\n",
    "         <b> Построим гистограммы и опишем распределения."
   ]
  },
  {
   "cell_type": "code",
   "execution_count": 36,
   "metadata": {},
   "outputs": [
    {
     "data": {
      "text/html": [
       "<div>\n",
       "<style scoped>\n",
       "    .dataframe tbody tr th:only-of-type {\n",
       "        vertical-align: middle;\n",
       "    }\n",
       "\n",
       "    .dataframe tbody tr th {\n",
       "        vertical-align: top;\n",
       "    }\n",
       "\n",
       "    .dataframe thead th {\n",
       "        text-align: right;\n",
       "    }\n",
       "</style>\n",
       "<table border=\"1\" class=\"dataframe\">\n",
       "  <thead>\n",
       "    <tr style=\"text-align: right;\">\n",
       "      <th></th>\n",
       "      <th>user</th>\n",
       "      <th>month</th>\n",
       "      <th>total duration of calls</th>\n",
       "      <th>number of calls</th>\n",
       "      <th>number of messages</th>\n",
       "      <th>total internet traffic</th>\n",
       "      <th>age</th>\n",
       "      <th>churn_date</th>\n",
       "      <th>city</th>\n",
       "      <th>first_name</th>\n",
       "      <th>...</th>\n",
       "      <th>reg_date</th>\n",
       "      <th>tariff</th>\n",
       "      <th>messages_included</th>\n",
       "      <th>mb_per_month_included</th>\n",
       "      <th>minutes_included</th>\n",
       "      <th>rub_monthly_fee</th>\n",
       "      <th>rub_per_gb</th>\n",
       "      <th>rub_per_message</th>\n",
       "      <th>rub_per_minute</th>\n",
       "      <th>cash</th>\n",
       "    </tr>\n",
       "  </thead>\n",
       "  <tbody>\n",
       "    <tr>\n",
       "      <th>0</th>\n",
       "      <td>1000</td>\n",
       "      <td>5</td>\n",
       "      <td>159.0</td>\n",
       "      <td>22.0</td>\n",
       "      <td>22.0</td>\n",
       "      <td>2253.50</td>\n",
       "      <td>52</td>\n",
       "      <td>NaN</td>\n",
       "      <td>Краснодар</td>\n",
       "      <td>Рафаил</td>\n",
       "      <td>...</td>\n",
       "      <td>2018-05-25</td>\n",
       "      <td>ultra</td>\n",
       "      <td>1000</td>\n",
       "      <td>30720</td>\n",
       "      <td>3000</td>\n",
       "      <td>1950</td>\n",
       "      <td>150</td>\n",
       "      <td>1</td>\n",
       "      <td>1</td>\n",
       "      <td>1950.0</td>\n",
       "    </tr>\n",
       "    <tr>\n",
       "      <th>1</th>\n",
       "      <td>1000</td>\n",
       "      <td>6</td>\n",
       "      <td>172.0</td>\n",
       "      <td>43.0</td>\n",
       "      <td>60.0</td>\n",
       "      <td>23233.82</td>\n",
       "      <td>52</td>\n",
       "      <td>NaN</td>\n",
       "      <td>Краснодар</td>\n",
       "      <td>Рафаил</td>\n",
       "      <td>...</td>\n",
       "      <td>2018-05-25</td>\n",
       "      <td>ultra</td>\n",
       "      <td>1000</td>\n",
       "      <td>30720</td>\n",
       "      <td>3000</td>\n",
       "      <td>1950</td>\n",
       "      <td>150</td>\n",
       "      <td>1</td>\n",
       "      <td>1</td>\n",
       "      <td>1950.0</td>\n",
       "    </tr>\n",
       "    <tr>\n",
       "      <th>2</th>\n",
       "      <td>1000</td>\n",
       "      <td>7</td>\n",
       "      <td>340.0</td>\n",
       "      <td>47.0</td>\n",
       "      <td>75.0</td>\n",
       "      <td>14003.65</td>\n",
       "      <td>52</td>\n",
       "      <td>NaN</td>\n",
       "      <td>Краснодар</td>\n",
       "      <td>Рафаил</td>\n",
       "      <td>...</td>\n",
       "      <td>2018-05-25</td>\n",
       "      <td>ultra</td>\n",
       "      <td>1000</td>\n",
       "      <td>30720</td>\n",
       "      <td>3000</td>\n",
       "      <td>1950</td>\n",
       "      <td>150</td>\n",
       "      <td>1</td>\n",
       "      <td>1</td>\n",
       "      <td>1950.0</td>\n",
       "    </tr>\n",
       "    <tr>\n",
       "      <th>3</th>\n",
       "      <td>1000</td>\n",
       "      <td>8</td>\n",
       "      <td>408.0</td>\n",
       "      <td>52.0</td>\n",
       "      <td>81.0</td>\n",
       "      <td>14055.95</td>\n",
       "      <td>52</td>\n",
       "      <td>NaN</td>\n",
       "      <td>Краснодар</td>\n",
       "      <td>Рафаил</td>\n",
       "      <td>...</td>\n",
       "      <td>2018-05-25</td>\n",
       "      <td>ultra</td>\n",
       "      <td>1000</td>\n",
       "      <td>30720</td>\n",
       "      <td>3000</td>\n",
       "      <td>1950</td>\n",
       "      <td>150</td>\n",
       "      <td>1</td>\n",
       "      <td>1</td>\n",
       "      <td>1950.0</td>\n",
       "    </tr>\n",
       "    <tr>\n",
       "      <th>4</th>\n",
       "      <td>1000</td>\n",
       "      <td>9</td>\n",
       "      <td>466.0</td>\n",
       "      <td>58.0</td>\n",
       "      <td>57.0</td>\n",
       "      <td>14568.93</td>\n",
       "      <td>52</td>\n",
       "      <td>NaN</td>\n",
       "      <td>Краснодар</td>\n",
       "      <td>Рафаил</td>\n",
       "      <td>...</td>\n",
       "      <td>2018-05-25</td>\n",
       "      <td>ultra</td>\n",
       "      <td>1000</td>\n",
       "      <td>30720</td>\n",
       "      <td>3000</td>\n",
       "      <td>1950</td>\n",
       "      <td>150</td>\n",
       "      <td>1</td>\n",
       "      <td>1</td>\n",
       "      <td>1950.0</td>\n",
       "    </tr>\n",
       "  </tbody>\n",
       "</table>\n",
       "<p>5 rows × 21 columns</p>\n",
       "</div>"
      ],
      "text/plain": [
       "   user  month  total duration of calls  number of calls  number of messages  \\\n",
       "0  1000      5                    159.0             22.0                22.0   \n",
       "1  1000      6                    172.0             43.0                60.0   \n",
       "2  1000      7                    340.0             47.0                75.0   \n",
       "3  1000      8                    408.0             52.0                81.0   \n",
       "4  1000      9                    466.0             58.0                57.0   \n",
       "\n",
       "   total internet traffic  age churn_date       city first_name  ...  \\\n",
       "0                 2253.50   52        NaN  Краснодар     Рафаил  ...   \n",
       "1                23233.82   52        NaN  Краснодар     Рафаил  ...   \n",
       "2                14003.65   52        NaN  Краснодар     Рафаил  ...   \n",
       "3                14055.95   52        NaN  Краснодар     Рафаил  ...   \n",
       "4                14568.93   52        NaN  Краснодар     Рафаил  ...   \n",
       "\n",
       "     reg_date tariff messages_included  mb_per_month_included  \\\n",
       "0  2018-05-25  ultra              1000                  30720   \n",
       "1  2018-05-25  ultra              1000                  30720   \n",
       "2  2018-05-25  ultra              1000                  30720   \n",
       "3  2018-05-25  ultra              1000                  30720   \n",
       "4  2018-05-25  ultra              1000                  30720   \n",
       "\n",
       "   minutes_included  rub_monthly_fee  rub_per_gb  rub_per_message  \\\n",
       "0              3000             1950         150                1   \n",
       "1              3000             1950         150                1   \n",
       "2              3000             1950         150                1   \n",
       "3              3000             1950         150                1   \n",
       "4              3000             1950         150                1   \n",
       "\n",
       "   rub_per_minute    cash  \n",
       "0               1  1950.0  \n",
       "1               1  1950.0  \n",
       "2               1  1950.0  \n",
       "3               1  1950.0  \n",
       "4               1  1950.0  \n",
       "\n",
       "[5 rows x 21 columns]"
      ]
     },
     "execution_count": 36,
     "metadata": {},
     "output_type": "execute_result"
    }
   ],
   "source": [
    "grouped_data_with_tariff.head()"
   ]
  },
  {
   "cell_type": "code",
   "execution_count": 37,
   "metadata": {},
   "outputs": [
    {
     "name": "stderr",
     "output_type": "stream",
     "text": [
      "/opt/conda/lib/python3.9/site-packages/seaborn/distributions.py:2557: FutureWarning: `distplot` is a deprecated function and will be removed in a future version. Please adapt your code to use either `displot` (a figure-level function with similar flexibility) or `histplot` (an axes-level function for histograms).\n",
      "  warnings.warn(msg, FutureWarning)\n"
     ]
    },
    {
     "data": {
      "image/png": "[encoded data removed]",
      "text/plain": [
       "<Figure size 432x288 with 1 Axes>"
      ]
     },
     "metadata": {
      "needs_background": "light"
     },
     "output_type": "display_data"
    }
   ],
   "source": [
    "for tariff in ['ultra', 'smart']:\n",
    "    sns.distplot(grouped_data_with_tariff.query('tariff == @tariff')['total duration of calls'], kde=False, label=tariff)\n",
    "_ = plt.legend(['ultra', 'smart'])\n",
    "  "
   ]
  },
  {
   "cell_type": "code",
   "execution_count": 38,
   "metadata": {},
   "outputs": [
    {
     "data": {
      "image/png": "[encoded data removed]",
      "text/plain": [
       "<Figure size 432x288 with 1 Axes>"
      ]
     },
     "metadata": {
      "needs_background": "light"
     },
     "output_type": "display_data"
    }
   ],
   "source": [
    "for tariff in ['ultra', 'smart']:\n",
    "    sns.distplot(grouped_data_with_tariff.query('tariff == @tariff')['number of messages'], kde=False, label=tariff)\n",
    "_ = plt.legend(['ultra', 'smart'])"
   ]
  },
  {
   "cell_type": "code",
   "execution_count": 39,
   "metadata": {},
   "outputs": [
    {
     "data": {
      "image/png": "[encoded data removed]",
      "text/plain": [
       "<Figure size 432x288 with 1 Axes>"
      ]
     },
     "metadata": {
      "needs_background": "light"
     },
     "output_type": "display_data"
    }
   ],
   "source": [
    "for tariff in ['ultra', 'smart']:\n",
    "    sns.distplot(grouped_data_with_tariff.query('tariff == @tariff')['total internet traffic'], kde=False, label=tariff)\n",
    "_ = plt.legend(['ultra', 'smart'])"
   ]
  },
  {
   "cell_type": "markdown",
   "metadata": {},
   "source": [
    " <div class=\"alert alert-info\">\n",
    " <font color='Blue'>\n",
    "        По гистограммам видно, что дисперсия по тарифу \"Смарт\" меньше, чем у тарифа \"Ультра\" по длительности разговора, по числу сообщений и по использованному интернет-трафику.<p>\n",
    "             У пользователей тарифа \"Ультра\" больше свободы в выборе того, как использовать тарифный пакет, так как у пользователей более дорогого тарифа нет необходимости переживать за то что у них закончиться лимит."
   ]
  },
  {
   "cell_type": "markdown",
   "metadata": {},
   "source": [
    "##  4. Проверка гипотезы:\n",
    "<p>\n",
    "    - средняя выручка пользователей тарифов «Ультра» и «Смарт» различаются;\n",
    "    <p>\n",
    " - средняя выручка пользователей из Москвы отличается от выручки пользователей из других регионов."
   ]
  },
  {
   "cell_type": "code",
   "execution_count": 40,
   "metadata": {},
   "outputs": [
    {
     "name": "stdout",
     "output_type": "stream",
     "text": [
      "8        550.0\n",
      "9       1150.0\n",
      "10       550.0\n",
      "11      1150.0\n",
      "12      1550.0\n",
      "         ...  \n",
      "3209    1750.0\n",
      "3210     598.0\n",
      "3211     550.0\n",
      "3212    1150.0\n",
      "3213    1513.0\n",
      "Name: cash, Length: 2229, dtype: float64\n"
     ]
    }
   ],
   "source": [
    "alpha = .05 # критический уровень статистической значимости\n",
    "ultra=grouped_data_with_tariff.query('tariff==\"ultra\"')['cash']\n",
    "smart=grouped_data_with_tariff.query('tariff==\"smart\"')['cash']\n",
    "print(smart)"
   ]
  },
  {
   "cell_type": "code",
   "execution_count": 41,
   "metadata": {},
   "outputs": [
    {
     "name": "stdout",
     "output_type": "stream",
     "text": [
      "Помесячная выручка с тарифа ultra 2039099.9999999998\n"
     ]
    }
   ],
   "source": [
    "print('Помесячная выручка с тарифа ultra',len(ultra)*ultra.mean())"
   ]
  },
  {
   "cell_type": "code",
   "execution_count": 42,
   "metadata": {},
   "outputs": [
    {
     "name": "stdout",
     "output_type": "stream",
     "text": [
      "Помесячная выручка с тарифа smart 2875551.0\n"
     ]
    }
   ],
   "source": [
    "print('Помесячная выручка с тарифа smart',len(smart)*smart.mean())"
   ]
  },
  {
   "cell_type": "markdown",
   "metadata": {},
   "source": [
    " <div class=\"alert alert-info\">\n",
    " <font color='Blue'>\n",
    "      <b>Проверим нулевую гипотезу H0 - средняя выручка не отличается. Альтернативная гипотеза соответственно H1 - средняя выручка отличается. Используем ttest критерий для проверки гипотезы с односторонней критической областью"
   ]
  },
  {
   "cell_type": "code",
   "execution_count": 43,
   "metadata": {},
   "outputs": [
    {
     "name": "stdout",
     "output_type": "stream",
     "text": [
      "1.5788252532156112e-160\n",
      "Отвергаем нулевую гипотезу\n"
     ]
    }
   ],
   "source": [
    "results = st.ttest_ind(\n",
    "    ultra, \n",
    "    smart)\n",
    "print(results.pvalue)\n",
    "\n",
    "if results.pvalue < alpha:\n",
    "    print(\"Отвергаем нулевую гипотезу\")\n",
    "else:\n",
    "    print(\"Не получилось отвергнуть нулевую гипотезу\")"
   ]
  },
  {
   "cell_type": "markdown",
   "metadata": {},
   "source": [
    " <div class=\"alert alert-info\">\n",
    " <font color='Blue'>\n",
    " <b> Вывод: средняя выручка пользователей с разными тарифами действительно отличается. Значение p-value настолько маленькое, что автоматически округляется к нулю"
   ]
  },
  {
   "cell_type": "markdown",
   "metadata": {},
   "source": [
    " <div class=\"alert alert-info\">\n",
    " <font color='Blue'>\n",
    "      <b> Проверим нулевую гипотезу H0 - средняя выручка Московских пользователей не отличается от выручки с пользователей других регионов. Альтернативная гипотеза соответственно H1 - средняя выручка отличается. Используем ttest критерий для проверки гипотезы с односторонней критической областью"
   ]
  },
  {
   "cell_type": "code",
   "execution_count": 44,
   "metadata": {},
   "outputs": [
    {
     "name": "stdout",
     "output_type": "stream",
     "text": [
      "0.5379832328819518\n",
      "Не получилось отвергнуть нулевую гипотезу\n"
     ]
    }
   ],
   "source": [
    "only_moscow=grouped_data_with_tariff.query('city==\"Москва\"')\n",
    "only_moscow_cash=only_moscow['cash']\n",
    "not_moscow=grouped_data_with_tariff.query('city!=\"Москва\"')\n",
    "not_moscow_cash=not_moscow['cash']\n",
    "\n",
    "results = st.ttest_ind(\n",
    "    only_moscow_cash, \n",
    "    not_moscow_cash)\n",
    "print(results.pvalue)\n",
    "\n",
    "if results.pvalue < alpha:\n",
    "    print(\"Отвергаем нулевую гипотезу\")\n",
    "else:\n",
    "    print(\"Не получилось отвергнуть нулевую гипотезу\")"
   ]
  },
  {
   "cell_type": "markdown",
   "metadata": {},
   "source": [
    "##  5. Общий вывод"
   ]
  },
  {
   "cell_type": "markdown",
   "metadata": {},
   "source": [
    " <div class=\"alert alert-info\">\n",
    " <font color='Blue'>\n",
    " <b>В тарифе Ultra практически никто не выходит за рамки тарифа, тогда как в тарифе Smart при стоимости 550р в месяц разброс относительно большой\n",
    "Для тарифа Ultra нормальное значение - цена тарифа, 2070. \n",
    "После проверки гипотез, делаем вывод о том, что тариф ultra приносит значительно больше денег. Однако, стоит учесть, что тариф smart выбирает большее количество человек."
   ]
  },
  {
   "cell_type": "markdown",
   "metadata": {},
   "source": [
    "<div class=\"alert alert-info\">\n",
    " <font color='Blue'>\n",
    "<b>Краткий обзор выполненных работ:  </b><p> \n",
    "    Привел данные к нужным типам. Нашёл и исправил ошибки. Посчитал для каждого пользователя:<p>\n",
    "количество сделанных звонков и израсходованных минут разговора по месяцам;<p>\n",
    "количество отправленных сообщений по месяцам;<p>\n",
    "объем израсходованного интернет-трафика по месяцам;<p>\n",
    "помесячную выручку с каждого пользователя<p>\n",
    "      <b>Основные выводы: </b><p> \n",
    "Доходы от тарифа «Ультра» больше, чем от тарифа «Смарт»<p>   \n",
    "Пользователям тарифа «Смарт» не хватает услуг в рамках тарифного пакета, поэтому им приходиться доплачивать.<p>\n",
    "Пользователи тарифа «Ультра», не используют тарифный пакет в полном объеме.<p>\n",
    "     Доход от клиентов из Московской области не отличается от дохода клиентов других регионов<p>\n",
    "          <b>Рекомендации: </b><p> \n",
    "     Тариф \"Смарт\" можно сделать немного подороже и увеличить лимиты по количеству минут, смс и трафика, а тариф \"Ультра\" сделать немного дешевле, что бы привлечь большее количество клиентов.\n"
   ]
  },
  {
   "cell_type": "code",
   "execution_count": null,
   "metadata": {},
   "outputs": [],
   "source": []
  }
 ],
 "metadata": {
  "ExecuteTimeLog": [
   {
    "duration": 163,
    "start_time": "2022-05-01T16:23:42.642Z"
   },
   {
    "duration": 1588,
    "start_time": "2022-05-01T16:27:24.116Z"
   },
   {
    "duration": 321,
    "start_time": "2022-05-01T16:27:44.426Z"
   },
   {
    "duration": 161,
    "start_time": "2022-05-01T16:29:03.097Z"
   },
   {
    "duration": 152,
    "start_time": "2022-05-01T16:29:14.748Z"
   },
   {
    "duration": 149,
    "start_time": "2022-05-01T16:29:31.315Z"
   },
   {
    "duration": 3,
    "start_time": "2022-05-01T16:29:46.072Z"
   },
   {
    "duration": 154,
    "start_time": "2022-05-01T16:29:46.681Z"
   },
   {
    "duration": 77,
    "start_time": "2022-05-01T16:45:25.269Z"
   },
   {
    "duration": 1333,
    "start_time": "2022-05-01T16:45:34.192Z"
   },
   {
    "duration": 178,
    "start_time": "2022-05-01T16:45:35.527Z"
   },
   {
    "duration": 162,
    "start_time": "2022-05-01T16:48:35.409Z"
   },
   {
    "duration": 183,
    "start_time": "2022-05-01T16:48:45.210Z"
   },
   {
    "duration": 136,
    "start_time": "2022-05-01T16:49:32.509Z"
   },
   {
    "duration": 3,
    "start_time": "2022-05-01T16:49:46.822Z"
   },
   {
    "duration": 182,
    "start_time": "2022-05-01T16:49:47.180Z"
   },
   {
    "duration": 165,
    "start_time": "2022-05-01T16:49:47.572Z"
   },
   {
    "duration": 91,
    "start_time": "2022-05-01T16:49:48.171Z"
   },
   {
    "duration": 119,
    "start_time": "2022-05-01T16:49:59.381Z"
   },
   {
    "duration": 23,
    "start_time": "2022-05-01T16:50:33.906Z"
   },
   {
    "duration": 27,
    "start_time": "2022-05-01T16:51:18.140Z"
   },
   {
    "duration": 1464,
    "start_time": "2022-05-01T16:52:19.180Z"
   },
   {
    "duration": 279,
    "start_time": "2022-05-01T16:52:20.646Z"
   },
   {
    "duration": 233,
    "start_time": "2022-05-01T16:52:20.927Z"
   },
   {
    "duration": 118,
    "start_time": "2022-05-01T16:52:21.163Z"
   },
   {
    "duration": 30,
    "start_time": "2022-05-01T16:52:21.283Z"
   },
   {
    "duration": 45,
    "start_time": "2022-05-01T16:52:21.315Z"
   },
   {
    "duration": 270,
    "start_time": "2022-05-01T17:17:17.546Z"
   },
   {
    "duration": 277,
    "start_time": "2022-05-01T17:17:43.509Z"
   },
   {
    "duration": 44,
    "start_time": "2022-05-01T17:19:23.224Z"
   },
   {
    "duration": 6,
    "start_time": "2022-05-01T17:20:03.915Z"
   },
   {
    "duration": 1178,
    "start_time": "2022-05-01T17:20:22.166Z"
   },
   {
    "duration": 196,
    "start_time": "2022-05-01T17:20:23.347Z"
   },
   {
    "duration": 175,
    "start_time": "2022-05-01T17:20:23.544Z"
   },
   {
    "duration": 121,
    "start_time": "2022-05-01T17:20:23.720Z"
   },
   {
    "duration": 22,
    "start_time": "2022-05-01T17:20:23.843Z"
   },
   {
    "duration": 45,
    "start_time": "2022-05-01T17:20:23.866Z"
   },
   {
    "duration": 17,
    "start_time": "2022-05-01T17:20:23.912Z"
   },
   {
    "duration": 5,
    "start_time": "2022-05-01T17:20:23.931Z"
   },
   {
    "duration": 3,
    "start_time": "2022-05-01T17:20:36.076Z"
   },
   {
    "duration": 181,
    "start_time": "2022-05-01T17:20:36.675Z"
   },
   {
    "duration": 147,
    "start_time": "2022-05-01T17:20:37.838Z"
   },
   {
    "duration": 104,
    "start_time": "2022-05-01T17:20:38.749Z"
   },
   {
    "duration": 29,
    "start_time": "2022-05-01T17:20:39.387Z"
   },
   {
    "duration": 30,
    "start_time": "2022-05-01T17:20:39.928Z"
   },
   {
    "duration": 15,
    "start_time": "2022-05-01T17:20:40.338Z"
   },
   {
    "duration": 11,
    "start_time": "2022-05-01T17:24:19.466Z"
   },
   {
    "duration": 11,
    "start_time": "2022-05-01T17:25:03.918Z"
   },
   {
    "duration": 10,
    "start_time": "2022-05-01T17:26:34.622Z"
   },
   {
    "duration": 94,
    "start_time": "2022-05-01T17:29:36.561Z"
   },
   {
    "duration": 68,
    "start_time": "2022-05-01T17:30:02.972Z"
   },
   {
    "duration": 66,
    "start_time": "2022-05-01T17:31:56.253Z"
   },
   {
    "duration": 59,
    "start_time": "2022-05-01T17:32:21.880Z"
   },
   {
    "duration": 83,
    "start_time": "2022-05-01T17:32:37.148Z"
   },
   {
    "duration": 1351,
    "start_time": "2022-05-01T17:32:50.168Z"
   },
   {
    "duration": 182,
    "start_time": "2022-05-01T17:32:51.521Z"
   },
   {
    "duration": 166,
    "start_time": "2022-05-01T17:32:51.708Z"
   },
   {
    "duration": 107,
    "start_time": "2022-05-01T17:32:51.876Z"
   },
   {
    "duration": 30,
    "start_time": "2022-05-01T17:32:51.993Z"
   },
   {
    "duration": 29,
    "start_time": "2022-05-01T17:32:52.024Z"
   },
   {
    "duration": 5,
    "start_time": "2022-05-01T17:32:52.055Z"
   },
   {
    "duration": 36,
    "start_time": "2022-05-01T17:32:52.061Z"
   },
   {
    "duration": 13,
    "start_time": "2022-05-01T17:32:52.101Z"
   },
   {
    "duration": 91,
    "start_time": "2022-05-01T17:32:52.116Z"
   },
   {
    "duration": 46,
    "start_time": "2022-05-01T17:33:02.067Z"
   },
   {
    "duration": 66,
    "start_time": "2022-05-01T17:33:35.358Z"
   },
   {
    "duration": 1226,
    "start_time": "2022-05-01T17:34:26.469Z"
   },
   {
    "duration": 207,
    "start_time": "2022-05-01T17:34:27.698Z"
   },
   {
    "duration": 165,
    "start_time": "2022-05-01T17:34:27.907Z"
   },
   {
    "duration": 120,
    "start_time": "2022-05-01T17:34:28.075Z"
   },
   {
    "duration": 26,
    "start_time": "2022-05-01T17:34:28.197Z"
   },
   {
    "duration": 29,
    "start_time": "2022-05-01T17:34:28.225Z"
   },
   {
    "duration": 6,
    "start_time": "2022-05-01T17:34:28.256Z"
   },
   {
    "duration": 40,
    "start_time": "2022-05-01T17:34:28.264Z"
   },
   {
    "duration": 17,
    "start_time": "2022-05-01T17:34:28.305Z"
   },
   {
    "duration": 134,
    "start_time": "2022-05-01T17:34:28.325Z"
   },
   {
    "duration": 146,
    "start_time": "2022-05-01T17:35:08.744Z"
   },
   {
    "duration": 90,
    "start_time": "2022-05-01T17:35:51.861Z"
   },
   {
    "duration": 94,
    "start_time": "2022-05-01T17:36:40.556Z"
   },
   {
    "duration": 78,
    "start_time": "2022-05-01T17:36:59.409Z"
   },
   {
    "duration": 57,
    "start_time": "2022-05-01T17:39:07.505Z"
   },
   {
    "duration": 52,
    "start_time": "2022-05-01T17:39:10.428Z"
   },
   {
    "duration": 54,
    "start_time": "2022-05-01T17:39:24.512Z"
   },
   {
    "duration": 45,
    "start_time": "2022-05-01T17:41:28.964Z"
   },
   {
    "duration": 51,
    "start_time": "2022-05-01T17:41:45.644Z"
   },
   {
    "duration": 44,
    "start_time": "2022-05-01T17:42:06.114Z"
   },
   {
    "duration": 45,
    "start_time": "2022-05-01T17:42:06.909Z"
   },
   {
    "duration": 149,
    "start_time": "2022-05-01T17:42:18.302Z"
   },
   {
    "duration": 48,
    "start_time": "2022-05-01T17:43:14.732Z"
   },
   {
    "duration": 49,
    "start_time": "2022-05-01T17:43:24.657Z"
   },
   {
    "duration": 59,
    "start_time": "2022-05-01T17:43:52.116Z"
   },
   {
    "duration": 34,
    "start_time": "2022-05-01T17:44:20.943Z"
   },
   {
    "duration": 14,
    "start_time": "2022-05-01T17:50:54.104Z"
   },
   {
    "duration": 13,
    "start_time": "2022-05-01T17:51:09.410Z"
   },
   {
    "duration": 1337,
    "start_time": "2022-05-01T17:51:30.364Z"
   },
   {
    "duration": 189,
    "start_time": "2022-05-01T17:51:31.704Z"
   },
   {
    "duration": 177,
    "start_time": "2022-05-01T17:51:31.895Z"
   },
   {
    "duration": 124,
    "start_time": "2022-05-01T17:51:32.074Z"
   },
   {
    "duration": 25,
    "start_time": "2022-05-01T17:51:32.201Z"
   },
   {
    "duration": 28,
    "start_time": "2022-05-01T17:51:32.228Z"
   },
   {
    "duration": 7,
    "start_time": "2022-05-01T17:51:32.258Z"
   },
   {
    "duration": 16,
    "start_time": "2022-05-01T17:51:32.292Z"
   },
   {
    "duration": 24,
    "start_time": "2022-05-01T17:51:32.310Z"
   },
   {
    "duration": 101,
    "start_time": "2022-05-01T17:51:32.336Z"
   },
   {
    "duration": 80,
    "start_time": "2022-05-01T17:51:32.439Z"
   },
   {
    "duration": 48,
    "start_time": "2022-05-01T17:51:32.521Z"
   },
   {
    "duration": 76,
    "start_time": "2022-05-01T17:51:32.570Z"
   },
   {
    "duration": 65,
    "start_time": "2022-05-01T17:51:32.649Z"
   },
   {
    "duration": 41,
    "start_time": "2022-05-01T17:51:32.716Z"
   },
   {
    "duration": 27,
    "start_time": "2022-05-01T17:55:01.464Z"
   },
   {
    "duration": 6,
    "start_time": "2022-05-01T18:48:06.423Z"
   },
   {
    "duration": 3,
    "start_time": "2022-05-01T18:48:37.843Z"
   },
   {
    "duration": 6,
    "start_time": "2022-05-01T18:49:05.521Z"
   },
   {
    "duration": 437,
    "start_time": "2022-05-01T18:49:23.039Z"
   },
   {
    "duration": 68,
    "start_time": "2022-05-01T18:49:38.006Z"
   },
   {
    "duration": 50,
    "start_time": "2022-05-01T18:49:46.172Z"
   },
   {
    "duration": 1189,
    "start_time": "2022-05-01T18:50:16.409Z"
   },
   {
    "duration": 259,
    "start_time": "2022-05-01T18:50:17.604Z"
   },
   {
    "duration": 221,
    "start_time": "2022-05-01T18:50:17.865Z"
   },
   {
    "duration": 116,
    "start_time": "2022-05-01T18:50:18.088Z"
   },
   {
    "duration": 21,
    "start_time": "2022-05-01T18:50:18.207Z"
   },
   {
    "duration": 28,
    "start_time": "2022-05-01T18:50:18.230Z"
   },
   {
    "duration": 6,
    "start_time": "2022-05-01T18:50:18.259Z"
   },
   {
    "duration": 35,
    "start_time": "2022-05-01T18:50:18.266Z"
   },
   {
    "duration": 26,
    "start_time": "2022-05-01T18:50:18.306Z"
   },
   {
    "duration": 98,
    "start_time": "2022-05-01T18:50:18.334Z"
   },
   {
    "duration": 66,
    "start_time": "2022-05-01T18:50:18.433Z"
   },
   {
    "duration": 42,
    "start_time": "2022-05-01T18:50:18.501Z"
   },
   {
    "duration": 57,
    "start_time": "2022-05-01T18:50:18.545Z"
   },
   {
    "duration": 48,
    "start_time": "2022-05-01T18:50:18.605Z"
   },
   {
    "duration": 74,
    "start_time": "2022-05-01T18:50:18.655Z"
   },
   {
    "duration": 27,
    "start_time": "2022-05-01T18:50:18.730Z"
   },
   {
    "duration": 6,
    "start_time": "2022-05-01T18:50:18.758Z"
   },
   {
    "duration": 43,
    "start_time": "2022-05-01T18:50:18.765Z"
   },
   {
    "duration": 16,
    "start_time": "2022-05-01T18:50:18.810Z"
   },
   {
    "duration": 492,
    "start_time": "2022-05-01T18:50:18.828Z"
   },
   {
    "duration": 51,
    "start_time": "2022-05-01T18:50:19.322Z"
   },
   {
    "duration": 24,
    "start_time": "2022-05-01T18:51:04.905Z"
   },
   {
    "duration": 40,
    "start_time": "2022-05-01T19:04:36.729Z"
   },
   {
    "duration": 16,
    "start_time": "2022-05-01T19:20:45.881Z"
   },
   {
    "duration": 14,
    "start_time": "2022-05-01T19:22:23.006Z"
   },
   {
    "duration": 13,
    "start_time": "2022-05-01T19:22:30.572Z"
   },
   {
    "duration": 1321,
    "start_time": "2022-05-01T19:22:56.409Z"
   },
   {
    "duration": 209,
    "start_time": "2022-05-01T19:22:57.733Z"
   },
   {
    "duration": 184,
    "start_time": "2022-05-01T19:22:57.944Z"
   },
   {
    "duration": 121,
    "start_time": "2022-05-01T19:22:58.130Z"
   },
   {
    "duration": 21,
    "start_time": "2022-05-01T19:22:58.253Z"
   },
   {
    "duration": 39,
    "start_time": "2022-05-01T19:22:58.275Z"
   },
   {
    "duration": 6,
    "start_time": "2022-05-01T19:22:58.316Z"
   },
   {
    "duration": 15,
    "start_time": "2022-05-01T19:22:58.323Z"
   },
   {
    "duration": 12,
    "start_time": "2022-05-01T19:22:58.340Z"
   },
   {
    "duration": 105,
    "start_time": "2022-05-01T19:22:58.354Z"
   },
   {
    "duration": 97,
    "start_time": "2022-05-01T19:22:58.461Z"
   },
   {
    "duration": 61,
    "start_time": "2022-05-01T19:22:58.561Z"
   },
   {
    "duration": 38,
    "start_time": "2022-05-01T19:22:58.625Z"
   },
   {
    "duration": 70,
    "start_time": "2022-05-01T19:22:58.667Z"
   },
   {
    "duration": 58,
    "start_time": "2022-05-01T19:22:58.738Z"
   },
   {
    "duration": 30,
    "start_time": "2022-05-01T19:22:58.798Z"
   },
   {
    "duration": 6,
    "start_time": "2022-05-01T19:22:58.830Z"
   },
   {
    "duration": 5,
    "start_time": "2022-05-01T19:22:58.838Z"
   },
   {
    "duration": 8,
    "start_time": "2022-05-01T19:22:58.845Z"
   },
   {
    "duration": 553,
    "start_time": "2022-05-01T19:22:58.855Z"
   },
   {
    "duration": 42,
    "start_time": "2022-05-01T19:22:59.410Z"
   },
   {
    "duration": 5842,
    "start_time": "2022-05-01T19:22:59.454Z"
   },
   {
    "duration": 23,
    "start_time": "2022-05-01T19:23:05.298Z"
   },
   {
    "duration": 42,
    "start_time": "2022-05-02T06:05:57.226Z"
   },
   {
    "duration": 1251,
    "start_time": "2022-05-02T06:06:02.322Z"
   },
   {
    "duration": 163,
    "start_time": "2022-05-02T06:06:03.575Z"
   },
   {
    "duration": 140,
    "start_time": "2022-05-02T06:06:03.740Z"
   },
   {
    "duration": 97,
    "start_time": "2022-05-02T06:06:03.882Z"
   },
   {
    "duration": 25,
    "start_time": "2022-05-02T06:06:03.981Z"
   },
   {
    "duration": 39,
    "start_time": "2022-05-02T06:06:04.008Z"
   },
   {
    "duration": 5,
    "start_time": "2022-05-02T06:06:05.325Z"
   },
   {
    "duration": 9,
    "start_time": "2022-05-02T06:06:06.459Z"
   },
   {
    "duration": 13,
    "start_time": "2022-05-02T06:06:12.330Z"
   },
   {
    "duration": 9,
    "start_time": "2022-05-02T06:06:39.583Z"
   },
   {
    "duration": 53,
    "start_time": "2022-05-02T06:06:51.561Z"
   },
   {
    "duration": 58,
    "start_time": "2022-05-02T06:06:51.837Z"
   },
   {
    "duration": 37,
    "start_time": "2022-05-02T06:06:52.870Z"
   },
   {
    "duration": 33,
    "start_time": "2022-05-02T06:06:53.377Z"
   },
   {
    "duration": 40,
    "start_time": "2022-05-02T06:06:54.179Z"
   },
   {
    "duration": 37,
    "start_time": "2022-05-02T06:06:54.547Z"
   },
   {
    "duration": 24,
    "start_time": "2022-05-02T06:06:55.388Z"
   },
   {
    "duration": 5,
    "start_time": "2022-05-02T06:06:55.865Z"
   },
   {
    "duration": 3,
    "start_time": "2022-05-02T06:06:56.235Z"
   },
   {
    "duration": 2,
    "start_time": "2022-05-02T06:08:16.021Z"
   },
   {
    "duration": 57,
    "start_time": "2022-05-02T06:08:16.277Z"
   },
   {
    "duration": 1039,
    "start_time": "2022-05-02T06:08:28.725Z"
   },
   {
    "duration": 279,
    "start_time": "2022-05-02T06:08:29.765Z"
   },
   {
    "duration": 140,
    "start_time": "2022-05-02T06:08:30.046Z"
   },
   {
    "duration": 101,
    "start_time": "2022-05-02T06:08:30.199Z"
   },
   {
    "duration": 25,
    "start_time": "2022-05-02T06:08:30.302Z"
   },
   {
    "duration": 40,
    "start_time": "2022-05-02T06:08:30.328Z"
   },
   {
    "duration": 6,
    "start_time": "2022-05-02T06:08:30.369Z"
   },
   {
    "duration": 16,
    "start_time": "2022-05-02T06:08:30.376Z"
   },
   {
    "duration": 16,
    "start_time": "2022-05-02T06:08:30.393Z"
   },
   {
    "duration": 54,
    "start_time": "2022-05-02T06:08:30.412Z"
   },
   {
    "duration": 74,
    "start_time": "2022-05-02T06:08:30.467Z"
   },
   {
    "duration": 36,
    "start_time": "2022-05-02T06:08:30.542Z"
   },
   {
    "duration": 49,
    "start_time": "2022-05-02T06:08:30.579Z"
   },
   {
    "duration": 41,
    "start_time": "2022-05-02T06:08:30.629Z"
   },
   {
    "duration": 53,
    "start_time": "2022-05-02T06:08:30.672Z"
   },
   {
    "duration": 24,
    "start_time": "2022-05-02T06:08:30.727Z"
   },
   {
    "duration": 5,
    "start_time": "2022-05-02T06:08:30.753Z"
   },
   {
    "duration": 38,
    "start_time": "2022-05-02T06:08:30.759Z"
   },
   {
    "duration": 17,
    "start_time": "2022-05-02T06:08:30.799Z"
   },
   {
    "duration": 411,
    "start_time": "2022-05-02T06:08:30.817Z"
   },
   {
    "duration": 39,
    "start_time": "2022-05-02T06:08:31.230Z"
   },
   {
    "duration": 5170,
    "start_time": "2022-05-02T06:08:31.270Z"
   },
   {
    "duration": 17,
    "start_time": "2022-05-02T06:08:36.441Z"
   },
   {
    "duration": 5,
    "start_time": "2022-05-02T06:08:36.460Z"
   },
   {
    "duration": 1435,
    "start_time": "2022-05-02T06:08:36.467Z"
   },
   {
    "duration": 163,
    "start_time": "2022-05-02T06:09:26.046Z"
   },
   {
    "duration": 239,
    "start_time": "2022-05-02T06:09:26.290Z"
   },
   {
    "duration": 32,
    "start_time": "2022-05-02T06:09:52.803Z"
   },
   {
    "duration": 12,
    "start_time": "2022-05-02T06:09:57.718Z"
   },
   {
    "duration": 27,
    "start_time": "2022-05-02T06:10:04.254Z"
   },
   {
    "duration": 5,
    "start_time": "2022-05-02T06:10:24.229Z"
   },
   {
    "duration": 20,
    "start_time": "2022-05-02T06:10:28.290Z"
   },
   {
    "duration": 5,
    "start_time": "2022-05-02T06:11:10.295Z"
   },
   {
    "duration": 5,
    "start_time": "2022-05-02T06:12:08.655Z"
   },
   {
    "duration": 73,
    "start_time": "2022-05-02T06:12:09.115Z"
   },
   {
    "duration": 24,
    "start_time": "2022-05-02T06:12:13.407Z"
   },
   {
    "duration": 9,
    "start_time": "2022-05-02T06:12:28.275Z"
   },
   {
    "duration": 10,
    "start_time": "2022-05-02T06:13:21.446Z"
   },
   {
    "duration": 13,
    "start_time": "2022-05-02T06:13:27.628Z"
   },
   {
    "duration": 30,
    "start_time": "2022-05-02T06:14:24.089Z"
   },
   {
    "duration": 940,
    "start_time": "2022-05-02T06:14:40.518Z"
   },
   {
    "duration": 15,
    "start_time": "2022-05-02T06:19:18.480Z"
   },
   {
    "duration": 10,
    "start_time": "2022-05-02T06:19:30.543Z"
   },
   {
    "duration": 5,
    "start_time": "2022-05-02T06:19:35.148Z"
   },
   {
    "duration": 10,
    "start_time": "2022-05-02T06:19:58.338Z"
   },
   {
    "duration": 4,
    "start_time": "2022-05-02T06:20:29.443Z"
   },
   {
    "duration": 4,
    "start_time": "2022-05-02T06:20:38.302Z"
   },
   {
    "duration": 13,
    "start_time": "2022-05-02T06:23:49.582Z"
   },
   {
    "duration": 10,
    "start_time": "2022-05-02T06:24:22.073Z"
   },
   {
    "duration": 18,
    "start_time": "2022-05-02T06:24:46.827Z"
   },
   {
    "duration": 4,
    "start_time": "2022-05-02T06:25:04.530Z"
   },
   {
    "duration": 4,
    "start_time": "2022-05-02T06:29:44.453Z"
   },
   {
    "duration": 3,
    "start_time": "2022-05-02T06:29:58.986Z"
   },
   {
    "duration": 3,
    "start_time": "2022-05-02T06:30:24.489Z"
   },
   {
    "duration": 3,
    "start_time": "2022-05-02T06:30:35.776Z"
   },
   {
    "duration": 3,
    "start_time": "2022-05-02T06:30:50.015Z"
   },
   {
    "duration": 4,
    "start_time": "2022-05-02T06:30:53.743Z"
   },
   {
    "duration": 4,
    "start_time": "2022-05-02T06:31:38.093Z"
   },
   {
    "duration": 4,
    "start_time": "2022-05-02T06:31:39.311Z"
   },
   {
    "duration": 4,
    "start_time": "2022-05-02T06:31:55.065Z"
   },
   {
    "duration": 4,
    "start_time": "2022-05-02T06:32:01.793Z"
   },
   {
    "duration": 1123,
    "start_time": "2022-05-02T06:37:03.923Z"
   },
   {
    "duration": 165,
    "start_time": "2022-05-02T06:37:05.047Z"
   },
   {
    "duration": 157,
    "start_time": "2022-05-02T06:37:05.213Z"
   },
   {
    "duration": 103,
    "start_time": "2022-05-02T06:37:05.373Z"
   },
   {
    "duration": 27,
    "start_time": "2022-05-02T06:37:05.478Z"
   },
   {
    "duration": 39,
    "start_time": "2022-05-02T06:37:05.507Z"
   },
   {
    "duration": 6,
    "start_time": "2022-05-02T06:37:05.548Z"
   },
   {
    "duration": 10,
    "start_time": "2022-05-02T06:37:05.556Z"
   },
   {
    "duration": 13,
    "start_time": "2022-05-02T06:37:05.568Z"
   },
   {
    "duration": 84,
    "start_time": "2022-05-02T06:37:05.599Z"
   },
   {
    "duration": 98,
    "start_time": "2022-05-02T06:37:05.685Z"
   },
   {
    "duration": 63,
    "start_time": "2022-05-02T06:37:05.785Z"
   },
   {
    "duration": 58,
    "start_time": "2022-05-02T06:37:05.850Z"
   },
   {
    "duration": 64,
    "start_time": "2022-05-02T06:37:05.910Z"
   },
   {
    "duration": 70,
    "start_time": "2022-05-02T06:37:05.976Z"
   },
   {
    "duration": 33,
    "start_time": "2022-05-02T06:37:06.048Z"
   },
   {
    "duration": 7,
    "start_time": "2022-05-02T06:37:06.099Z"
   },
   {
    "duration": 7,
    "start_time": "2022-05-02T06:37:06.108Z"
   },
   {
    "duration": 7,
    "start_time": "2022-05-02T06:37:06.117Z"
   },
   {
    "duration": 645,
    "start_time": "2022-05-02T06:37:06.126Z"
   },
   {
    "duration": 58,
    "start_time": "2022-05-02T06:37:06.773Z"
   },
   {
    "duration": 7662,
    "start_time": "2022-05-02T06:37:06.833Z"
   },
   {
    "duration": 20,
    "start_time": "2022-05-02T06:37:14.500Z"
   },
   {
    "duration": 5,
    "start_time": "2022-05-02T06:37:14.522Z"
   },
   {
    "duration": 1552,
    "start_time": "2022-05-02T06:37:14.529Z"
   },
   {
    "duration": 187,
    "start_time": "2022-05-02T06:37:16.083Z"
   },
   {
    "duration": 247,
    "start_time": "2022-05-02T06:37:16.272Z"
   },
   {
    "duration": 34,
    "start_time": "2022-05-02T06:37:16.524Z"
   },
   {
    "duration": 13,
    "start_time": "2022-05-02T06:37:16.559Z"
   },
   {
    "duration": 53,
    "start_time": "2022-05-02T06:37:16.574Z"
   },
   {
    "duration": 6,
    "start_time": "2022-05-02T06:37:16.629Z"
   },
   {
    "duration": 20,
    "start_time": "2022-05-02T06:37:16.637Z"
   },
   {
    "duration": 5,
    "start_time": "2022-05-02T06:37:16.659Z"
   },
   {
    "duration": 74,
    "start_time": "2022-05-02T06:37:16.700Z"
   },
   {
    "duration": 42,
    "start_time": "2022-05-02T06:37:16.776Z"
   },
   {
    "duration": 7,
    "start_time": "2022-05-02T06:37:16.820Z"
   },
   {
    "duration": 15,
    "start_time": "2022-05-02T06:37:16.828Z"
   },
   {
    "duration": 12,
    "start_time": "2022-05-02T06:37:16.844Z"
   },
   {
    "duration": 59,
    "start_time": "2022-05-02T06:37:16.858Z"
   },
   {
    "duration": 1167,
    "start_time": "2022-05-02T06:38:44.097Z"
   },
   {
    "duration": 167,
    "start_time": "2022-05-02T06:38:45.266Z"
   },
   {
    "duration": 142,
    "start_time": "2022-05-02T06:38:45.434Z"
   },
   {
    "duration": 99,
    "start_time": "2022-05-02T06:38:45.577Z"
   },
   {
    "duration": 25,
    "start_time": "2022-05-02T06:38:45.677Z"
   },
   {
    "duration": 38,
    "start_time": "2022-05-02T06:38:45.704Z"
   },
   {
    "duration": 5,
    "start_time": "2022-05-02T06:38:45.743Z"
   },
   {
    "duration": 10,
    "start_time": "2022-05-02T06:38:45.750Z"
   },
   {
    "duration": 12,
    "start_time": "2022-05-02T06:38:45.762Z"
   },
   {
    "duration": 66,
    "start_time": "2022-05-02T06:38:45.776Z"
   },
   {
    "duration": 71,
    "start_time": "2022-05-02T06:38:45.844Z"
   },
   {
    "duration": 37,
    "start_time": "2022-05-02T06:38:45.917Z"
   },
   {
    "duration": 54,
    "start_time": "2022-05-02T06:38:45.956Z"
   },
   {
    "duration": 45,
    "start_time": "2022-05-02T06:38:46.012Z"
   },
   {
    "duration": 66,
    "start_time": "2022-05-02T06:38:46.059Z"
   },
   {
    "duration": 25,
    "start_time": "2022-05-02T06:38:46.127Z"
   },
   {
    "duration": 6,
    "start_time": "2022-05-02T06:38:46.153Z"
   },
   {
    "duration": 5,
    "start_time": "2022-05-02T06:38:46.160Z"
   },
   {
    "duration": 36,
    "start_time": "2022-05-02T06:38:46.166Z"
   },
   {
    "duration": 398,
    "start_time": "2022-05-02T06:38:46.203Z"
   },
   {
    "duration": 46,
    "start_time": "2022-05-02T06:38:46.603Z"
   },
   {
    "duration": 4673,
    "start_time": "2022-05-02T06:38:46.651Z"
   },
   {
    "duration": 18,
    "start_time": "2022-05-02T06:38:51.326Z"
   },
   {
    "duration": 2,
    "start_time": "2022-05-02T06:38:51.346Z"
   },
   {
    "duration": 1468,
    "start_time": "2022-05-02T06:38:51.350Z"
   },
   {
    "duration": 182,
    "start_time": "2022-05-02T06:38:52.820Z"
   },
   {
    "duration": 231,
    "start_time": "2022-05-02T06:38:53.004Z"
   },
   {
    "duration": 33,
    "start_time": "2022-05-02T06:38:53.238Z"
   },
   {
    "duration": 28,
    "start_time": "2022-05-02T06:38:53.273Z"
   },
   {
    "duration": 29,
    "start_time": "2022-05-02T06:38:53.303Z"
   },
   {
    "duration": 5,
    "start_time": "2022-05-02T06:38:53.334Z"
   },
   {
    "duration": 19,
    "start_time": "2022-05-02T06:38:53.340Z"
   },
   {
    "duration": 7,
    "start_time": "2022-05-02T06:38:53.360Z"
   },
   {
    "duration": 100,
    "start_time": "2022-05-02T06:38:53.368Z"
   },
   {
    "duration": 36,
    "start_time": "2022-05-02T06:38:53.470Z"
   },
   {
    "duration": 8,
    "start_time": "2022-05-02T06:38:53.508Z"
   },
   {
    "duration": 12,
    "start_time": "2022-05-02T06:38:53.517Z"
   },
   {
    "duration": 11,
    "start_time": "2022-05-02T06:38:53.531Z"
   },
   {
    "duration": 58,
    "start_time": "2022-05-02T06:38:53.544Z"
   },
   {
    "duration": 683,
    "start_time": "2022-05-02T06:38:53.604Z"
   },
   {
    "duration": 18,
    "start_time": "2022-05-02T06:38:54.289Z"
   },
   {
    "duration": 13,
    "start_time": "2022-05-02T06:38:54.308Z"
   },
   {
    "duration": 6,
    "start_time": "2022-05-02T06:38:54.322Z"
   },
   {
    "duration": 5,
    "start_time": "2022-05-02T06:38:54.329Z"
   },
   {
    "duration": 12,
    "start_time": "2022-05-02T06:38:54.336Z"
   },
   {
    "duration": 3,
    "start_time": "2022-05-02T06:38:54.349Z"
   },
   {
    "duration": 1236,
    "start_time": "2022-05-05T12:09:24.000Z"
   },
   {
    "duration": 167,
    "start_time": "2022-05-05T12:09:25.238Z"
   },
   {
    "duration": 142,
    "start_time": "2022-05-05T12:09:25.406Z"
   },
   {
    "duration": 97,
    "start_time": "2022-05-05T12:09:25.550Z"
   },
   {
    "duration": 21,
    "start_time": "2022-05-05T12:09:25.649Z"
   },
   {
    "duration": 32,
    "start_time": "2022-05-05T12:09:25.672Z"
   },
   {
    "duration": 7,
    "start_time": "2022-05-05T12:09:25.706Z"
   },
   {
    "duration": 15,
    "start_time": "2022-05-05T12:09:25.715Z"
   },
   {
    "duration": 22,
    "start_time": "2022-05-05T12:09:25.732Z"
   },
   {
    "duration": 98,
    "start_time": "2022-05-05T12:09:25.757Z"
   },
   {
    "duration": 59,
    "start_time": "2022-05-05T12:09:25.856Z"
   },
   {
    "duration": 52,
    "start_time": "2022-05-05T12:09:25.916Z"
   },
   {
    "duration": 32,
    "start_time": "2022-05-05T12:09:25.969Z"
   },
   {
    "duration": 61,
    "start_time": "2022-05-05T12:09:26.003Z"
   },
   {
    "duration": 37,
    "start_time": "2022-05-05T12:09:26.066Z"
   },
   {
    "duration": 24,
    "start_time": "2022-05-05T12:09:26.105Z"
   },
   {
    "duration": 6,
    "start_time": "2022-05-05T12:09:26.148Z"
   },
   {
    "duration": 4,
    "start_time": "2022-05-05T12:09:26.156Z"
   },
   {
    "duration": 6,
    "start_time": "2022-05-05T12:09:26.162Z"
   },
   {
    "duration": 451,
    "start_time": "2022-05-05T12:09:26.170Z"
   },
   {
    "duration": 58,
    "start_time": "2022-05-05T12:09:26.622Z"
   },
   {
    "duration": 4850,
    "start_time": "2022-05-05T12:09:26.682Z"
   },
   {
    "duration": 23,
    "start_time": "2022-05-05T12:09:31.534Z"
   },
   {
    "duration": 11,
    "start_time": "2022-05-05T12:09:31.558Z"
   },
   {
    "duration": 1447,
    "start_time": "2022-05-05T12:09:31.570Z"
   },
   {
    "duration": 176,
    "start_time": "2022-05-05T12:09:33.019Z"
   },
   {
    "duration": 224,
    "start_time": "2022-05-05T12:09:33.197Z"
   },
   {
    "duration": 36,
    "start_time": "2022-05-05T12:09:33.424Z"
   },
   {
    "duration": 12,
    "start_time": "2022-05-05T12:09:33.462Z"
   },
   {
    "duration": 27,
    "start_time": "2022-05-05T12:09:33.475Z"
   },
   {
    "duration": 5,
    "start_time": "2022-05-05T12:09:33.503Z"
   },
   {
    "duration": 43,
    "start_time": "2022-05-05T12:09:33.509Z"
   },
   {
    "duration": 4,
    "start_time": "2022-05-05T12:09:33.554Z"
   },
   {
    "duration": 75,
    "start_time": "2022-05-05T12:09:33.559Z"
   },
   {
    "duration": 23,
    "start_time": "2022-05-05T12:09:33.647Z"
   },
   {
    "duration": 7,
    "start_time": "2022-05-05T12:09:33.672Z"
   },
   {
    "duration": 12,
    "start_time": "2022-05-05T12:09:33.680Z"
   },
   {
    "duration": 15,
    "start_time": "2022-05-05T12:09:33.693Z"
   },
   {
    "duration": 52,
    "start_time": "2022-05-05T12:09:33.709Z"
   },
   {
    "duration": 681,
    "start_time": "2022-05-05T12:09:33.762Z"
   },
   {
    "duration": 11,
    "start_time": "2022-05-05T12:09:34.447Z"
   },
   {
    "duration": 4,
    "start_time": "2022-05-05T12:09:34.459Z"
   },
   {
    "duration": 4,
    "start_time": "2022-05-05T12:09:34.464Z"
   },
   {
    "duration": 5,
    "start_time": "2022-05-05T12:09:34.470Z"
   },
   {
    "duration": 11,
    "start_time": "2022-05-05T12:09:34.476Z"
   },
   {
    "duration": 1829,
    "start_time": "2022-05-05T12:13:13.440Z"
   },
   {
    "duration": 24,
    "start_time": "2022-05-05T12:13:27.224Z"
   },
   {
    "duration": 17,
    "start_time": "2022-05-05T12:13:33.648Z"
   },
   {
    "duration": 26,
    "start_time": "2022-05-05T12:22:11.830Z"
   },
   {
    "duration": 147,
    "start_time": "2022-05-13T14:35:17.757Z"
   },
   {
    "duration": 48,
    "start_time": "2022-05-13T14:37:24.576Z"
   },
   {
    "duration": 1360,
    "start_time": "2022-05-13T14:37:32.800Z"
   },
   {
    "duration": 185,
    "start_time": "2022-05-13T14:37:34.162Z"
   },
   {
    "duration": 164,
    "start_time": "2022-05-13T14:37:34.349Z"
   },
   {
    "duration": 103,
    "start_time": "2022-05-13T14:37:34.515Z"
   },
   {
    "duration": 30,
    "start_time": "2022-05-13T14:37:34.619Z"
   },
   {
    "duration": 29,
    "start_time": "2022-05-13T14:37:34.651Z"
   },
   {
    "duration": 6,
    "start_time": "2022-05-13T14:37:36.109Z"
   },
   {
    "duration": 10,
    "start_time": "2022-05-13T14:37:36.805Z"
   },
   {
    "duration": 196,
    "start_time": "2022-05-13T14:37:38.728Z"
   },
   {
    "duration": 5,
    "start_time": "2022-05-13T14:39:03.157Z"
   },
   {
    "duration": 206,
    "start_time": "2022-05-13T14:39:26.429Z"
   },
   {
    "duration": 240,
    "start_time": "2022-05-13T14:39:48.683Z"
   },
   {
    "duration": 277,
    "start_time": "2022-05-13T14:40:14.488Z"
   },
   {
    "duration": 162,
    "start_time": "2022-05-13T14:41:20.129Z"
   },
   {
    "duration": 7,
    "start_time": "2022-05-13T14:41:35.957Z"
   },
   {
    "duration": 174,
    "start_time": "2022-05-13T14:42:18.040Z"
   },
   {
    "duration": 64,
    "start_time": "2022-05-13T14:43:06.566Z"
   },
   {
    "duration": 5,
    "start_time": "2022-05-13T14:43:12.200Z"
   },
   {
    "duration": 20,
    "start_time": "2022-05-13T14:43:37.457Z"
   },
   {
    "duration": 142,
    "start_time": "2022-05-13T14:44:35.694Z"
   },
   {
    "duration": 159,
    "start_time": "2022-05-13T14:45:21.524Z"
   },
   {
    "duration": 12,
    "start_time": "2022-05-13T14:45:42.908Z"
   },
   {
    "duration": 19,
    "start_time": "2022-05-13T14:46:07.120Z"
   },
   {
    "duration": 25,
    "start_time": "2022-05-13T14:47:35.416Z"
   },
   {
    "duration": 20,
    "start_time": "2022-05-13T14:47:40.747Z"
   },
   {
    "duration": 7,
    "start_time": "2022-05-13T14:47:41.540Z"
   },
   {
    "duration": 20,
    "start_time": "2022-05-13T14:47:41.779Z"
   },
   {
    "duration": 96,
    "start_time": "2022-05-13T14:47:42.391Z"
   },
   {
    "duration": 106,
    "start_time": "2022-05-13T14:47:42.595Z"
   },
   {
    "duration": 59,
    "start_time": "2022-05-13T14:47:43.026Z"
   },
   {
    "duration": 60,
    "start_time": "2022-05-13T14:47:43.247Z"
   },
   {
    "duration": 71,
    "start_time": "2022-05-13T14:47:43.702Z"
   },
   {
    "duration": 589,
    "start_time": "2022-05-13T14:47:43.955Z"
   },
   {
    "duration": 44,
    "start_time": "2022-05-13T14:48:11.809Z"
   },
   {
    "duration": 148,
    "start_time": "2022-05-13T14:48:30.836Z"
   },
   {
    "duration": 13,
    "start_time": "2022-05-13T14:54:56.518Z"
   },
   {
    "duration": 35,
    "start_time": "2022-05-13T14:55:02.607Z"
   },
   {
    "duration": 34,
    "start_time": "2022-05-13T14:55:03.733Z"
   },
   {
    "duration": 10,
    "start_time": "2022-05-13T14:55:04.143Z"
   },
   {
    "duration": 4,
    "start_time": "2022-05-13T14:55:04.518Z"
   },
   {
    "duration": 10,
    "start_time": "2022-05-13T14:55:04.919Z"
   },
   {
    "duration": 24,
    "start_time": "2022-05-13T14:55:06.235Z"
   },
   {
    "duration": 32,
    "start_time": "2022-05-13T14:55:06.781Z"
   },
   {
    "duration": 8,
    "start_time": "2022-05-13T14:55:07.144Z"
   },
   {
    "duration": 27,
    "start_time": "2022-05-13T14:55:07.522Z"
   },
   {
    "duration": 5,
    "start_time": "2022-05-13T14:55:08.292Z"
   },
   {
    "duration": 87,
    "start_time": "2022-05-13T14:55:08.591Z"
   },
   {
    "duration": 29,
    "start_time": "2022-05-13T14:55:09.748Z"
   },
   {
    "duration": 12,
    "start_time": "2022-05-13T14:55:10.185Z"
   },
   {
    "duration": 12,
    "start_time": "2022-05-13T14:55:11.756Z"
   },
   {
    "duration": 13,
    "start_time": "2022-05-13T14:55:12.063Z"
   },
   {
    "duration": 32,
    "start_time": "2022-05-13T14:55:12.386Z"
   },
   {
    "duration": 150,
    "start_time": "2022-05-13T14:55:32.170Z"
   },
   {
    "duration": 4,
    "start_time": "2022-05-13T14:56:43.408Z"
   },
   {
    "duration": 88,
    "start_time": "2022-05-13T14:56:44.046Z"
   },
   {
    "duration": 124,
    "start_time": "2022-05-13T14:56:51.737Z"
   },
   {
    "duration": 154,
    "start_time": "2022-05-13T14:57:53.068Z"
   },
   {
    "duration": 5,
    "start_time": "2022-05-13T14:58:00.711Z"
   },
   {
    "duration": 360,
    "start_time": "2022-05-13T14:58:01.005Z"
   },
   {
    "duration": 12,
    "start_time": "2022-05-13T14:58:09.210Z"
   },
   {
    "duration": 14,
    "start_time": "2022-05-13T14:58:09.478Z"
   },
   {
    "duration": 35,
    "start_time": "2022-05-13T14:58:09.973Z"
   },
   {
    "duration": 822,
    "start_time": "2022-05-13T14:58:11.798Z"
   },
   {
    "duration": 1140,
    "start_time": "2022-05-13T15:02:12.846Z"
   },
   {
    "duration": 2567,
    "start_time": "2022-05-13T15:02:28.086Z"
   },
   {
    "duration": 4,
    "start_time": "2022-05-13T15:02:48.416Z"
   },
   {
    "duration": 138,
    "start_time": "2022-05-13T15:02:48.623Z"
   },
   {
    "duration": 25,
    "start_time": "2022-05-13T15:02:49.571Z"
   },
   {
    "duration": 10,
    "start_time": "2022-05-13T15:02:49.863Z"
   },
   {
    "duration": 13,
    "start_time": "2022-05-13T15:02:51.154Z"
   },
   {
    "duration": 14,
    "start_time": "2022-05-13T15:02:51.458Z"
   },
   {
    "duration": 34,
    "start_time": "2022-05-13T15:02:51.945Z"
   },
   {
    "duration": 0,
    "start_time": "2022-05-13T15:02:56.266Z"
   },
   {
    "duration": 0,
    "start_time": "2022-05-13T15:03:39.645Z"
   },
   {
    "duration": 73,
    "start_time": "2022-05-14T07:04:11.633Z"
   },
   {
    "duration": 1895,
    "start_time": "2022-05-14T07:04:24.739Z"
   },
   {
    "duration": 255,
    "start_time": "2022-05-14T07:04:26.638Z"
   },
   {
    "duration": 212,
    "start_time": "2022-05-14T07:04:26.895Z"
   },
   {
    "duration": 154,
    "start_time": "2022-05-14T07:04:27.110Z"
   },
   {
    "duration": 35,
    "start_time": "2022-05-14T07:04:27.266Z"
   },
   {
    "duration": 42,
    "start_time": "2022-05-14T07:04:27.303Z"
   },
   {
    "duration": 39,
    "start_time": "2022-05-14T07:04:27.348Z"
   },
   {
    "duration": 18,
    "start_time": "2022-05-14T07:04:27.390Z"
   },
   {
    "duration": 8,
    "start_time": "2022-05-14T07:04:27.411Z"
   },
   {
    "duration": 405,
    "start_time": "2022-05-14T07:04:27.425Z"
   },
   {
    "duration": 316,
    "start_time": "2022-05-14T07:04:27.833Z"
   },
   {
    "duration": 9,
    "start_time": "2022-05-14T07:04:28.152Z"
   },
   {
    "duration": 23,
    "start_time": "2022-05-14T07:04:28.182Z"
   },
   {
    "duration": 11,
    "start_time": "2022-05-14T07:04:28.208Z"
   },
   {
    "duration": 76,
    "start_time": "2022-05-14T07:04:28.221Z"
   },
   {
    "duration": 114,
    "start_time": "2022-05-14T07:04:28.299Z"
   },
   {
    "duration": 113,
    "start_time": "2022-05-14T07:04:28.415Z"
   },
   {
    "duration": 79,
    "start_time": "2022-05-14T07:04:28.531Z"
   },
   {
    "duration": 51,
    "start_time": "2022-05-14T07:04:28.613Z"
   },
   {
    "duration": 72,
    "start_time": "2022-05-14T07:04:28.683Z"
   },
   {
    "duration": 48,
    "start_time": "2022-05-14T07:04:28.781Z"
   },
   {
    "duration": 78,
    "start_time": "2022-05-14T07:04:28.831Z"
   },
   {
    "duration": 10,
    "start_time": "2022-05-14T07:04:28.912Z"
   },
   {
    "duration": 4,
    "start_time": "2022-05-14T07:04:28.925Z"
   },
   {
    "duration": 50,
    "start_time": "2022-05-14T07:04:28.932Z"
   },
   {
    "duration": 23,
    "start_time": "2022-05-14T07:04:28.985Z"
   },
   {
    "duration": 98,
    "start_time": "2022-05-14T07:04:29.011Z"
   },
   {
    "duration": 8,
    "start_time": "2022-05-14T07:04:29.113Z"
   },
   {
    "duration": 36,
    "start_time": "2022-05-14T07:04:29.123Z"
   },
   {
    "duration": 6,
    "start_time": "2022-05-14T07:04:29.181Z"
   },
   {
    "duration": 203,
    "start_time": "2022-05-14T07:04:29.189Z"
   },
   {
    "duration": 43,
    "start_time": "2022-05-14T07:04:29.394Z"
   },
   {
    "duration": 12,
    "start_time": "2022-05-14T07:04:29.439Z"
   },
   {
    "duration": 43,
    "start_time": "2022-05-14T07:04:29.453Z"
   },
   {
    "duration": 27,
    "start_time": "2022-05-14T07:04:29.499Z"
   },
   {
    "duration": 88,
    "start_time": "2022-05-14T07:04:29.528Z"
   },
   {
    "duration": 2264,
    "start_time": "2022-05-14T07:04:29.618Z"
   },
   {
    "duration": 0,
    "start_time": "2022-05-14T07:04:31.885Z"
   },
   {
    "duration": 0,
    "start_time": "2022-05-14T07:04:31.886Z"
   },
   {
    "duration": 0,
    "start_time": "2022-05-14T07:04:31.887Z"
   },
   {
    "duration": 0,
    "start_time": "2022-05-14T07:04:31.889Z"
   },
   {
    "duration": 0,
    "start_time": "2022-05-14T07:04:31.891Z"
   },
   {
    "duration": 31,
    "start_time": "2022-05-14T07:04:48.385Z"
   },
   {
    "duration": 170,
    "start_time": "2022-05-14T07:06:14.099Z"
   },
   {
    "duration": 1382,
    "start_time": "2022-05-14T07:06:24.876Z"
   },
   {
    "duration": 1390,
    "start_time": "2022-05-14T07:06:51.639Z"
   },
   {
    "duration": 1629,
    "start_time": "2022-05-14T07:08:55.942Z"
   },
   {
    "duration": 13,
    "start_time": "2022-05-14T08:38:27.422Z"
   },
   {
    "duration": 13,
    "start_time": "2022-05-14T08:38:53.545Z"
   },
   {
    "duration": 17,
    "start_time": "2022-05-14T08:39:47.588Z"
   },
   {
    "duration": 74,
    "start_time": "2022-05-14T08:40:36.087Z"
   },
   {
    "duration": 9,
    "start_time": "2022-05-14T08:40:38.404Z"
   },
   {
    "duration": 1660,
    "start_time": "2022-05-14T08:40:44.765Z"
   },
   {
    "duration": 252,
    "start_time": "2022-05-14T08:40:46.428Z"
   },
   {
    "duration": 215,
    "start_time": "2022-05-14T08:40:46.682Z"
   },
   {
    "duration": 150,
    "start_time": "2022-05-14T08:40:46.900Z"
   },
   {
    "duration": 39,
    "start_time": "2022-05-14T08:40:47.052Z"
   },
   {
    "duration": 39,
    "start_time": "2022-05-14T08:40:47.093Z"
   },
   {
    "duration": 8,
    "start_time": "2022-05-14T08:40:47.967Z"
   },
   {
    "duration": 14,
    "start_time": "2022-05-14T08:40:48.694Z"
   },
   {
    "duration": 7,
    "start_time": "2022-05-14T08:40:50.763Z"
   },
   {
    "duration": 340,
    "start_time": "2022-05-14T08:40:51.076Z"
   },
   {
    "duration": 285,
    "start_time": "2022-05-14T08:40:51.591Z"
   },
   {
    "duration": 6,
    "start_time": "2022-05-14T08:40:51.883Z"
   },
   {
    "duration": 21,
    "start_time": "2022-05-14T08:40:52.084Z"
   },
   {
    "duration": 10,
    "start_time": "2022-05-14T08:40:52.666Z"
   },
   {
    "duration": 20,
    "start_time": "2022-05-14T08:40:52.823Z"
   },
   {
    "duration": 89,
    "start_time": "2022-05-14T08:40:53.606Z"
   },
   {
    "duration": 87,
    "start_time": "2022-05-14T08:40:53.793Z"
   },
   {
    "duration": 53,
    "start_time": "2022-05-14T08:40:54.325Z"
   },
   {
    "duration": 46,
    "start_time": "2022-05-14T08:40:54.580Z"
   },
   {
    "duration": 64,
    "start_time": "2022-05-14T08:40:54.995Z"
   },
   {
    "duration": 46,
    "start_time": "2022-05-14T08:40:55.251Z"
   },
   {
    "duration": 39,
    "start_time": "2022-05-14T08:40:56.235Z"
   },
   {
    "duration": 8,
    "start_time": "2022-05-14T08:40:56.420Z"
   },
   {
    "duration": 4,
    "start_time": "2022-05-14T08:40:56.711Z"
   },
   {
    "duration": 8,
    "start_time": "2022-05-14T08:40:57.037Z"
   },
   {
    "duration": 18,
    "start_time": "2022-05-14T08:40:58.156Z"
   },
   {
    "duration": 49,
    "start_time": "2022-05-14T08:40:58.378Z"
   },
   {
    "duration": 9,
    "start_time": "2022-05-14T08:40:58.600Z"
   },
   {
    "duration": 32,
    "start_time": "2022-05-14T08:40:58.856Z"
   },
   {
    "duration": 5,
    "start_time": "2022-05-14T08:40:59.339Z"
   },
   {
    "duration": 177,
    "start_time": "2022-05-14T08:40:59.542Z"
   },
   {
    "duration": 42,
    "start_time": "2022-05-14T08:41:00.194Z"
   },
   {
    "duration": 13,
    "start_time": "2022-05-14T08:41:00.421Z"
   },
   {
    "duration": 15,
    "start_time": "2022-05-14T08:41:01.163Z"
   },
   {
    "duration": 20,
    "start_time": "2022-05-14T08:41:01.346Z"
   },
   {
    "duration": 51,
    "start_time": "2022-05-14T08:41:01.519Z"
   },
   {
    "duration": 104,
    "start_time": "2022-05-14T08:41:01.852Z"
   },
   {
    "duration": 29,
    "start_time": "2022-05-14T08:41:02.172Z"
   },
   {
    "duration": 1301,
    "start_time": "2022-05-14T08:41:02.341Z"
   },
   {
    "duration": 15,
    "start_time": "2022-05-14T08:41:03.645Z"
   },
   {
    "duration": 21,
    "start_time": "2022-05-14T08:41:03.662Z"
   },
   {
    "duration": 6,
    "start_time": "2022-05-14T08:41:03.686Z"
   },
   {
    "duration": 6,
    "start_time": "2022-05-14T08:41:03.719Z"
   },
   {
    "duration": 17,
    "start_time": "2022-05-14T08:41:04.392Z"
   },
   {
    "duration": 15,
    "start_time": "2022-05-14T08:42:02.576Z"
   },
   {
    "duration": 17,
    "start_time": "2022-05-14T08:42:06.129Z"
   },
   {
    "duration": 17,
    "start_time": "2022-05-14T08:42:32.651Z"
   },
   {
    "duration": 12,
    "start_time": "2022-05-14T09:00:46.181Z"
   },
   {
    "duration": 1594,
    "start_time": "2022-05-14T10:04:44.010Z"
   },
   {
    "duration": 2025,
    "start_time": "2022-05-14T10:05:05.642Z"
   },
   {
    "duration": 1952,
    "start_time": "2022-05-14T10:06:31.884Z"
   },
   {
    "duration": 1623,
    "start_time": "2022-05-14T10:07:04.291Z"
   },
   {
    "duration": 247,
    "start_time": "2022-05-14T10:07:05.917Z"
   },
   {
    "duration": 227,
    "start_time": "2022-05-14T10:07:06.167Z"
   },
   {
    "duration": 141,
    "start_time": "2022-05-14T10:07:06.396Z"
   },
   {
    "duration": 44,
    "start_time": "2022-05-14T10:07:06.542Z"
   },
   {
    "duration": 40,
    "start_time": "2022-05-14T10:07:06.588Z"
   },
   {
    "duration": 10,
    "start_time": "2022-05-14T10:07:06.631Z"
   },
   {
    "duration": 47,
    "start_time": "2022-05-14T10:07:06.643Z"
   },
   {
    "duration": 6,
    "start_time": "2022-05-14T10:07:06.692Z"
   },
   {
    "duration": 366,
    "start_time": "2022-05-14T10:07:06.700Z"
   },
   {
    "duration": 298,
    "start_time": "2022-05-14T10:07:07.068Z"
   },
   {
    "duration": 15,
    "start_time": "2022-05-14T10:07:07.368Z"
   },
   {
    "duration": 22,
    "start_time": "2022-05-14T10:07:07.385Z"
   },
   {
    "duration": 8,
    "start_time": "2022-05-14T10:07:07.412Z"
   },
   {
    "duration": 61,
    "start_time": "2022-05-14T10:07:07.423Z"
   },
   {
    "duration": 104,
    "start_time": "2022-05-14T10:07:07.487Z"
   },
   {
    "duration": 103,
    "start_time": "2022-05-14T10:07:07.594Z"
   },
   {
    "duration": 63,
    "start_time": "2022-05-14T10:07:07.699Z"
   },
   {
    "duration": 67,
    "start_time": "2022-05-14T10:07:07.764Z"
   },
   {
    "duration": 91,
    "start_time": "2022-05-14T10:07:07.833Z"
   },
   {
    "duration": 61,
    "start_time": "2022-05-14T10:07:07.927Z"
   },
   {
    "duration": 39,
    "start_time": "2022-05-14T10:07:07.990Z"
   },
   {
    "duration": 8,
    "start_time": "2022-05-14T10:07:08.032Z"
   },
   {
    "duration": 6,
    "start_time": "2022-05-14T10:07:08.042Z"
   },
   {
    "duration": 38,
    "start_time": "2022-05-14T10:07:08.050Z"
   },
   {
    "duration": 20,
    "start_time": "2022-05-14T10:07:08.090Z"
   },
   {
    "duration": 86,
    "start_time": "2022-05-14T10:07:08.113Z"
   },
   {
    "duration": 9,
    "start_time": "2022-05-14T10:07:08.201Z"
   },
   {
    "duration": 40,
    "start_time": "2022-05-14T10:07:08.211Z"
   },
   {
    "duration": 30,
    "start_time": "2022-05-14T10:07:08.254Z"
   },
   {
    "duration": 188,
    "start_time": "2022-05-14T10:07:08.286Z"
   },
   {
    "duration": 45,
    "start_time": "2022-05-14T10:07:08.477Z"
   },
   {
    "duration": 18,
    "start_time": "2022-05-14T10:07:08.525Z"
   },
   {
    "duration": 56,
    "start_time": "2022-05-14T10:07:08.546Z"
   },
   {
    "duration": 26,
    "start_time": "2022-05-14T10:07:08.604Z"
   },
   {
    "duration": 77,
    "start_time": "2022-05-14T10:07:08.632Z"
   },
   {
    "duration": 2558,
    "start_time": "2022-05-14T10:07:08.711Z"
   },
   {
    "duration": 0,
    "start_time": "2022-05-14T10:07:11.272Z"
   },
   {
    "duration": 0,
    "start_time": "2022-05-14T10:07:11.275Z"
   },
   {
    "duration": 0,
    "start_time": "2022-05-14T10:07:11.277Z"
   },
   {
    "duration": 0,
    "start_time": "2022-05-14T10:07:11.278Z"
   },
   {
    "duration": 0,
    "start_time": "2022-05-14T10:07:11.281Z"
   },
   {
    "duration": 0,
    "start_time": "2022-05-14T10:07:11.282Z"
   },
   {
    "duration": 0,
    "start_time": "2022-05-14T10:07:11.283Z"
   },
   {
    "duration": 13,
    "start_time": "2022-05-14T10:16:13.704Z"
   },
   {
    "duration": 2072,
    "start_time": "2022-05-14T10:16:24.090Z"
   },
   {
    "duration": 339,
    "start_time": "2022-05-14T10:16:58.200Z"
   },
   {
    "duration": 308,
    "start_time": "2022-05-14T10:18:07.569Z"
   },
   {
    "duration": 331,
    "start_time": "2022-05-14T10:18:17.594Z"
   },
   {
    "duration": 44,
    "start_time": "2022-05-14T10:18:53.199Z"
   },
   {
    "duration": 543,
    "start_time": "2022-05-14T10:19:07.564Z"
   },
   {
    "duration": 376,
    "start_time": "2022-05-14T10:19:23.464Z"
   },
   {
    "duration": 1778,
    "start_time": "2022-05-14T10:19:30.171Z"
   },
   {
    "duration": 371,
    "start_time": "2022-05-14T10:19:31.953Z"
   },
   {
    "duration": 324,
    "start_time": "2022-05-14T10:19:32.327Z"
   },
   {
    "duration": 149,
    "start_time": "2022-05-14T10:19:32.654Z"
   },
   {
    "duration": 33,
    "start_time": "2022-05-14T10:19:32.806Z"
   },
   {
    "duration": 49,
    "start_time": "2022-05-14T10:19:32.841Z"
   },
   {
    "duration": 9,
    "start_time": "2022-05-14T10:19:32.893Z"
   },
   {
    "duration": 18,
    "start_time": "2022-05-14T10:19:32.905Z"
   },
   {
    "duration": 8,
    "start_time": "2022-05-14T10:19:32.925Z"
   },
   {
    "duration": 388,
    "start_time": "2022-05-14T10:19:32.935Z"
   },
   {
    "duration": 399,
    "start_time": "2022-05-14T10:19:33.325Z"
   },
   {
    "duration": 6,
    "start_time": "2022-05-14T10:19:33.726Z"
   },
   {
    "duration": 49,
    "start_time": "2022-05-14T10:19:33.734Z"
   },
   {
    "duration": 11,
    "start_time": "2022-05-14T10:19:33.789Z"
   },
   {
    "duration": 25,
    "start_time": "2022-05-14T10:19:33.803Z"
   },
   {
    "duration": 156,
    "start_time": "2022-05-14T10:19:33.830Z"
   },
   {
    "duration": 134,
    "start_time": "2022-05-14T10:19:33.989Z"
   },
   {
    "duration": 92,
    "start_time": "2022-05-14T10:19:34.126Z"
   },
   {
    "duration": 81,
    "start_time": "2022-05-14T10:19:34.221Z"
   },
   {
    "duration": 105,
    "start_time": "2022-05-14T10:19:34.306Z"
   },
   {
    "duration": 82,
    "start_time": "2022-05-14T10:19:34.414Z"
   },
   {
    "duration": 60,
    "start_time": "2022-05-14T10:19:34.499Z"
   },
   {
    "duration": 27,
    "start_time": "2022-05-14T10:19:34.562Z"
   },
   {
    "duration": 5,
    "start_time": "2022-05-14T10:19:34.592Z"
   },
   {
    "duration": 13,
    "start_time": "2022-05-14T10:19:34.599Z"
   },
   {
    "duration": 30,
    "start_time": "2022-05-14T10:19:34.615Z"
   },
   {
    "duration": 83,
    "start_time": "2022-05-14T10:19:34.648Z"
   },
   {
    "duration": 8,
    "start_time": "2022-05-14T10:19:34.734Z"
   },
   {
    "duration": 59,
    "start_time": "2022-05-14T10:19:34.745Z"
   },
   {
    "duration": 7,
    "start_time": "2022-05-14T10:19:34.807Z"
   },
   {
    "duration": 221,
    "start_time": "2022-05-14T10:19:34.818Z"
   },
   {
    "duration": 53,
    "start_time": "2022-05-14T10:19:35.042Z"
   },
   {
    "duration": 13,
    "start_time": "2022-05-14T10:19:35.097Z"
   },
   {
    "duration": 25,
    "start_time": "2022-05-14T10:19:35.112Z"
   },
   {
    "duration": 44,
    "start_time": "2022-05-14T10:19:35.139Z"
   },
   {
    "duration": 60,
    "start_time": "2022-05-14T10:19:35.186Z"
   },
   {
    "duration": 42,
    "start_time": "2022-05-14T10:19:35.248Z"
   },
   {
    "duration": 357,
    "start_time": "2022-05-14T10:19:35.292Z"
   },
   {
    "duration": 412,
    "start_time": "2022-05-14T10:19:35.652Z"
   },
   {
    "duration": 1409,
    "start_time": "2022-05-14T10:19:36.066Z"
   },
   {
    "duration": 15,
    "start_time": "2022-05-14T10:19:37.483Z"
   },
   {
    "duration": 10,
    "start_time": "2022-05-14T10:19:37.500Z"
   },
   {
    "duration": 8,
    "start_time": "2022-05-14T10:19:37.512Z"
   },
   {
    "duration": 9,
    "start_time": "2022-05-14T10:19:37.522Z"
   },
   {
    "duration": 58,
    "start_time": "2022-05-14T10:19:37.533Z"
   },
   {
    "duration": 349,
    "start_time": "2022-05-14T10:20:48.039Z"
   },
   {
    "duration": 7,
    "start_time": "2022-05-14T10:57:07.959Z"
   },
   {
    "duration": 26,
    "start_time": "2022-05-14T10:57:08.437Z"
   },
   {
    "duration": 1828,
    "start_time": "2022-05-14T10:58:56.277Z"
   },
   {
    "duration": 420,
    "start_time": "2022-05-14T10:58:58.110Z"
   },
   {
    "duration": 233,
    "start_time": "2022-05-14T10:58:58.533Z"
   },
   {
    "duration": 163,
    "start_time": "2022-05-14T10:58:58.768Z"
   },
   {
    "duration": 31,
    "start_time": "2022-05-14T10:58:58.935Z"
   },
   {
    "duration": 46,
    "start_time": "2022-05-14T10:58:58.982Z"
   },
   {
    "duration": 9,
    "start_time": "2022-05-14T10:58:59.033Z"
   },
   {
    "duration": 41,
    "start_time": "2022-05-14T10:58:59.045Z"
   },
   {
    "duration": 15,
    "start_time": "2022-05-14T10:58:59.089Z"
   },
   {
    "duration": 383,
    "start_time": "2022-05-14T10:58:59.107Z"
   },
   {
    "duration": 315,
    "start_time": "2022-05-14T10:58:59.492Z"
   },
   {
    "duration": 8,
    "start_time": "2022-05-14T10:58:59.811Z"
   },
   {
    "duration": 26,
    "start_time": "2022-05-14T10:58:59.822Z"
   },
   {
    "duration": 32,
    "start_time": "2022-05-14T10:58:59.853Z"
   },
   {
    "duration": 25,
    "start_time": "2022-05-14T10:58:59.890Z"
   },
   {
    "duration": 146,
    "start_time": "2022-05-14T10:58:59.918Z"
   },
   {
    "duration": 106,
    "start_time": "2022-05-14T10:59:00.067Z"
   },
   {
    "duration": 73,
    "start_time": "2022-05-14T10:59:00.181Z"
   },
   {
    "duration": 81,
    "start_time": "2022-05-14T10:59:00.256Z"
   },
   {
    "duration": 95,
    "start_time": "2022-05-14T10:59:00.339Z"
   },
   {
    "duration": 65,
    "start_time": "2022-05-14T10:59:00.436Z"
   },
   {
    "duration": 44,
    "start_time": "2022-05-14T10:59:00.504Z"
   },
   {
    "duration": 37,
    "start_time": "2022-05-14T10:59:00.550Z"
   },
   {
    "duration": 28,
    "start_time": "2022-05-14T10:59:00.592Z"
   },
   {
    "duration": 18,
    "start_time": "2022-05-14T10:59:00.622Z"
   },
   {
    "duration": 21,
    "start_time": "2022-05-14T10:59:00.643Z"
   },
   {
    "duration": 57,
    "start_time": "2022-05-14T10:59:00.667Z"
   },
   {
    "duration": 9,
    "start_time": "2022-05-14T10:59:00.727Z"
   },
   {
    "duration": 59,
    "start_time": "2022-05-14T10:59:00.738Z"
   },
   {
    "duration": 11,
    "start_time": "2022-05-14T10:59:00.799Z"
   },
   {
    "duration": 204,
    "start_time": "2022-05-14T10:59:00.813Z"
   },
   {
    "duration": 43,
    "start_time": "2022-05-14T10:59:01.020Z"
   },
   {
    "duration": 29,
    "start_time": "2022-05-14T10:59:01.065Z"
   },
   {
    "duration": 16,
    "start_time": "2022-05-14T10:59:01.096Z"
   },
   {
    "duration": 39,
    "start_time": "2022-05-14T10:59:01.117Z"
   },
   {
    "duration": 52,
    "start_time": "2022-05-14T10:59:01.198Z"
   },
   {
    "duration": 47,
    "start_time": "2022-05-14T10:59:01.252Z"
   },
   {
    "duration": 459,
    "start_time": "2022-05-14T10:59:01.302Z"
   },
   {
    "duration": 380,
    "start_time": "2022-05-14T10:59:01.763Z"
   },
   {
    "duration": 398,
    "start_time": "2022-05-14T10:59:02.146Z"
   },
   {
    "duration": 1451,
    "start_time": "2022-05-14T10:59:02.551Z"
   },
   {
    "duration": 15,
    "start_time": "2022-05-14T10:59:04.005Z"
   },
   {
    "duration": 8,
    "start_time": "2022-05-14T10:59:04.022Z"
   },
   {
    "duration": 9,
    "start_time": "2022-05-14T10:59:04.032Z"
   },
   {
    "duration": 42,
    "start_time": "2022-05-14T10:59:04.043Z"
   },
   {
    "duration": 24,
    "start_time": "2022-05-14T10:59:04.090Z"
   },
   {
    "duration": 81,
    "start_time": "2022-05-14T12:51:56.906Z"
   },
   {
    "duration": 10,
    "start_time": "2022-05-14T12:51:57.473Z"
   },
   {
    "duration": 1709,
    "start_time": "2022-05-14T12:53:23.309Z"
   },
   {
    "duration": 233,
    "start_time": "2022-05-14T12:53:25.020Z"
   },
   {
    "duration": 206,
    "start_time": "2022-05-14T12:53:25.255Z"
   },
   {
    "duration": 137,
    "start_time": "2022-05-14T12:53:25.463Z"
   },
   {
    "duration": 35,
    "start_time": "2022-05-14T12:53:25.603Z"
   },
   {
    "duration": 53,
    "start_time": "2022-05-14T12:53:25.640Z"
   },
   {
    "duration": 8,
    "start_time": "2022-05-14T12:53:25.695Z"
   },
   {
    "duration": 13,
    "start_time": "2022-05-14T12:53:25.706Z"
   },
   {
    "duration": 6,
    "start_time": "2022-05-14T12:53:25.721Z"
   },
   {
    "duration": 347,
    "start_time": "2022-05-14T12:53:25.730Z"
   },
   {
    "duration": 278,
    "start_time": "2022-05-14T12:53:26.079Z"
   },
   {
    "duration": 7,
    "start_time": "2022-05-14T12:53:26.359Z"
   },
   {
    "duration": 41,
    "start_time": "2022-05-14T12:53:26.368Z"
   },
   {
    "duration": 9,
    "start_time": "2022-05-14T12:53:26.413Z"
   },
   {
    "duration": 22,
    "start_time": "2022-05-14T12:53:26.424Z"
   },
   {
    "duration": 117,
    "start_time": "2022-05-14T12:53:26.448Z"
   },
   {
    "duration": 94,
    "start_time": "2022-05-14T12:53:26.568Z"
   },
   {
    "duration": 67,
    "start_time": "2022-05-14T12:53:26.664Z"
   },
   {
    "duration": 45,
    "start_time": "2022-05-14T12:53:26.733Z"
   },
   {
    "duration": 62,
    "start_time": "2022-05-14T12:53:26.792Z"
   },
   {
    "duration": 60,
    "start_time": "2022-05-14T12:53:26.856Z"
   },
   {
    "duration": 38,
    "start_time": "2022-05-14T12:53:26.918Z"
   },
   {
    "duration": 36,
    "start_time": "2022-05-14T12:53:26.959Z"
   },
   {
    "duration": 8,
    "start_time": "2022-05-14T12:53:26.998Z"
   },
   {
    "duration": 20,
    "start_time": "2022-05-14T12:53:27.008Z"
   },
   {
    "duration": 26,
    "start_time": "2022-05-14T12:53:27.031Z"
   },
   {
    "duration": 68,
    "start_time": "2022-05-14T12:53:27.059Z"
   },
   {
    "duration": 8,
    "start_time": "2022-05-14T12:53:27.129Z"
   },
   {
    "duration": 36,
    "start_time": "2022-05-14T12:53:27.139Z"
   },
   {
    "duration": 6,
    "start_time": "2022-05-14T12:53:27.192Z"
   },
   {
    "duration": 183,
    "start_time": "2022-05-14T12:53:27.201Z"
   },
   {
    "duration": 46,
    "start_time": "2022-05-14T12:53:27.386Z"
   },
   {
    "duration": 12,
    "start_time": "2022-05-14T12:53:27.434Z"
   },
   {
    "duration": 44,
    "start_time": "2022-05-14T12:53:27.449Z"
   },
   {
    "duration": 21,
    "start_time": "2022-05-14T12:53:27.496Z"
   },
   {
    "duration": 48,
    "start_time": "2022-05-14T12:53:27.519Z"
   },
   {
    "duration": 30,
    "start_time": "2022-05-14T12:53:27.593Z"
   },
   {
    "duration": 328,
    "start_time": "2022-05-14T12:53:27.625Z"
   },
   {
    "duration": 277,
    "start_time": "2022-05-14T12:53:27.955Z"
   },
   {
    "duration": 343,
    "start_time": "2022-05-14T12:53:28.234Z"
   },
   {
    "duration": 192,
    "start_time": "2022-05-14T12:53:28.583Z"
   },
   {
    "duration": 0,
    "start_time": "2022-05-14T12:53:28.777Z"
   },
   {
    "duration": 1,
    "start_time": "2022-05-14T12:53:28.778Z"
   },
   {
    "duration": 0,
    "start_time": "2022-05-14T12:53:28.780Z"
   },
   {
    "duration": 0,
    "start_time": "2022-05-14T12:53:28.782Z"
   },
   {
    "duration": 0,
    "start_time": "2022-05-14T12:53:28.784Z"
   },
   {
    "duration": 3894,
    "start_time": "2022-05-14T12:56:48.226Z"
   },
   {
    "duration": 1650,
    "start_time": "2022-05-14T12:57:00.281Z"
   },
   {
    "duration": 267,
    "start_time": "2022-05-14T12:57:01.934Z"
   },
   {
    "duration": 234,
    "start_time": "2022-05-14T12:57:02.205Z"
   },
   {
    "duration": 150,
    "start_time": "2022-05-14T12:57:02.442Z"
   },
   {
    "duration": 40,
    "start_time": "2022-05-14T12:57:02.598Z"
   },
   {
    "duration": 50,
    "start_time": "2022-05-14T12:57:02.640Z"
   },
   {
    "duration": 20,
    "start_time": "2022-05-14T12:57:02.692Z"
   },
   {
    "duration": 18,
    "start_time": "2022-05-14T12:57:02.715Z"
   },
   {
    "duration": 7,
    "start_time": "2022-05-14T12:57:02.736Z"
   },
   {
    "duration": 388,
    "start_time": "2022-05-14T12:57:02.745Z"
   },
   {
    "duration": 314,
    "start_time": "2022-05-14T12:57:03.136Z"
   },
   {
    "duration": 6,
    "start_time": "2022-05-14T12:57:03.453Z"
   },
   {
    "duration": 46,
    "start_time": "2022-05-14T12:57:03.461Z"
   },
   {
    "duration": 9,
    "start_time": "2022-05-14T12:57:03.513Z"
   },
   {
    "duration": 21,
    "start_time": "2022-05-14T12:57:03.524Z"
   },
   {
    "duration": 127,
    "start_time": "2022-05-14T12:57:03.547Z"
   },
   {
    "duration": 109,
    "start_time": "2022-05-14T12:57:03.676Z"
   },
   {
    "duration": 68,
    "start_time": "2022-05-14T12:57:03.792Z"
   },
   {
    "duration": 75,
    "start_time": "2022-05-14T12:57:03.863Z"
   },
   {
    "duration": 84,
    "start_time": "2022-05-14T12:57:03.940Z"
   },
   {
    "duration": 44,
    "start_time": "2022-05-14T12:57:04.026Z"
   },
   {
    "duration": 66,
    "start_time": "2022-05-14T12:57:04.072Z"
   },
   {
    "duration": 8,
    "start_time": "2022-05-14T12:57:04.140Z"
   },
   {
    "duration": 10,
    "start_time": "2022-05-14T12:57:04.150Z"
   },
   {
    "duration": 42,
    "start_time": "2022-05-14T12:57:04.163Z"
   },
   {
    "duration": 18,
    "start_time": "2022-05-14T12:57:04.209Z"
   },
   {
    "duration": 80,
    "start_time": "2022-05-14T12:57:04.230Z"
   },
   {
    "duration": 9,
    "start_time": "2022-05-14T12:57:04.313Z"
   },
   {
    "duration": 34,
    "start_time": "2022-05-14T12:57:04.324Z"
   },
   {
    "duration": 9,
    "start_time": "2022-05-14T12:57:04.360Z"
   },
   {
    "duration": 212,
    "start_time": "2022-05-14T12:57:04.371Z"
   },
   {
    "duration": 52,
    "start_time": "2022-05-14T12:57:04.585Z"
   },
   {
    "duration": 13,
    "start_time": "2022-05-14T12:57:04.640Z"
   },
   {
    "duration": 58,
    "start_time": "2022-05-14T12:57:04.655Z"
   },
   {
    "duration": 20,
    "start_time": "2022-05-14T12:57:04.716Z"
   },
   {
    "duration": 71,
    "start_time": "2022-05-14T12:57:04.738Z"
   },
   {
    "duration": 29,
    "start_time": "2022-05-14T12:57:04.811Z"
   },
   {
    "duration": 383,
    "start_time": "2022-05-14T12:57:04.842Z"
   },
   {
    "duration": 310,
    "start_time": "2022-05-14T12:57:05.227Z"
   },
   {
    "duration": 381,
    "start_time": "2022-05-14T12:57:05.539Z"
   },
   {
    "duration": 225,
    "start_time": "2022-05-14T12:57:05.925Z"
   },
   {
    "duration": 0,
    "start_time": "2022-05-14T12:57:06.153Z"
   },
   {
    "duration": 0,
    "start_time": "2022-05-14T12:57:06.155Z"
   },
   {
    "duration": 0,
    "start_time": "2022-05-14T12:57:06.156Z"
   },
   {
    "duration": 0,
    "start_time": "2022-05-14T12:57:06.158Z"
   },
   {
    "duration": 0,
    "start_time": "2022-05-14T12:57:06.159Z"
   },
   {
    "duration": 449,
    "start_time": "2022-05-14T13:02:04.058Z"
   },
   {
    "duration": 604,
    "start_time": "2022-05-14T13:05:46.430Z"
   },
   {
    "duration": 179,
    "start_time": "2022-05-14T13:06:27.702Z"
   },
   {
    "duration": 1649,
    "start_time": "2022-05-14T13:06:39.858Z"
   },
   {
    "duration": 254,
    "start_time": "2022-05-14T13:06:41.510Z"
   },
   {
    "duration": 214,
    "start_time": "2022-05-14T13:06:41.766Z"
   },
   {
    "duration": 144,
    "start_time": "2022-05-14T13:06:41.983Z"
   },
   {
    "duration": 34,
    "start_time": "2022-05-14T13:06:42.132Z"
   },
   {
    "duration": 48,
    "start_time": "2022-05-14T13:06:42.169Z"
   },
   {
    "duration": 9,
    "start_time": "2022-05-14T13:06:42.220Z"
   },
   {
    "duration": 17,
    "start_time": "2022-05-14T13:06:42.232Z"
   },
   {
    "duration": 41,
    "start_time": "2022-05-14T13:06:42.252Z"
   },
   {
    "duration": 347,
    "start_time": "2022-05-14T13:06:42.296Z"
   },
   {
    "duration": 304,
    "start_time": "2022-05-14T13:06:42.645Z"
   },
   {
    "duration": 8,
    "start_time": "2022-05-14T13:06:42.952Z"
   },
   {
    "duration": 48,
    "start_time": "2022-05-14T13:06:42.963Z"
   },
   {
    "duration": 9,
    "start_time": "2022-05-14T13:06:43.017Z"
   },
   {
    "duration": 21,
    "start_time": "2022-05-14T13:06:43.029Z"
   },
   {
    "duration": 122,
    "start_time": "2022-05-14T13:06:43.052Z"
   },
   {
    "duration": 97,
    "start_time": "2022-05-14T13:06:43.177Z"
   },
   {
    "duration": 69,
    "start_time": "2022-05-14T13:06:43.277Z"
   },
   {
    "duration": 74,
    "start_time": "2022-05-14T13:06:43.349Z"
   },
   {
    "duration": 77,
    "start_time": "2022-05-14T13:06:43.425Z"
   },
   {
    "duration": 44,
    "start_time": "2022-05-14T13:06:43.504Z"
   },
   {
    "duration": 59,
    "start_time": "2022-05-14T13:06:43.551Z"
   },
   {
    "duration": 9,
    "start_time": "2022-05-14T13:06:43.612Z"
   },
   {
    "duration": 5,
    "start_time": "2022-05-14T13:06:43.623Z"
   },
   {
    "duration": 13,
    "start_time": "2022-05-14T13:06:43.630Z"
   },
   {
    "duration": 61,
    "start_time": "2022-05-14T13:06:43.645Z"
   },
   {
    "duration": 58,
    "start_time": "2022-05-14T13:06:43.709Z"
   },
   {
    "duration": 23,
    "start_time": "2022-05-14T13:06:43.770Z"
   },
   {
    "duration": 52,
    "start_time": "2022-05-14T13:06:43.796Z"
   },
   {
    "duration": 9,
    "start_time": "2022-05-14T13:06:43.851Z"
   },
   {
    "duration": 328,
    "start_time": "2022-05-14T13:06:43.862Z"
   },
   {
    "duration": 64,
    "start_time": "2022-05-14T13:06:44.194Z"
   },
   {
    "duration": 39,
    "start_time": "2022-05-14T13:06:44.261Z"
   },
   {
    "duration": 24,
    "start_time": "2022-05-14T13:06:44.303Z"
   },
   {
    "duration": 29,
    "start_time": "2022-05-14T13:06:44.330Z"
   },
   {
    "duration": 56,
    "start_time": "2022-05-14T13:06:44.394Z"
   },
   {
    "duration": 56,
    "start_time": "2022-05-14T13:06:44.453Z"
   },
   {
    "duration": 160,
    "start_time": "2022-05-14T13:06:44.511Z"
   },
   {
    "duration": 0,
    "start_time": "2022-05-14T13:06:44.674Z"
   },
   {
    "duration": 0,
    "start_time": "2022-05-14T13:06:44.675Z"
   },
   {
    "duration": 0,
    "start_time": "2022-05-14T13:06:44.677Z"
   },
   {
    "duration": 0,
    "start_time": "2022-05-14T13:06:44.694Z"
   },
   {
    "duration": 0,
    "start_time": "2022-05-14T13:06:44.695Z"
   },
   {
    "duration": 0,
    "start_time": "2022-05-14T13:06:44.697Z"
   },
   {
    "duration": 0,
    "start_time": "2022-05-14T13:06:44.698Z"
   },
   {
    "duration": 0,
    "start_time": "2022-05-14T13:06:44.700Z"
   },
   {
    "duration": 13,
    "start_time": "2022-05-14T13:07:03.429Z"
   },
   {
    "duration": 330,
    "start_time": "2022-05-14T13:07:07.710Z"
   },
   {
    "duration": 280,
    "start_time": "2022-05-14T13:07:09.836Z"
   },
   {
    "duration": 575,
    "start_time": "2022-05-14T13:07:25.335Z"
   },
   {
    "duration": 343,
    "start_time": "2022-05-14T13:07:32.963Z"
   },
   {
    "duration": 618,
    "start_time": "2022-05-14T13:08:15.512Z"
   },
   {
    "duration": 17,
    "start_time": "2022-05-14T13:09:07.444Z"
   },
   {
    "duration": 17,
    "start_time": "2022-05-14T13:09:34.235Z"
   },
   {
    "duration": 1490,
    "start_time": "2022-05-14T13:09:40.620Z"
   },
   {
    "duration": 248,
    "start_time": "2022-05-14T13:09:42.113Z"
   },
   {
    "duration": 310,
    "start_time": "2022-05-14T13:09:42.368Z"
   },
   {
    "duration": 149,
    "start_time": "2022-05-14T13:09:42.682Z"
   },
   {
    "duration": 36,
    "start_time": "2022-05-14T13:09:42.834Z"
   },
   {
    "duration": 49,
    "start_time": "2022-05-14T13:09:42.872Z"
   },
   {
    "duration": 9,
    "start_time": "2022-05-14T13:09:42.924Z"
   },
   {
    "duration": 17,
    "start_time": "2022-05-14T13:09:42.936Z"
   },
   {
    "duration": 7,
    "start_time": "2022-05-14T13:09:42.956Z"
   },
   {
    "duration": 522,
    "start_time": "2022-05-14T13:09:42.995Z"
   },
   {
    "duration": 456,
    "start_time": "2022-05-14T13:09:43.520Z"
   },
   {
    "duration": 16,
    "start_time": "2022-05-14T13:09:43.979Z"
   },
   {
    "duration": 21,
    "start_time": "2022-05-14T13:09:44.001Z"
   },
   {
    "duration": 10,
    "start_time": "2022-05-14T13:09:44.025Z"
   },
   {
    "duration": 61,
    "start_time": "2022-05-14T13:09:44.037Z"
   },
   {
    "duration": 106,
    "start_time": "2022-05-14T13:09:44.101Z"
   },
   {
    "duration": 92,
    "start_time": "2022-05-14T13:09:44.209Z"
   },
   {
    "duration": 52,
    "start_time": "2022-05-14T13:09:44.303Z"
   },
   {
    "duration": 71,
    "start_time": "2022-05-14T13:09:44.357Z"
   },
   {
    "duration": 77,
    "start_time": "2022-05-14T13:09:44.430Z"
   },
   {
    "duration": 43,
    "start_time": "2022-05-14T13:09:44.509Z"
   },
   {
    "duration": 60,
    "start_time": "2022-05-14T13:09:44.554Z"
   },
   {
    "duration": 8,
    "start_time": "2022-05-14T13:09:44.616Z"
   },
   {
    "duration": 6,
    "start_time": "2022-05-14T13:09:44.626Z"
   },
   {
    "duration": 11,
    "start_time": "2022-05-14T13:09:44.634Z"
   },
   {
    "duration": 48,
    "start_time": "2022-05-14T13:09:44.647Z"
   },
   {
    "duration": 49,
    "start_time": "2022-05-14T13:09:44.697Z"
   },
   {
    "duration": 7,
    "start_time": "2022-05-14T13:09:44.748Z"
   },
   {
    "duration": 76,
    "start_time": "2022-05-14T13:09:44.758Z"
   },
   {
    "duration": 7,
    "start_time": "2022-05-14T13:09:44.837Z"
   },
   {
    "duration": 316,
    "start_time": "2022-05-14T13:09:44.847Z"
   },
   {
    "duration": 77,
    "start_time": "2022-05-14T13:09:45.165Z"
   },
   {
    "duration": 17,
    "start_time": "2022-05-14T13:09:45.245Z"
   },
   {
    "duration": 45,
    "start_time": "2022-05-14T13:09:45.264Z"
   },
   {
    "duration": 30,
    "start_time": "2022-05-14T13:09:45.312Z"
   },
   {
    "duration": 89,
    "start_time": "2022-05-14T13:09:45.345Z"
   },
   {
    "duration": 31,
    "start_time": "2022-05-14T13:09:45.436Z"
   },
   {
    "duration": 171,
    "start_time": "2022-05-14T13:09:45.493Z"
   },
   {
    "duration": 0,
    "start_time": "2022-05-14T13:09:45.667Z"
   },
   {
    "duration": 0,
    "start_time": "2022-05-14T13:09:45.669Z"
   },
   {
    "duration": 0,
    "start_time": "2022-05-14T13:09:45.670Z"
   },
   {
    "duration": 0,
    "start_time": "2022-05-14T13:09:45.672Z"
   },
   {
    "duration": 0,
    "start_time": "2022-05-14T13:09:45.693Z"
   },
   {
    "duration": 0,
    "start_time": "2022-05-14T13:09:45.695Z"
   },
   {
    "duration": 0,
    "start_time": "2022-05-14T13:09:45.696Z"
   },
   {
    "duration": 0,
    "start_time": "2022-05-14T13:09:45.698Z"
   },
   {
    "duration": 310,
    "start_time": "2022-05-14T13:09:54.685Z"
   },
   {
    "duration": 420,
    "start_time": "2022-05-14T13:10:21.175Z"
   },
   {
    "duration": 13,
    "start_time": "2022-05-14T13:14:13.928Z"
   },
   {
    "duration": 12,
    "start_time": "2022-05-14T13:14:38.147Z"
   },
   {
    "duration": 330,
    "start_time": "2022-05-14T13:15:55.853Z"
   },
   {
    "duration": 331,
    "start_time": "2022-05-14T13:19:07.448Z"
   },
   {
    "duration": 253,
    "start_time": "2022-05-14T13:20:04.042Z"
   },
   {
    "duration": 4,
    "start_time": "2022-05-14T13:20:29.736Z"
   },
   {
    "duration": 257,
    "start_time": "2022-05-14T13:20:47.496Z"
   },
   {
    "duration": 253,
    "start_time": "2022-05-14T13:20:50.095Z"
   },
   {
    "duration": 316,
    "start_time": "2022-05-14T13:22:11.221Z"
   },
   {
    "duration": 278,
    "start_time": "2022-05-14T13:22:13.582Z"
   },
   {
    "duration": 334,
    "start_time": "2022-05-14T13:22:14.437Z"
   },
   {
    "duration": 11,
    "start_time": "2022-05-14T13:33:26.807Z"
   },
   {
    "duration": 326,
    "start_time": "2022-05-14T13:33:32.306Z"
   },
   {
    "duration": 351,
    "start_time": "2022-05-14T13:36:03.974Z"
   },
   {
    "duration": 1463,
    "start_time": "2022-05-14T13:40:32.950Z"
   },
   {
    "duration": 250,
    "start_time": "2022-05-14T13:40:34.416Z"
   },
   {
    "duration": 212,
    "start_time": "2022-05-14T13:40:34.669Z"
   },
   {
    "duration": 161,
    "start_time": "2022-05-14T13:40:34.883Z"
   },
   {
    "duration": 35,
    "start_time": "2022-05-14T13:40:35.049Z"
   },
   {
    "duration": 54,
    "start_time": "2022-05-14T13:40:35.094Z"
   },
   {
    "duration": 9,
    "start_time": "2022-05-14T13:40:35.150Z"
   },
   {
    "duration": 25,
    "start_time": "2022-05-14T13:40:35.161Z"
   },
   {
    "duration": 8,
    "start_time": "2022-05-14T13:40:35.188Z"
   },
   {
    "duration": 328,
    "start_time": "2022-05-14T13:40:35.205Z"
   },
   {
    "duration": 286,
    "start_time": "2022-05-14T13:40:35.535Z"
   },
   {
    "duration": 6,
    "start_time": "2022-05-14T13:40:35.823Z"
   },
   {
    "duration": 28,
    "start_time": "2022-05-14T13:40:35.832Z"
   },
   {
    "duration": 38,
    "start_time": "2022-05-14T13:40:35.865Z"
   },
   {
    "duration": 30,
    "start_time": "2022-05-14T13:40:35.906Z"
   },
   {
    "duration": 101,
    "start_time": "2022-05-14T13:40:35.938Z"
   },
   {
    "duration": 92,
    "start_time": "2022-05-14T13:40:36.041Z"
   },
   {
    "duration": 66,
    "start_time": "2022-05-14T13:40:36.136Z"
   },
   {
    "duration": 47,
    "start_time": "2022-05-14T13:40:36.204Z"
   },
   {
    "duration": 86,
    "start_time": "2022-05-14T13:40:36.253Z"
   },
   {
    "duration": 61,
    "start_time": "2022-05-14T13:40:36.341Z"
   },
   {
    "duration": 40,
    "start_time": "2022-05-14T13:40:36.404Z"
   },
   {
    "duration": 9,
    "start_time": "2022-05-14T13:40:36.447Z"
   },
   {
    "duration": 5,
    "start_time": "2022-05-14T13:40:36.458Z"
   },
   {
    "duration": 41,
    "start_time": "2022-05-14T13:40:36.465Z"
   },
   {
    "duration": 29,
    "start_time": "2022-05-14T13:40:36.508Z"
   },
   {
    "duration": 71,
    "start_time": "2022-05-14T13:40:36.539Z"
   },
   {
    "duration": 8,
    "start_time": "2022-05-14T13:40:36.613Z"
   },
   {
    "duration": 31,
    "start_time": "2022-05-14T13:40:36.623Z"
   },
   {
    "duration": 6,
    "start_time": "2022-05-14T13:40:36.656Z"
   },
   {
    "duration": 191,
    "start_time": "2022-05-14T13:40:36.694Z"
   },
   {
    "duration": 47,
    "start_time": "2022-05-14T13:40:36.887Z"
   },
   {
    "duration": 12,
    "start_time": "2022-05-14T13:40:36.936Z"
   },
   {
    "duration": 50,
    "start_time": "2022-05-14T13:40:36.950Z"
   },
   {
    "duration": 22,
    "start_time": "2022-05-14T13:40:37.002Z"
   },
   {
    "duration": 48,
    "start_time": "2022-05-14T13:40:37.026Z"
   },
   {
    "duration": 43,
    "start_time": "2022-05-14T13:40:37.076Z"
   },
   {
    "duration": 360,
    "start_time": "2022-05-14T13:40:37.121Z"
   },
   {
    "duration": 282,
    "start_time": "2022-05-14T13:40:37.484Z"
   },
   {
    "duration": 359,
    "start_time": "2022-05-14T13:40:37.769Z"
   },
   {
    "duration": 214,
    "start_time": "2022-05-14T13:40:38.134Z"
   },
   {
    "duration": 0,
    "start_time": "2022-05-14T13:40:38.351Z"
   },
   {
    "duration": 0,
    "start_time": "2022-05-14T13:40:38.353Z"
   },
   {
    "duration": 0,
    "start_time": "2022-05-14T13:40:38.355Z"
   },
   {
    "duration": 0,
    "start_time": "2022-05-14T13:40:38.357Z"
   },
   {
    "duration": 0,
    "start_time": "2022-05-14T13:40:38.358Z"
   },
   {
    "duration": 1569,
    "start_time": "2022-05-14T13:54:52.700Z"
   },
   {
    "duration": 275,
    "start_time": "2022-05-14T13:54:54.272Z"
   },
   {
    "duration": 227,
    "start_time": "2022-05-14T13:54:54.549Z"
   },
   {
    "duration": 159,
    "start_time": "2022-05-14T13:54:54.778Z"
   },
   {
    "duration": 35,
    "start_time": "2022-05-14T13:54:54.940Z"
   },
   {
    "duration": 52,
    "start_time": "2022-05-14T13:54:54.977Z"
   },
   {
    "duration": 9,
    "start_time": "2022-05-14T13:54:55.031Z"
   },
   {
    "duration": 26,
    "start_time": "2022-05-14T13:54:55.042Z"
   },
   {
    "duration": 22,
    "start_time": "2022-05-14T13:54:55.071Z"
   },
   {
    "duration": 354,
    "start_time": "2022-05-14T13:54:55.105Z"
   },
   {
    "duration": 320,
    "start_time": "2022-05-14T13:54:55.461Z"
   },
   {
    "duration": 13,
    "start_time": "2022-05-14T13:54:55.783Z"
   },
   {
    "duration": 34,
    "start_time": "2022-05-14T13:54:55.799Z"
   },
   {
    "duration": 8,
    "start_time": "2022-05-14T13:54:55.838Z"
   },
   {
    "duration": 20,
    "start_time": "2022-05-14T13:54:55.848Z"
   },
   {
    "duration": 147,
    "start_time": "2022-05-14T13:54:55.875Z"
   },
   {
    "duration": 134,
    "start_time": "2022-05-14T13:54:56.024Z"
   },
   {
    "duration": 85,
    "start_time": "2022-05-14T13:54:56.161Z"
   },
   {
    "duration": 86,
    "start_time": "2022-05-14T13:54:56.249Z"
   },
   {
    "duration": 105,
    "start_time": "2022-05-14T13:54:56.338Z"
   },
   {
    "duration": 75,
    "start_time": "2022-05-14T13:54:56.446Z"
   },
   {
    "duration": 40,
    "start_time": "2022-05-14T13:54:56.524Z"
   },
   {
    "duration": 37,
    "start_time": "2022-05-14T13:54:56.567Z"
   },
   {
    "duration": 18,
    "start_time": "2022-05-14T13:54:56.606Z"
   },
   {
    "duration": 12,
    "start_time": "2022-05-14T13:54:56.627Z"
   },
   {
    "duration": 27,
    "start_time": "2022-05-14T13:54:56.642Z"
   },
   {
    "duration": 71,
    "start_time": "2022-05-14T13:54:56.672Z"
   },
   {
    "duration": 9,
    "start_time": "2022-05-14T13:54:56.746Z"
   },
   {
    "duration": 66,
    "start_time": "2022-05-14T13:54:56.757Z"
   },
   {
    "duration": 6,
    "start_time": "2022-05-14T13:54:56.826Z"
   },
   {
    "duration": 208,
    "start_time": "2022-05-14T13:54:56.835Z"
   },
   {
    "duration": 59,
    "start_time": "2022-05-14T13:54:57.046Z"
   },
   {
    "duration": 13,
    "start_time": "2022-05-14T13:54:57.106Z"
   },
   {
    "duration": 20,
    "start_time": "2022-05-14T13:54:57.121Z"
   },
   {
    "duration": 58,
    "start_time": "2022-05-14T13:54:57.143Z"
   },
   {
    "duration": 56,
    "start_time": "2022-05-14T13:54:57.203Z"
   },
   {
    "duration": 52,
    "start_time": "2022-05-14T13:54:57.261Z"
   },
   {
    "duration": 356,
    "start_time": "2022-05-14T13:54:57.316Z"
   },
   {
    "duration": 296,
    "start_time": "2022-05-14T13:54:57.675Z"
   },
   {
    "duration": 366,
    "start_time": "2022-05-14T13:54:57.973Z"
   },
   {
    "duration": 16,
    "start_time": "2022-05-14T13:54:58.345Z"
   },
   {
    "duration": 5,
    "start_time": "2022-05-14T13:54:58.363Z"
   },
   {
    "duration": 7,
    "start_time": "2022-05-14T13:54:58.401Z"
   },
   {
    "duration": 15,
    "start_time": "2022-05-14T13:54:58.410Z"
   },
   {
    "duration": 16,
    "start_time": "2022-05-14T13:54:58.428Z"
   },
   {
    "duration": 15,
    "start_time": "2022-05-14T14:13:12.210Z"
   },
   {
    "duration": 750,
    "start_time": "2022-05-14T14:19:07.612Z"
   },
   {
    "duration": 353,
    "start_time": "2022-05-14T14:19:36.746Z"
   },
   {
    "duration": 376,
    "start_time": "2022-05-14T14:20:43.208Z"
   },
   {
    "duration": 7,
    "start_time": "2022-05-14T14:29:41.019Z"
   },
   {
    "duration": 6,
    "start_time": "2022-05-14T14:29:47.306Z"
   },
   {
    "duration": 7,
    "start_time": "2022-05-14T14:30:19.547Z"
   },
   {
    "duration": 9,
    "start_time": "2022-05-14T14:30:28.223Z"
   },
   {
    "duration": 6,
    "start_time": "2022-05-14T14:38:05.015Z"
   },
   {
    "duration": 143,
    "start_time": "2022-05-14T14:39:32.699Z"
   },
   {
    "duration": 43,
    "start_time": "2022-05-14T14:39:43.925Z"
   },
   {
    "duration": 208,
    "start_time": "2022-05-14T14:39:51.315Z"
   },
   {
    "duration": 23,
    "start_time": "2022-05-14T14:39:57.734Z"
   },
   {
    "duration": 9,
    "start_time": "2022-05-14T14:44:44.297Z"
   },
   {
    "duration": 45,
    "start_time": "2022-05-14T14:45:42.413Z"
   },
   {
    "duration": 47,
    "start_time": "2022-05-14T14:46:02.288Z"
   },
   {
    "duration": 1188,
    "start_time": "2022-05-14T21:55:45.846Z"
   },
   {
    "duration": 192,
    "start_time": "2022-05-14T21:55:47.036Z"
   },
   {
    "duration": 159,
    "start_time": "2022-05-14T21:55:47.230Z"
   },
   {
    "duration": 109,
    "start_time": "2022-05-14T21:55:47.391Z"
   },
   {
    "duration": 27,
    "start_time": "2022-05-14T21:55:47.501Z"
   },
   {
    "duration": 42,
    "start_time": "2022-05-14T21:55:47.530Z"
   },
   {
    "duration": 6,
    "start_time": "2022-05-14T21:55:47.574Z"
   },
   {
    "duration": 11,
    "start_time": "2022-05-14T21:55:47.581Z"
   },
   {
    "duration": 6,
    "start_time": "2022-05-14T21:55:47.594Z"
   },
   {
    "duration": 217,
    "start_time": "2022-05-14T21:55:47.604Z"
   },
   {
    "duration": 171,
    "start_time": "2022-05-14T21:55:47.823Z"
   },
   {
    "duration": 6,
    "start_time": "2022-05-14T21:55:47.996Z"
   },
   {
    "duration": 29,
    "start_time": "2022-05-14T21:55:48.004Z"
   },
   {
    "duration": 8,
    "start_time": "2022-05-14T21:55:48.035Z"
   },
   {
    "duration": 15,
    "start_time": "2022-05-14T21:55:48.045Z"
   },
   {
    "duration": 89,
    "start_time": "2022-05-14T21:55:48.062Z"
   },
   {
    "duration": 75,
    "start_time": "2022-05-14T21:55:48.153Z"
   },
   {
    "duration": 38,
    "start_time": "2022-05-14T21:55:48.230Z"
   },
   {
    "duration": 55,
    "start_time": "2022-05-14T21:55:48.270Z"
   },
   {
    "duration": 48,
    "start_time": "2022-05-14T21:55:48.328Z"
   },
   {
    "duration": 55,
    "start_time": "2022-05-14T21:55:48.378Z"
   },
   {
    "duration": 29,
    "start_time": "2022-05-14T21:55:48.435Z"
   },
   {
    "duration": 7,
    "start_time": "2022-05-14T21:55:48.467Z"
   },
   {
    "duration": 4,
    "start_time": "2022-05-14T21:55:48.476Z"
   },
   {
    "duration": 8,
    "start_time": "2022-05-14T21:55:48.482Z"
   },
   {
    "duration": 16,
    "start_time": "2022-05-14T21:55:48.523Z"
   },
   {
    "duration": 35,
    "start_time": "2022-05-14T21:55:48.541Z"
   },
   {
    "duration": 7,
    "start_time": "2022-05-14T21:55:48.581Z"
   },
   {
    "duration": 53,
    "start_time": "2022-05-14T21:55:48.590Z"
   },
   {
    "duration": 5,
    "start_time": "2022-05-14T21:55:48.645Z"
   },
   {
    "duration": 127,
    "start_time": "2022-05-14T21:55:48.652Z"
   },
   {
    "duration": 42,
    "start_time": "2022-05-14T21:55:48.782Z"
   },
   {
    "duration": 11,
    "start_time": "2022-05-14T21:55:48.825Z"
   },
   {
    "duration": 13,
    "start_time": "2022-05-14T21:55:48.838Z"
   },
   {
    "duration": 32,
    "start_time": "2022-05-14T21:55:48.852Z"
   },
   {
    "duration": 45,
    "start_time": "2022-05-14T21:55:48.885Z"
   },
   {
    "duration": 235,
    "start_time": "2022-05-14T21:55:48.933Z"
   },
   {
    "duration": 194,
    "start_time": "2022-05-14T21:55:49.170Z"
   },
   {
    "duration": 215,
    "start_time": "2022-05-14T21:55:49.367Z"
   },
   {
    "duration": 11,
    "start_time": "2022-05-14T21:55:49.584Z"
   },
   {
    "duration": 4,
    "start_time": "2022-05-14T21:55:49.597Z"
   },
   {
    "duration": 22,
    "start_time": "2022-05-14T21:55:49.602Z"
   },
   {
    "duration": 5,
    "start_time": "2022-05-14T21:55:49.626Z"
   },
   {
    "duration": 9,
    "start_time": "2022-05-14T21:55:49.633Z"
   }
  ],
  "kernelspec": {
   "display_name": "Python 3",
   "language": "python",
   "name": "python3"
  },
  "language_info": {
   "codemirror_mode": {
    "name": "ipython",
    "version": 3
   },
   "file_extension": ".py",
   "mimetype": "text/x-python",
   "name": "python",
   "nbconvert_exporter": "python",
   "pygments_lexer": "ipython3",
   "version": "3.8.8"
  },
  "toc": {
   "base_numbering": 1,
   "nav_menu": {},
   "number_sections": false,
   "sideBar": true,
   "skip_h1_title": false,
   "title_cell": "Table of Contents",
   "title_sidebar": "Contents",
   "toc_cell": false,
   "toc_position": {
    "height": "calc(100% - 180px)",
    "left": "10px",
    "top": "150px",
    "width": "348.352px"
   },
   "toc_section_display": true,
   "toc_window_display": true
  }
 },
 "nbformat": 4,
 "nbformat_minor": 2
}
